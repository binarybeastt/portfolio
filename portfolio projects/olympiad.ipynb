{
  "cells": [
    {
      "cell_type": "markdown",
      "metadata": {
        "id": "G-E3yd0IFY4r"
      },
      "source": [
        "## Predicting Motor Insurance Claims\n",
        "A notebook for Analytics Olympiad which was hosted by Machine Hack\n",
        "\n",
        "### About the dataset\n",
        "The dataset contains information on policyholders of motor insurance such as the type of vehicle,  annual mileage, household statistics, credit score, and more. \n",
        "\n",
        "For the competition, we are expected to obtain a target for prediction which is a binary value on whther the insurance claim occurred or not. The target column is the 'OUTCOME' in the dataset\n",
        "\n",
        "### Objectives\n",
        "In this notebook, we will explore the steps required to approach the classification problem of whether or not a claim occured, from start to finish.\n",
        "\n",
        "The regression model is “by construction” an interpolation model.\n",
        "\n",
        "A test set is also provided, the accuracy on the test set will determine the position of each candidate on the leaderboard. The log loss metric is to be used for measuring accuracy \n",
        "\n",
        "This notebook will guide us through an end-to-end process of:\n",
        "\n",
        "1. Cleaning and Splitting Test Data\n",
        "2. Exploratory Data Analysis\n",
        "3. Feature Engineering\n",
        "4. Model Selection\n",
        "5. Advanced Feature Transformation\n",
        "6. Fitting the Model\n",
        "7. Hyperparameter Optimisation\n",
        "8. Predicting Test Data"
      ]
    },
    {
      "cell_type": "code",
      "execution_count": null,
      "metadata": {
        "id": "LdpVy-bVFY43",
        "outputId": "8ad4dd34-958a-4cfe-8aa6-6010c8734b15"
      },
      "outputs": [
        {
          "name": "stderr",
          "output_type": "stream",
          "text": [
            "c:\\Users\\ibola\\anaconda3\\lib\\site-packages\\xgboost\\compat.py:36: FutureWarning: pandas.Int64Index is deprecated and will be removed from pandas in a future version. Use pandas.Index with the appropriate dtype instead.\n",
            "  from pandas import MultiIndex, Int64Index\n"
          ]
        }
      ],
      "source": [
        "import pandas as pd\n",
        "import numpy as np\n",
        "import matplotlib.pyplot as plt\n",
        "import plotly.express as px\n",
        "import plotly.graph_objects as go\n",
        "import seaborn as sns\n",
        "plt.rc('figure',figsize=(20,11))\n",
        "sns.set_style('darkgrid')\n",
        "from sklearn.model_selection import StratifiedKFold\n",
        "from sklearn.preprocessing import OrdinalEncoder, OneHotEncoder, LabelEncoder, StandardScaler\n",
        "from sklearn.neural_network import MLPClassifier, MLPRegressor\n",
        "\n",
        "from statsmodels.stats.outliers_influence import variance_inflation_factor\n",
        "from sklearn.ensemble import RandomForestRegressor, RandomForestClassifier, AdaBoostClassifier, GradientBoostingClassifier\n",
        "from sklearn.compose import ColumnTransformer\n",
        "\n",
        "from sklearn.neighbors import KNeighborsClassifier, KNeighborsRegressor\n",
        "from sklearn.svm import SVC, LinearSVC, SVR\n",
        "from sklearn.naive_bayes import GaussianNB\n",
        "from sklearn.discriminant_analysis import QuadraticDiscriminantAnalysis\n",
        "from sklearn.feature_selection import RFE\n",
        "from sklearn.tree import DecisionTreeClassifier, DecisionTreeRegressor\n",
        "from sklearn.linear_model import LinearRegression, Ridge, LogisticRegression, Lasso\n",
        "\n",
        "import xgboost as xgb\n",
        "from xgboost import XGBClassifier\n",
        "from xgboost import XGBRegressor\n"
      ]
    },
    {
      "cell_type": "markdown",
      "metadata": {
        "id": "D9wairwuFY46"
      },
      "source": [
        "# 1. Cleaning and Splitting Test Data\n",
        "\n",
        "### 1.1 Understanding the Dimensions\n",
        "First, we'll look at basic descriptions of the data to understand what we're working with."
      ]
    },
    {
      "cell_type": "code",
      "execution_count": null,
      "metadata": {
        "id": "b7oChf_BFY46",
        "outputId": "ce807124-610c-4cc3-9892-d756122bbba5"
      },
      "outputs": [
        {
          "data": {
            "text/html": [
              "<div>\n",
              "<style scoped>\n",
              "    .dataframe tbody tr th:only-of-type {\n",
              "        vertical-align: middle;\n",
              "    }\n",
              "\n",
              "    .dataframe tbody tr th {\n",
              "        vertical-align: top;\n",
              "    }\n",
              "\n",
              "    .dataframe thead th {\n",
              "        text-align: right;\n",
              "    }\n",
              "</style>\n",
              "<table border=\"1\" class=\"dataframe\">\n",
              "  <thead>\n",
              "    <tr style=\"text-align: right;\">\n",
              "      <th></th>\n",
              "      <th>AGE</th>\n",
              "      <th>GENDER</th>\n",
              "      <th>DRIVING_EXPERIENCE</th>\n",
              "      <th>EDUCATION</th>\n",
              "      <th>INCOME</th>\n",
              "      <th>CREDIT_SCORE</th>\n",
              "      <th>VEHICLE_OWNERSHIP</th>\n",
              "      <th>VEHICLE_YEAR</th>\n",
              "      <th>MARRIED</th>\n",
              "      <th>CHILDREN</th>\n",
              "      <th>POSTAL_CODE</th>\n",
              "      <th>ANNUAL_MILEAGE</th>\n",
              "      <th>SPEEDING_VIOLATIONS</th>\n",
              "      <th>DUIS</th>\n",
              "      <th>PAST_ACCIDENTS</th>\n",
              "      <th>OUTCOME</th>\n",
              "      <th>TYPE_OF_VEHICLE</th>\n",
              "    </tr>\n",
              "  </thead>\n",
              "  <tbody>\n",
              "    <tr>\n",
              "      <th>0</th>\n",
              "      <td>40-64</td>\n",
              "      <td>female</td>\n",
              "      <td>20-29y</td>\n",
              "      <td>university</td>\n",
              "      <td>middle class</td>\n",
              "      <td>0.638050</td>\n",
              "      <td>0.0</td>\n",
              "      <td>after 2015</td>\n",
              "      <td>0.0</td>\n",
              "      <td>0.0</td>\n",
              "      <td>37379</td>\n",
              "      <td>11000.0</td>\n",
              "      <td>0</td>\n",
              "      <td>0</td>\n",
              "      <td>0</td>\n",
              "      <td>0.0</td>\n",
              "      <td>Sports Car</td>\n",
              "    </tr>\n",
              "    <tr>\n",
              "      <th>1</th>\n",
              "      <td>26-39</td>\n",
              "      <td>male</td>\n",
              "      <td>20-29y</td>\n",
              "      <td>high school</td>\n",
              "      <td>middle class</td>\n",
              "      <td>0.475741</td>\n",
              "      <td>1.0</td>\n",
              "      <td>before 2015</td>\n",
              "      <td>1.0</td>\n",
              "      <td>0.0</td>\n",
              "      <td>10238</td>\n",
              "      <td>9000.0</td>\n",
              "      <td>0</td>\n",
              "      <td>0</td>\n",
              "      <td>0</td>\n",
              "      <td>1.0</td>\n",
              "      <td>HatchBack</td>\n",
              "    </tr>\n",
              "    <tr>\n",
              "      <th>2</th>\n",
              "      <td>40-64</td>\n",
              "      <td>male</td>\n",
              "      <td>20-29y</td>\n",
              "      <td>none</td>\n",
              "      <td>middle class</td>\n",
              "      <td>0.839817</td>\n",
              "      <td>1.0</td>\n",
              "      <td>before 2015</td>\n",
              "      <td>1.0</td>\n",
              "      <td>1.0</td>\n",
              "      <td>10238</td>\n",
              "      <td>12000.0</td>\n",
              "      <td>0</td>\n",
              "      <td>0</td>\n",
              "      <td>0</td>\n",
              "      <td>1.0</td>\n",
              "      <td>Sedan</td>\n",
              "    </tr>\n",
              "    <tr>\n",
              "      <th>3</th>\n",
              "      <td>40-64</td>\n",
              "      <td>male</td>\n",
              "      <td>20-29y</td>\n",
              "      <td>high school</td>\n",
              "      <td>upper class</td>\n",
              "      <td>0.682527</td>\n",
              "      <td>1.0</td>\n",
              "      <td>before 2015</td>\n",
              "      <td>0.0</td>\n",
              "      <td>1.0</td>\n",
              "      <td>92099</td>\n",
              "      <td>6000.0</td>\n",
              "      <td>1</td>\n",
              "      <td>0</td>\n",
              "      <td>0</td>\n",
              "      <td>1.0</td>\n",
              "      <td>Sedan</td>\n",
              "    </tr>\n",
              "    <tr>\n",
              "      <th>4</th>\n",
              "      <td>40-64</td>\n",
              "      <td>female</td>\n",
              "      <td>20-29y</td>\n",
              "      <td>none</td>\n",
              "      <td>working class</td>\n",
              "      <td>0.572184</td>\n",
              "      <td>1.0</td>\n",
              "      <td>after 2015</td>\n",
              "      <td>1.0</td>\n",
              "      <td>1.0</td>\n",
              "      <td>32122</td>\n",
              "      <td>15000.0</td>\n",
              "      <td>0</td>\n",
              "      <td>0</td>\n",
              "      <td>1</td>\n",
              "      <td>0.0</td>\n",
              "      <td>Sedan</td>\n",
              "    </tr>\n",
              "  </tbody>\n",
              "</table>\n",
              "</div>"
            ],
            "text/plain": [
              "     AGE  GENDER DRIVING_EXPERIENCE    EDUCATION         INCOME  CREDIT_SCORE  \\\n",
              "0  40-64  female             20-29y   university   middle class      0.638050   \n",
              "1  26-39    male             20-29y  high school   middle class      0.475741   \n",
              "2  40-64    male             20-29y         none   middle class      0.839817   \n",
              "3  40-64    male             20-29y  high school    upper class      0.682527   \n",
              "4  40-64  female             20-29y         none  working class      0.572184   \n",
              "\n",
              "   VEHICLE_OWNERSHIP VEHICLE_YEAR  MARRIED  CHILDREN  POSTAL_CODE  \\\n",
              "0                0.0   after 2015      0.0       0.0        37379   \n",
              "1                1.0  before 2015      1.0       0.0        10238   \n",
              "2                1.0  before 2015      1.0       1.0        10238   \n",
              "3                1.0  before 2015      0.0       1.0        92099   \n",
              "4                1.0   after 2015      1.0       1.0        32122   \n",
              "\n",
              "   ANNUAL_MILEAGE  SPEEDING_VIOLATIONS  DUIS  PAST_ACCIDENTS  OUTCOME  \\\n",
              "0         11000.0                    0     0               0      0.0   \n",
              "1          9000.0                    0     0               0      1.0   \n",
              "2         12000.0                    0     0               0      1.0   \n",
              "3          6000.0                    1     0               0      1.0   \n",
              "4         15000.0                    0     0               1      0.0   \n",
              "\n",
              "  TYPE_OF_VEHICLE  \n",
              "0      Sports Car  \n",
              "1       HatchBack  \n",
              "2           Sedan  \n",
              "3           Sedan  \n",
              "4           Sedan  "
            ]
          },
          "execution_count": 2,
          "metadata": {},
          "output_type": "execute_result"
        }
      ],
      "source": [
        "train = pd.read_csv('train.csv')\n",
        "test = pd.read_csv('test.csv')\n",
        "test2 = pd.read_csv('test.csv')\n",
        "train = train.drop(columns=['ID'])\n",
        "train.head()"
      ]
    },
    {
      "cell_type": "code",
      "execution_count": null,
      "metadata": {
        "id": "wbnvt-Q6FY47",
        "outputId": "90b200d2-2426-4084-cdee-08bf4c1fd224"
      },
      "outputs": [
        {
          "name": "stdout",
          "output_type": "stream",
          "text": [
            "Dataset has 105000 rows and 17 columns\n",
            "Duplicates: 0\n",
            "Total Missing Values: 0\n",
            "Number of rows with missing values: 0\n",
            "-------------------------------------\n",
            "For the test set\n",
            "\n",
            "Dataset has 45000 rows and 17 columns\n",
            "Duplicates: 0\n",
            "Total Missing Values: 0\n",
            "Number of rows with missing values: 0\n"
          ]
        }
      ],
      "source": [
        "print(f\"Dataset has {train.shape[0]} rows and {train.shape[1]} columns\")\n",
        "print(f\"Duplicates: {train.duplicated().sum()}\")\n",
        "print(f\"Total Missing Values: {train.isna().sum().sum()}\")\n",
        "print(f\"Number of rows with missing values: {train.isna().any(axis=1).sum()}\")\n",
        "print('-------------------------------------')\n",
        "print('For the test set')\n",
        "print(f\"\\nDataset has {test.shape[0]} rows and {test.shape[1]} columns\")\n",
        "print(f\"Duplicates: {test.duplicated().sum()}\")\n",
        "print(f\"Total Missing Values: {test.isna().sum().sum()}\")\n",
        "print(f\"Number of rows with missing values: {test.isna().any(axis=1).sum()}\")"
      ]
    },
    {
      "cell_type": "markdown",
      "metadata": {
        "id": "vN3ql7sKFY49"
      },
      "source": [
        "### 1.2 Performing Clean Up of Data\n",
        "We have to be careful not to fundamentally change any values relative to others while keeping in mind that we should avoid any leakage as we have not yet split our test set.\n",
        "\n",
        "\n",
        "There is not much cleanup to be done as the data is basically almost perfect"
      ]
    },
    {
      "cell_type": "code",
      "execution_count": null,
      "metadata": {
        "id": "ROHq9tV1FY49",
        "outputId": "78abee55-0ed0-48e8-b09e-832da976189f"
      },
      "outputs": [
        {
          "data": {
            "text/html": [
              "<div>\n",
              "<style scoped>\n",
              "    .dataframe tbody tr th:only-of-type {\n",
              "        vertical-align: middle;\n",
              "    }\n",
              "\n",
              "    .dataframe tbody tr th {\n",
              "        vertical-align: top;\n",
              "    }\n",
              "\n",
              "    .dataframe thead th {\n",
              "        text-align: right;\n",
              "    }\n",
              "</style>\n",
              "<table border=\"1\" class=\"dataframe\">\n",
              "  <thead>\n",
              "    <tr style=\"text-align: right;\">\n",
              "      <th></th>\n",
              "      <th>AGE</th>\n",
              "      <th>GENDER</th>\n",
              "      <th>DRIVING_EXPERIENCE</th>\n",
              "      <th>EDUCATION</th>\n",
              "      <th>INCOME</th>\n",
              "      <th>CREDIT_SCORE</th>\n",
              "      <th>VEHICLE_OWNERSHIP</th>\n",
              "      <th>VEHICLE_YEAR</th>\n",
              "      <th>MARRIED</th>\n",
              "      <th>CHILDREN</th>\n",
              "      <th>POSTAL_CODE</th>\n",
              "      <th>ANNUAL_MILEAGE</th>\n",
              "      <th>SPEEDING_VIOLATIONS</th>\n",
              "      <th>DUIS</th>\n",
              "      <th>PAST_ACCIDENTS</th>\n",
              "      <th>OUTCOME</th>\n",
              "      <th>TYPE_OF_VEHICLE</th>\n",
              "    </tr>\n",
              "  </thead>\n",
              "  <tbody>\n",
              "    <tr>\n",
              "      <th>0</th>\n",
              "      <td>40-64</td>\n",
              "      <td>female</td>\n",
              "      <td>20-29y</td>\n",
              "      <td>university</td>\n",
              "      <td>middle class</td>\n",
              "      <td>0.638050</td>\n",
              "      <td>0.0</td>\n",
              "      <td>after 2015</td>\n",
              "      <td>0.0</td>\n",
              "      <td>0.0</td>\n",
              "      <td>37379</td>\n",
              "      <td>11000.0</td>\n",
              "      <td>0</td>\n",
              "      <td>0</td>\n",
              "      <td>0</td>\n",
              "      <td>0.0</td>\n",
              "      <td>Sports Car</td>\n",
              "    </tr>\n",
              "    <tr>\n",
              "      <th>1</th>\n",
              "      <td>26-39</td>\n",
              "      <td>male</td>\n",
              "      <td>20-29y</td>\n",
              "      <td>high school</td>\n",
              "      <td>middle class</td>\n",
              "      <td>0.475741</td>\n",
              "      <td>1.0</td>\n",
              "      <td>before 2015</td>\n",
              "      <td>1.0</td>\n",
              "      <td>0.0</td>\n",
              "      <td>10238</td>\n",
              "      <td>9000.0</td>\n",
              "      <td>0</td>\n",
              "      <td>0</td>\n",
              "      <td>0</td>\n",
              "      <td>1.0</td>\n",
              "      <td>HatchBack</td>\n",
              "    </tr>\n",
              "    <tr>\n",
              "      <th>2</th>\n",
              "      <td>40-64</td>\n",
              "      <td>male</td>\n",
              "      <td>20-29y</td>\n",
              "      <td>none</td>\n",
              "      <td>middle class</td>\n",
              "      <td>0.839817</td>\n",
              "      <td>1.0</td>\n",
              "      <td>before 2015</td>\n",
              "      <td>1.0</td>\n",
              "      <td>1.0</td>\n",
              "      <td>10238</td>\n",
              "      <td>12000.0</td>\n",
              "      <td>0</td>\n",
              "      <td>0</td>\n",
              "      <td>0</td>\n",
              "      <td>1.0</td>\n",
              "      <td>Sedan</td>\n",
              "    </tr>\n",
              "    <tr>\n",
              "      <th>3</th>\n",
              "      <td>40-64</td>\n",
              "      <td>male</td>\n",
              "      <td>20-29y</td>\n",
              "      <td>high school</td>\n",
              "      <td>upper class</td>\n",
              "      <td>0.682527</td>\n",
              "      <td>1.0</td>\n",
              "      <td>before 2015</td>\n",
              "      <td>0.0</td>\n",
              "      <td>1.0</td>\n",
              "      <td>92099</td>\n",
              "      <td>6000.0</td>\n",
              "      <td>1</td>\n",
              "      <td>0</td>\n",
              "      <td>0</td>\n",
              "      <td>1.0</td>\n",
              "      <td>Sedan</td>\n",
              "    </tr>\n",
              "    <tr>\n",
              "      <th>4</th>\n",
              "      <td>40-64</td>\n",
              "      <td>female</td>\n",
              "      <td>20-29y</td>\n",
              "      <td>none</td>\n",
              "      <td>working class</td>\n",
              "      <td>0.572184</td>\n",
              "      <td>1.0</td>\n",
              "      <td>after 2015</td>\n",
              "      <td>1.0</td>\n",
              "      <td>1.0</td>\n",
              "      <td>32122</td>\n",
              "      <td>15000.0</td>\n",
              "      <td>0</td>\n",
              "      <td>0</td>\n",
              "      <td>1</td>\n",
              "      <td>0.0</td>\n",
              "      <td>Sedan</td>\n",
              "    </tr>\n",
              "  </tbody>\n",
              "</table>\n",
              "</div>"
            ],
            "text/plain": [
              "     AGE  GENDER DRIVING_EXPERIENCE    EDUCATION         INCOME  CREDIT_SCORE  \\\n",
              "0  40-64  female             20-29y   university   middle class      0.638050   \n",
              "1  26-39    male             20-29y  high school   middle class      0.475741   \n",
              "2  40-64    male             20-29y         none   middle class      0.839817   \n",
              "3  40-64    male             20-29y  high school    upper class      0.682527   \n",
              "4  40-64  female             20-29y         none  working class      0.572184   \n",
              "\n",
              "   VEHICLE_OWNERSHIP VEHICLE_YEAR  MARRIED  CHILDREN  POSTAL_CODE  \\\n",
              "0                0.0   after 2015      0.0       0.0        37379   \n",
              "1                1.0  before 2015      1.0       0.0        10238   \n",
              "2                1.0  before 2015      1.0       1.0        10238   \n",
              "3                1.0  before 2015      0.0       1.0        92099   \n",
              "4                1.0   after 2015      1.0       1.0        32122   \n",
              "\n",
              "   ANNUAL_MILEAGE  SPEEDING_VIOLATIONS  DUIS  PAST_ACCIDENTS  OUTCOME  \\\n",
              "0         11000.0                    0     0               0      0.0   \n",
              "1          9000.0                    0     0               0      1.0   \n",
              "2         12000.0                    0     0               0      1.0   \n",
              "3          6000.0                    1     0               0      1.0   \n",
              "4         15000.0                    0     0               1      0.0   \n",
              "\n",
              "  TYPE_OF_VEHICLE  \n",
              "0      Sports Car  \n",
              "1       HatchBack  \n",
              "2           Sedan  \n",
              "3           Sedan  \n",
              "4           Sedan  "
            ]
          },
          "execution_count": 4,
          "metadata": {},
          "output_type": "execute_result"
        }
      ],
      "source": [
        "train.head()"
      ]
    },
    {
      "cell_type": "code",
      "execution_count": null,
      "metadata": {
        "id": "1pwv9xDQFY4-",
        "outputId": "009fc90e-b720-41da-cc93-e79a82ca0977"
      },
      "outputs": [
        {
          "name": "stdout",
          "output_type": "stream",
          "text": [
            "Number of Numerical columns   : 9\n",
            "Number of Categorical columns : 7\n"
          ]
        }
      ],
      "source": [
        "# Let's define the categorical columns and numerical columns which will be later used as features\n",
        "categorical_cols = [col for col in train.columns if (train[col].nunique() < 10) and \n",
        "                    (train[col].dtype == \"object\") and\n",
        "                    col not in ['OUTCOME']]\n",
        "\n",
        "numerical_cols = [col for col in train.columns if (train[col].dtype in ['int64', 'float64']) and\n",
        "                  col not in ['OUTCOME']]\n",
        "\n",
        "print('Number of Numerical columns   :',len(numerical_cols))\n",
        "print('Number of Categorical columns :',len(categorical_cols))"
      ]
    },
    {
      "cell_type": "code",
      "execution_count": null,
      "metadata": {
        "id": "QnBrlx7oFY4-",
        "outputId": "dfbd1e88-a162-43d3-ab4c-d51823480fd3"
      },
      "outputs": [
        {
          "data": {
            "text/html": [
              "<div>\n",
              "<style scoped>\n",
              "    .dataframe tbody tr th:only-of-type {\n",
              "        vertical-align: middle;\n",
              "    }\n",
              "\n",
              "    .dataframe tbody tr th {\n",
              "        vertical-align: top;\n",
              "    }\n",
              "\n",
              "    .dataframe thead th {\n",
              "        text-align: right;\n",
              "    }\n",
              "</style>\n",
              "<table border=\"1\" class=\"dataframe\">\n",
              "  <thead>\n",
              "    <tr style=\"text-align: right;\">\n",
              "      <th></th>\n",
              "      <th>AGE</th>\n",
              "      <th>GENDER</th>\n",
              "      <th>DRIVING_EXPERIENCE</th>\n",
              "      <th>EDUCATION</th>\n",
              "      <th>INCOME</th>\n",
              "      <th>CREDIT_SCORE</th>\n",
              "      <th>VEHICLE_OWNERSHIP</th>\n",
              "      <th>VEHICLE_YEAR</th>\n",
              "      <th>MARRIED</th>\n",
              "      <th>CHILDREN</th>\n",
              "      <th>POSTAL_CODE</th>\n",
              "      <th>ANNUAL_MILEAGE</th>\n",
              "      <th>SPEEDING_VIOLATIONS</th>\n",
              "      <th>DUIS</th>\n",
              "      <th>PAST_ACCIDENTS</th>\n",
              "      <th>OUTCOME</th>\n",
              "      <th>TYPE_OF_VEHICLE</th>\n",
              "    </tr>\n",
              "  </thead>\n",
              "  <tbody>\n",
              "    <tr>\n",
              "      <th>0</th>\n",
              "      <td>40-64</td>\n",
              "      <td>female</td>\n",
              "      <td>20-29y</td>\n",
              "      <td>university</td>\n",
              "      <td>middle class</td>\n",
              "      <td>0.638050</td>\n",
              "      <td>0.0</td>\n",
              "      <td>after 2015</td>\n",
              "      <td>0.0</td>\n",
              "      <td>0.0</td>\n",
              "      <td>37379</td>\n",
              "      <td>11000.0</td>\n",
              "      <td>0</td>\n",
              "      <td>0</td>\n",
              "      <td>0</td>\n",
              "      <td>0.0</td>\n",
              "      <td>Sports Car</td>\n",
              "    </tr>\n",
              "    <tr>\n",
              "      <th>1</th>\n",
              "      <td>26-39</td>\n",
              "      <td>male</td>\n",
              "      <td>20-29y</td>\n",
              "      <td>high school</td>\n",
              "      <td>middle class</td>\n",
              "      <td>0.475741</td>\n",
              "      <td>1.0</td>\n",
              "      <td>before 2015</td>\n",
              "      <td>1.0</td>\n",
              "      <td>0.0</td>\n",
              "      <td>10238</td>\n",
              "      <td>9000.0</td>\n",
              "      <td>0</td>\n",
              "      <td>0</td>\n",
              "      <td>0</td>\n",
              "      <td>1.0</td>\n",
              "      <td>HatchBack</td>\n",
              "    </tr>\n",
              "    <tr>\n",
              "      <th>2</th>\n",
              "      <td>40-64</td>\n",
              "      <td>male</td>\n",
              "      <td>20-29y</td>\n",
              "      <td>none</td>\n",
              "      <td>middle class</td>\n",
              "      <td>0.839817</td>\n",
              "      <td>1.0</td>\n",
              "      <td>before 2015</td>\n",
              "      <td>1.0</td>\n",
              "      <td>1.0</td>\n",
              "      <td>10238</td>\n",
              "      <td>12000.0</td>\n",
              "      <td>0</td>\n",
              "      <td>0</td>\n",
              "      <td>0</td>\n",
              "      <td>1.0</td>\n",
              "      <td>Sedan</td>\n",
              "    </tr>\n",
              "    <tr>\n",
              "      <th>3</th>\n",
              "      <td>40-64</td>\n",
              "      <td>male</td>\n",
              "      <td>20-29y</td>\n",
              "      <td>high school</td>\n",
              "      <td>upper class</td>\n",
              "      <td>0.682527</td>\n",
              "      <td>1.0</td>\n",
              "      <td>before 2015</td>\n",
              "      <td>0.0</td>\n",
              "      <td>1.0</td>\n",
              "      <td>92099</td>\n",
              "      <td>6000.0</td>\n",
              "      <td>1</td>\n",
              "      <td>0</td>\n",
              "      <td>0</td>\n",
              "      <td>1.0</td>\n",
              "      <td>Sedan</td>\n",
              "    </tr>\n",
              "    <tr>\n",
              "      <th>4</th>\n",
              "      <td>40-64</td>\n",
              "      <td>female</td>\n",
              "      <td>20-29y</td>\n",
              "      <td>none</td>\n",
              "      <td>working class</td>\n",
              "      <td>0.572184</td>\n",
              "      <td>1.0</td>\n",
              "      <td>after 2015</td>\n",
              "      <td>1.0</td>\n",
              "      <td>1.0</td>\n",
              "      <td>32122</td>\n",
              "      <td>15000.0</td>\n",
              "      <td>0</td>\n",
              "      <td>0</td>\n",
              "      <td>1</td>\n",
              "      <td>0.0</td>\n",
              "      <td>Sedan</td>\n",
              "    </tr>\n",
              "  </tbody>\n",
              "</table>\n",
              "</div>"
            ],
            "text/plain": [
              "     AGE  GENDER DRIVING_EXPERIENCE    EDUCATION         INCOME  CREDIT_SCORE  \\\n",
              "0  40-64  female             20-29y   university   middle class      0.638050   \n",
              "1  26-39    male             20-29y  high school   middle class      0.475741   \n",
              "2  40-64    male             20-29y         none   middle class      0.839817   \n",
              "3  40-64    male             20-29y  high school    upper class      0.682527   \n",
              "4  40-64  female             20-29y         none  working class      0.572184   \n",
              "\n",
              "   VEHICLE_OWNERSHIP VEHICLE_YEAR  MARRIED  CHILDREN  POSTAL_CODE  \\\n",
              "0                0.0   after 2015      0.0       0.0        37379   \n",
              "1                1.0  before 2015      1.0       0.0        10238   \n",
              "2                1.0  before 2015      1.0       1.0        10238   \n",
              "3                1.0  before 2015      0.0       1.0        92099   \n",
              "4                1.0   after 2015      1.0       1.0        32122   \n",
              "\n",
              "   ANNUAL_MILEAGE  SPEEDING_VIOLATIONS  DUIS  PAST_ACCIDENTS  OUTCOME  \\\n",
              "0         11000.0                    0     0               0      0.0   \n",
              "1          9000.0                    0     0               0      1.0   \n",
              "2         12000.0                    0     0               0      1.0   \n",
              "3          6000.0                    1     0               0      1.0   \n",
              "4         15000.0                    0     0               1      0.0   \n",
              "\n",
              "  TYPE_OF_VEHICLE  \n",
              "0      Sports Car  \n",
              "1       HatchBack  \n",
              "2           Sedan  \n",
              "3           Sedan  \n",
              "4           Sedan  "
            ]
          },
          "execution_count": 6,
          "metadata": {},
          "output_type": "execute_result"
        }
      ],
      "source": [
        "train.head()"
      ]
    },
    {
      "cell_type": "code",
      "execution_count": null,
      "metadata": {
        "id": "wUCL3lrxFY4_",
        "outputId": "b61915d5-69da-4234-e25b-c70437cf9af8"
      },
      "outputs": [
        {
          "name": "stdout",
          "output_type": "stream",
          "text": [
            "<class 'pandas.core.frame.DataFrame'>\n",
            "RangeIndex: 105000 entries, 0 to 104999\n",
            "Data columns (total 17 columns):\n",
            " #   Column               Non-Null Count   Dtype  \n",
            "---  ------               --------------   -----  \n",
            " 0   AGE                  105000 non-null  object \n",
            " 1   GENDER               105000 non-null  object \n",
            " 2   DRIVING_EXPERIENCE   105000 non-null  object \n",
            " 3   EDUCATION            105000 non-null  object \n",
            " 4   INCOME               105000 non-null  object \n",
            " 5   CREDIT_SCORE         105000 non-null  float64\n",
            " 6   VEHICLE_OWNERSHIP    105000 non-null  float64\n",
            " 7   VEHICLE_YEAR         105000 non-null  object \n",
            " 8   MARRIED              105000 non-null  float64\n",
            " 9   CHILDREN             105000 non-null  float64\n",
            " 10  POSTAL_CODE          105000 non-null  int64  \n",
            " 11  ANNUAL_MILEAGE       105000 non-null  float64\n",
            " 12  SPEEDING_VIOLATIONS  105000 non-null  int64  \n",
            " 13  DUIS                 105000 non-null  int64  \n",
            " 14  PAST_ACCIDENTS       105000 non-null  int64  \n",
            " 15  OUTCOME              105000 non-null  float64\n",
            " 16  TYPE_OF_VEHICLE      105000 non-null  object \n",
            "dtypes: float64(6), int64(4), object(7)\n",
            "memory usage: 13.6+ MB\n"
          ]
        }
      ],
      "source": [
        "train.info()"
      ]
    },
    {
      "cell_type": "code",
      "execution_count": null,
      "metadata": {
        "id": "DYcIrqWDFY5A",
        "outputId": "c6775271-658d-4446-8629-fba1da12706d"
      },
      "outputs": [
        {
          "name": "stdout",
          "output_type": "stream",
          "text": [
            "Dataset has 105000 rows and 17 columns\n",
            "Duplicates: 0\n",
            "Total missing values: 0\n",
            "Number of rows with missing values: 0\n"
          ]
        }
      ],
      "source": [
        "print(f'Dataset has {train.shape[0]} rows and {train.shape[1]} columns')\n",
        "print(f'Duplicates: {train.duplicated().sum()}')\n",
        "print(f'Total missing values: {train.isna().sum().sum()}')\n",
        "print(f'Number of rows with missing values: {train.isna().any(axis=1).sum()}')"
      ]
    },
    {
      "cell_type": "markdown",
      "metadata": {
        "id": "yO2goqXWFY5A"
      },
      "source": [
        "The dataset is quite imbalanced as the OUTCOME variables don't have an equal distribution in the dataset"
      ]
    },
    {
      "cell_type": "code",
      "execution_count": null,
      "metadata": {
        "id": "FFDQ0xRiFY5B",
        "outputId": "e5fe0e8d-4248-4aff-8c79-e21f65a1dd86"
      },
      "outputs": [
        {
          "data": {
            "text/plain": [
              "<AxesSubplot:>"
            ]
          },
          "execution_count": 9,
          "metadata": {},
          "output_type": "execute_result"
        },
        {
          "data": {
            "image/png": "[encoded data removed]",
            "text/plain": [
              "<Figure size 1440x792 with 1 Axes>"
            ]
          },
          "metadata": {},
          "output_type": "display_data"
        }
      ],
      "source": [
        "train['OUTCOME'].value_counts().reset_index().plot(kind='bar')"
      ]
    },
    {
      "cell_type": "markdown",
      "metadata": {
        "id": "xxmm4Hw1FY5B"
      },
      "source": [
        "## EXPLORATORY DATA ANALYSIS\n",
        "\n",
        "### 2.1 FEATURE DISTRIBUTION"
      ]
    },
    {
      "cell_type": "code",
      "execution_count": null,
      "metadata": {
        "id": "a7GbSEFrFY5B",
        "outputId": "3c1f67c3-53cf-4879-9e46-f13276b8d599"
      },
      "outputs": [
        {
          "data": {
            "image/png": "[encoded data removed]",
            "text/plain": [
              "<Figure size 1920x3200 with 17 Axes>"
            ]
          },
          "metadata": {},
          "output_type": "display_data"
        }
      ],
      "source": [
        "def plot_col_distribution(df, n_graph_per_row):\n",
        "    n_col = df.shape[1]\n",
        "    column_names = list(df)\n",
        "    n_graph_row = (n_col + n_graph_per_row - 1) // n_graph_per_row\n",
        "    plt.figure(num = None, figsize = (6 * n_graph_per_row, 8 * n_graph_row), dpi = 80, facecolor = 'w', edgecolor = 'k')\n",
        "    for i in range(n_col):\n",
        "        plt.subplot(n_graph_row, n_graph_per_row, i + 1)\n",
        "        column_df = df.iloc[:, i]\n",
        "        if (not np.issubdtype(type(column_df.iloc[0]), np.number)):\n",
        "            column_df.value_counts().plot.bar()\n",
        "        else:\n",
        "            column_df.hist()\n",
        "        plt.ylabel('counts')\n",
        "        plt.xticks(rotation = 90)\n",
        "        plt.title(f'{column_names[i]} (column {i})')\n",
        "    plt.tight_layout(pad = 1.0, w_pad = 1.0, h_pad = 1.0)\n",
        "    plt.show()\n",
        "    \n",
        "plot_col_distribution(train,4)"
      ]
    },
    {
      "cell_type": "code",
      "execution_count": null,
      "metadata": {
        "id": "PFSJm2hjFY5C",
        "outputId": "b1d17606-ffe3-4e66-b58e-b03a3c8a3697"
      },
      "outputs": [
        {
          "name": "stdout",
          "output_type": "stream",
          "text": [
            "CREDIT_SCORE: -0.2263552331190916\n",
            "VEHICLE_OWNERSHIP: -1.7293796863745652\n",
            "MARRIED: -0.3414409707238864\n",
            "CHILDREN: -0.08006407690254365\n",
            "POSTAL_CODE: 2.986839692396651\n",
            "ANNUAL_MILEAGE: -0.5101105685548738\n",
            "SPEEDING_VIOLATIONS: 3.899760801440324\n",
            "DUIS: 5.608607750200801\n",
            "PAST_ACCIDENTS: 4.345458193673233\n"
          ]
        }
      ],
      "source": [
        "from scipy.stats import skew\n",
        "for col in numerical_cols:\n",
        "    print(f'{col}: {skew(train[col])}')"
      ]
    },
    {
      "cell_type": "markdown",
      "metadata": {
        "id": "CxawsYy0FY5C"
      },
      "source": [
        "There appears to be quite a bit of skew in some of the numerical variables.\n",
        "\n",
        "However, we'll do our best to preserve the structure including outliers, so that we can make the most of it."
      ]
    },
    {
      "cell_type": "markdown",
      "metadata": {
        "id": "XHtBrJKwFY5D"
      },
      "source": [
        "### 2.3 Checking Correlation between Variables\n",
        "Understanding how the variables are related can tell us more about whether or not features are redundant. Redundant features can negatively impact the performance of the model."
      ]
    },
    {
      "cell_type": "code",
      "execution_count": null,
      "metadata": {
        "id": "cTHGb1jGFY5D",
        "outputId": "24069eb0-51d7-4529-963d-cfc1f8b1fab8"
      },
      "outputs": [
        {
          "data": {
            "image/png": "[encoded data removed]",
            "text/plain": [
              "<Figure size 1584x720 with 2 Axes>"
            ]
          },
          "metadata": {},
          "output_type": "display_data"
        }
      ],
      "source": [
        "def plot_corr(df):\n",
        "    corr = df.corr()\n",
        "    plt.figure(figsize=(22,10))\n",
        "    sns.heatmap(corr, cbar=True, annot=True, cmap='CMRmap')\n",
        "\n",
        "plot_corr(train)"
      ]
    },
    {
      "cell_type": "markdown",
      "metadata": {
        "id": "lrcA1C3CFY5D"
      },
      "source": [
        "Wow! There is extremely little positive correlation among the dataset variables, some variables are also a little bit negatively correlated, this shows that there's hardly any relationship that exists between these variables."
      ]
    },
    {
      "cell_type": "markdown",
      "metadata": {
        "id": "2JWHSLDvFY5E"
      },
      "source": [
        "### 2.4 Number of Categories in Each Categorical Feature\n",
        "Too many categories make a feature less viable as a categorical feature."
      ]
    },
    {
      "cell_type": "code",
      "execution_count": null,
      "metadata": {
        "id": "xO-H0TxKFY5E",
        "outputId": "235647cf-513b-479a-9aa3-d5686b2f9473"
      },
      "outputs": [
        {
          "name": "stdout",
          "output_type": "stream",
          "text": [
            "AGE has 4 unique variables\n",
            "GENDER has 2 unique variables\n",
            "DRIVING_EXPERIENCE has 4 unique variables\n",
            "EDUCATION has 3 unique variables\n",
            "INCOME has 4 unique variables\n",
            "VEHICLE_YEAR has 2 unique variables\n",
            "TYPE_OF_VEHICLE has 4 unique variables\n"
          ]
        }
      ],
      "source": [
        "for col in categorical_cols:\n",
        "    print(col, 'has', train[col].nunique(),'unique variables')"
      ]
    },
    {
      "cell_type": "markdown",
      "metadata": {
        "id": "vHGCiSCqFY5E"
      },
      "source": [
        "Fortunately, all categorical featuers have a healthy number of categories - not too many.\n",
        "\n",
        "Some with 2 unique variables can be considered binary i.e. 2 states only.\n",
        "\n",
        "### 2.5 Check for Missing Values\n"
      ]
    },
    {
      "cell_type": "code",
      "execution_count": null,
      "metadata": {
        "id": "81QGF7I3FY5E",
        "outputId": "7b780922-027b-4c29-8e16-affd952d95fd"
      },
      "outputs": [
        {
          "name": "stdout",
          "output_type": "stream",
          "text": [
            "Missing Values in DF: 0\n",
            "\n",
            "\n",
            "Categorical features are:\n",
            " -  AGE , Missing: 0\n",
            " -  GENDER , Missing: 0\n",
            " -  DRIVING_EXPERIENCE , Missing: 0\n",
            " -  EDUCATION , Missing: 0\n",
            " -  INCOME , Missing: 0\n",
            " -  VEHICLE_YEAR , Missing: 0\n",
            " -  TYPE_OF_VEHICLE , Missing: 0\n",
            "\n",
            "\n",
            "Numerical features are:\n",
            " -  CREDIT_SCORE , Missing: 0\n",
            " -  VEHICLE_OWNERSHIP , Missing: 0\n",
            " -  MARRIED , Missing: 0\n",
            " -  CHILDREN , Missing: 0\n",
            " -  POSTAL_CODE , Missing: 0\n",
            " -  ANNUAL_MILEAGE , Missing: 0\n",
            " -  SPEEDING_VIOLATIONS , Missing: 0\n",
            " -  DUIS , Missing: 0\n",
            " -  PAST_ACCIDENTS , Missing: 0\n",
            "\n",
            "\n",
            "Targets\n",
            " -  OUTCOME , Missing: 0\n",
            "\n",
            "\n"
          ]
        }
      ],
      "source": [
        "print(f\"Missing Values in DF: {train.isna().sum().sum()}\")\n",
        "print(\"\\n\")\n",
        "\n",
        "def find_missing(df, cols:list):\n",
        "    for i in cols:\n",
        "        print(\" - \", i, f\", Missing: {df[i].isna().sum()}\")\n",
        "    print(\"\\n\")\n",
        "\n",
        "print(\"Categorical features are:\")\n",
        "find_missing(train, categorical_cols)\n",
        "print(\"Numerical features are:\")\n",
        "find_missing(train, numerical_cols)\n",
        "\n",
        "print(\"Targets\")\n",
        "find_missing(train, ['OUTCOME'])"
      ]
    },
    {
      "cell_type": "markdown",
      "metadata": {
        "id": "Cf4oKcrhFY5F"
      },
      "source": [
        "### 2.6 Selecting Model and Metrics\n",
        "##### For the classification problem with `OUTCOME`:\n",
        "\n",
        "This is a binary classification problem.\n",
        "\n",
        "The chosen metric for the competition is 'log_loss' which is a measure of how close the prediction probability is close to the actual value."
      ]
    },
    {
      "cell_type": "markdown",
      "metadata": {
        "id": "NiQJvLSwFY5F"
      },
      "source": [
        "### 4.3 Encoding Categorical Variables\n",
        "XGBoost requires some form of encoding to function with categorical variables. \n",
        "We'll look into encoding in detail further below.\n",
        "\n",
        "Looking at the nunique values from the EDA, and some off-screen analysis of each categorical value, there are 3 types of encoding we will perform here.\n",
        "\n",
        "- Ordinal category: Only Education appears to have some linkage between the classes\n",
        "- Binary categories: These categories have only two classes\n",
        "- Nominal categories: There are multiple classes and they do not have any relationship with one another"
      ]
    },
    {
      "cell_type": "code",
      "execution_count": null,
      "metadata": {
        "id": "rsFM45lZFY5G",
        "outputId": "ab8ef81d-bba2-4400-d074-c6231b5fd45b"
      },
      "outputs": [
        {
          "name": "stdout",
          "output_type": "stream",
          "text": [
            "All features are accounted for: True\n"
          ]
        }
      ],
      "source": [
        "categorical_cols_ord = ['EDUCATION']\n",
        "categorical_cols_bin = ['VEHICLE_YEAR', 'GENDER']\n",
        "categorical_cols_nom = ['TYPE_OF_VEHICLE', 'DRIVING_EXPERIENCE', 'INCOME', 'AGE']\n",
        "\n",
        "print('All features are accounted for:',set(categorical_cols) == set(categorical_cols_ord) | set(categorical_cols_bin) | set(categorical_cols_nom))"
      ]
    },
    {
      "cell_type": "markdown",
      "metadata": {
        "id": "t5FMYx_xFY5G"
      },
      "source": [
        "First we select the train and test columns to be encoded"
      ]
    },
    {
      "cell_type": "markdown",
      "metadata": {
        "id": "RSDLX28cFY5H"
      },
      "source": [
        "Then we apply the type of encoding we have defined for each subset of data"
      ]
    },
    {
      "cell_type": "code",
      "execution_count": null,
      "metadata": {
        "id": "pabyUicIFY5H",
        "outputId": "93d93396-5fdc-47cb-c23e-4ce1cecef658"
      },
      "outputs": [
        {
          "data": {
            "text/html": [
              "<div>\n",
              "<style scoped>\n",
              "    .dataframe tbody tr th:only-of-type {\n",
              "        vertical-align: middle;\n",
              "    }\n",
              "\n",
              "    .dataframe tbody tr th {\n",
              "        vertical-align: top;\n",
              "    }\n",
              "\n",
              "    .dataframe thead th {\n",
              "        text-align: right;\n",
              "    }\n",
              "</style>\n",
              "<table border=\"1\" class=\"dataframe\">\n",
              "  <thead>\n",
              "    <tr style=\"text-align: right;\">\n",
              "      <th></th>\n",
              "      <th>EDUCATION</th>\n",
              "      <th>TYPE_OF_VEHICLE_HatchBack</th>\n",
              "      <th>TYPE_OF_VEHICLE_SUV</th>\n",
              "      <th>TYPE_OF_VEHICLE_Sedan</th>\n",
              "      <th>TYPE_OF_VEHICLE_Sports Car</th>\n",
              "      <th>DRIVING_EXPERIENCE_0-9y</th>\n",
              "      <th>DRIVING_EXPERIENCE_10-19y</th>\n",
              "      <th>DRIVING_EXPERIENCE_20-29y</th>\n",
              "      <th>DRIVING_EXPERIENCE_30y+</th>\n",
              "      <th>INCOME_middle class</th>\n",
              "      <th>INCOME_poverty</th>\n",
              "      <th>INCOME_upper class</th>\n",
              "      <th>INCOME_working class</th>\n",
              "      <th>AGE_16-25</th>\n",
              "      <th>AGE_26-39</th>\n",
              "      <th>AGE_40-64</th>\n",
              "      <th>AGE_65+</th>\n",
              "      <th>VEHICLE_YEAR</th>\n",
              "      <th>GENDER</th>\n",
              "    </tr>\n",
              "  </thead>\n",
              "  <tbody>\n",
              "    <tr>\n",
              "      <th>0</th>\n",
              "      <td>2.0</td>\n",
              "      <td>0.0</td>\n",
              "      <td>0.0</td>\n",
              "      <td>0.0</td>\n",
              "      <td>1.0</td>\n",
              "      <td>0.0</td>\n",
              "      <td>0.0</td>\n",
              "      <td>1.0</td>\n",
              "      <td>0.0</td>\n",
              "      <td>1.0</td>\n",
              "      <td>0.0</td>\n",
              "      <td>0.0</td>\n",
              "      <td>0.0</td>\n",
              "      <td>0.0</td>\n",
              "      <td>0.0</td>\n",
              "      <td>1.0</td>\n",
              "      <td>0.0</td>\n",
              "      <td>0.0</td>\n",
              "      <td>0.0</td>\n",
              "    </tr>\n",
              "    <tr>\n",
              "      <th>1</th>\n",
              "      <td>1.0</td>\n",
              "      <td>1.0</td>\n",
              "      <td>0.0</td>\n",
              "      <td>0.0</td>\n",
              "      <td>0.0</td>\n",
              "      <td>0.0</td>\n",
              "      <td>0.0</td>\n",
              "      <td>1.0</td>\n",
              "      <td>0.0</td>\n",
              "      <td>1.0</td>\n",
              "      <td>0.0</td>\n",
              "      <td>0.0</td>\n",
              "      <td>0.0</td>\n",
              "      <td>0.0</td>\n",
              "      <td>1.0</td>\n",
              "      <td>0.0</td>\n",
              "      <td>0.0</td>\n",
              "      <td>1.0</td>\n",
              "      <td>1.0</td>\n",
              "    </tr>\n",
              "    <tr>\n",
              "      <th>2</th>\n",
              "      <td>0.0</td>\n",
              "      <td>0.0</td>\n",
              "      <td>0.0</td>\n",
              "      <td>1.0</td>\n",
              "      <td>0.0</td>\n",
              "      <td>0.0</td>\n",
              "      <td>0.0</td>\n",
              "      <td>1.0</td>\n",
              "      <td>0.0</td>\n",
              "      <td>1.0</td>\n",
              "      <td>0.0</td>\n",
              "      <td>0.0</td>\n",
              "      <td>0.0</td>\n",
              "      <td>0.0</td>\n",
              "      <td>0.0</td>\n",
              "      <td>1.0</td>\n",
              "      <td>0.0</td>\n",
              "      <td>1.0</td>\n",
              "      <td>1.0</td>\n",
              "    </tr>\n",
              "    <tr>\n",
              "      <th>3</th>\n",
              "      <td>1.0</td>\n",
              "      <td>0.0</td>\n",
              "      <td>0.0</td>\n",
              "      <td>1.0</td>\n",
              "      <td>0.0</td>\n",
              "      <td>0.0</td>\n",
              "      <td>0.0</td>\n",
              "      <td>1.0</td>\n",
              "      <td>0.0</td>\n",
              "      <td>0.0</td>\n",
              "      <td>0.0</td>\n",
              "      <td>1.0</td>\n",
              "      <td>0.0</td>\n",
              "      <td>0.0</td>\n",
              "      <td>0.0</td>\n",
              "      <td>1.0</td>\n",
              "      <td>0.0</td>\n",
              "      <td>1.0</td>\n",
              "      <td>1.0</td>\n",
              "    </tr>\n",
              "    <tr>\n",
              "      <th>4</th>\n",
              "      <td>0.0</td>\n",
              "      <td>0.0</td>\n",
              "      <td>0.0</td>\n",
              "      <td>1.0</td>\n",
              "      <td>0.0</td>\n",
              "      <td>0.0</td>\n",
              "      <td>0.0</td>\n",
              "      <td>1.0</td>\n",
              "      <td>0.0</td>\n",
              "      <td>0.0</td>\n",
              "      <td>0.0</td>\n",
              "      <td>0.0</td>\n",
              "      <td>1.0</td>\n",
              "      <td>0.0</td>\n",
              "      <td>0.0</td>\n",
              "      <td>1.0</td>\n",
              "      <td>0.0</td>\n",
              "      <td>0.0</td>\n",
              "      <td>0.0</td>\n",
              "    </tr>\n",
              "  </tbody>\n",
              "</table>\n",
              "</div>"
            ],
            "text/plain": [
              "   EDUCATION  TYPE_OF_VEHICLE_HatchBack  TYPE_OF_VEHICLE_SUV  \\\n",
              "0        2.0                        0.0                  0.0   \n",
              "1        1.0                        1.0                  0.0   \n",
              "2        0.0                        0.0                  0.0   \n",
              "3        1.0                        0.0                  0.0   \n",
              "4        0.0                        0.0                  0.0   \n",
              "\n",
              "   TYPE_OF_VEHICLE_Sedan  TYPE_OF_VEHICLE_Sports Car  DRIVING_EXPERIENCE_0-9y  \\\n",
              "0                    0.0                         1.0                      0.0   \n",
              "1                    0.0                         0.0                      0.0   \n",
              "2                    1.0                         0.0                      0.0   \n",
              "3                    1.0                         0.0                      0.0   \n",
              "4                    1.0                         0.0                      0.0   \n",
              "\n",
              "   DRIVING_EXPERIENCE_10-19y  DRIVING_EXPERIENCE_20-29y  \\\n",
              "0                        0.0                        1.0   \n",
              "1                        0.0                        1.0   \n",
              "2                        0.0                        1.0   \n",
              "3                        0.0                        1.0   \n",
              "4                        0.0                        1.0   \n",
              "\n",
              "   DRIVING_EXPERIENCE_30y+  INCOME_middle class  INCOME_poverty  \\\n",
              "0                      0.0                  1.0             0.0   \n",
              "1                      0.0                  1.0             0.0   \n",
              "2                      0.0                  1.0             0.0   \n",
              "3                      0.0                  0.0             0.0   \n",
              "4                      0.0                  0.0             0.0   \n",
              "\n",
              "   INCOME_upper class  INCOME_working class  AGE_16-25  AGE_26-39  AGE_40-64  \\\n",
              "0                 0.0                   0.0        0.0        0.0        1.0   \n",
              "1                 0.0                   0.0        0.0        1.0        0.0   \n",
              "2                 0.0                   0.0        0.0        0.0        1.0   \n",
              "3                 1.0                   0.0        0.0        0.0        1.0   \n",
              "4                 0.0                   1.0        0.0        0.0        1.0   \n",
              "\n",
              "   AGE_65+  VEHICLE_YEAR  GENDER  \n",
              "0      0.0           0.0     0.0  \n",
              "1      0.0           1.0     1.0  \n",
              "2      0.0           1.0     1.0  \n",
              "3      0.0           1.0     1.0  \n",
              "4      0.0           0.0     0.0  "
            ]
          },
          "execution_count": 16,
          "metadata": {},
          "output_type": "execute_result"
        }
      ],
      "source": [
        "EDUCATION_ordinal = [['none', 'high school', 'university']]\n",
        "ordinal_encoder_EDUCATION = OrdinalEncoder(categories=EDUCATION_ordinal)\n",
        "binary_encoder = OrdinalEncoder()\n",
        "oh_encoder = OneHotEncoder(handle_unknown='ignore', sparse=False)\n",
        "\n",
        "#Take only categorical columns\n",
        "train_cat = train[categorical_cols]\n",
        "test_cat = test[categorical_cols]\n",
        "\n",
        "#Encode each categorical type\n",
        "#Ordinal categories\n",
        "train_cat_ord = pd.DataFrame(ordinal_encoder_EDUCATION.fit_transform(train_cat[categorical_cols_ord]))\n",
        "train_cat_ord.columns = train_cat[categorical_cols_ord].columns\n",
        "\n",
        "test_cat_ord = pd.DataFrame(ordinal_encoder_EDUCATION.fit_transform(test_cat[categorical_cols_ord]))\n",
        "test_cat_ord.columns = test_cat[categorical_cols_ord].columns\n",
        "\n",
        "#Binary Categories\n",
        "train_cat_bin = pd.DataFrame(binary_encoder.fit_transform(train_cat[categorical_cols_bin]))\n",
        "train_cat_bin.columns = train_cat[categorical_cols_bin].columns\n",
        "\n",
        "test_cat_bin = pd.DataFrame(binary_encoder.fit_transform(test_cat[categorical_cols_bin]))\n",
        "test_cat_bin.columns = test_cat[categorical_cols_bin].columns\n",
        "\n",
        "#Nominal Categories\n",
        "train_cat_nom = pd.DataFrame(oh_encoder.fit_transform(train_cat[categorical_cols_nom]))\n",
        "train_cat_nom.columns = oh_encoder.get_feature_names_out()\n",
        "\n",
        "test_cat_nom = pd.DataFrame(oh_encoder.fit_transform(test_cat[categorical_cols_nom]))\n",
        "test_cat_nom.columns = oh_encoder.get_feature_names_out()\n",
        "\n",
        "#Rejoin the three sub df's\n",
        "\n",
        "train_cat_enc = pd.concat([train_cat_ord, train_cat_nom, train_cat_bin], axis=1)\n",
        "\n",
        "test_cat_enc = pd.concat([test_cat_ord, test_cat_nom, test_cat_bin], axis=1)\n",
        "\n",
        "train_cat_enc.head()\n"
      ]
    },
    {
      "cell_type": "code",
      "execution_count": null,
      "metadata": {
        "id": "-15vwUKmFY5I",
        "outputId": "359f4213-27d6-46b6-8233-ffcce10b0ab9"
      },
      "outputs": [
        {
          "data": {
            "text/html": [
              "<div>\n",
              "<style scoped>\n",
              "    .dataframe tbody tr th:only-of-type {\n",
              "        vertical-align: middle;\n",
              "    }\n",
              "\n",
              "    .dataframe tbody tr th {\n",
              "        vertical-align: top;\n",
              "    }\n",
              "\n",
              "    .dataframe thead th {\n",
              "        text-align: right;\n",
              "    }\n",
              "</style>\n",
              "<table border=\"1\" class=\"dataframe\">\n",
              "  <thead>\n",
              "    <tr style=\"text-align: right;\">\n",
              "      <th></th>\n",
              "      <th>EDUCATION</th>\n",
              "      <th>TYPE_OF_VEHICLE_HatchBack</th>\n",
              "      <th>TYPE_OF_VEHICLE_SUV</th>\n",
              "      <th>TYPE_OF_VEHICLE_Sedan</th>\n",
              "      <th>TYPE_OF_VEHICLE_Sports Car</th>\n",
              "      <th>DRIVING_EXPERIENCE_0-9y</th>\n",
              "      <th>DRIVING_EXPERIENCE_10-19y</th>\n",
              "      <th>DRIVING_EXPERIENCE_20-29y</th>\n",
              "      <th>DRIVING_EXPERIENCE_30y+</th>\n",
              "      <th>INCOME_middle class</th>\n",
              "      <th>INCOME_poverty</th>\n",
              "      <th>INCOME_upper class</th>\n",
              "      <th>INCOME_working class</th>\n",
              "      <th>AGE_16-25</th>\n",
              "      <th>AGE_26-39</th>\n",
              "      <th>AGE_40-64</th>\n",
              "      <th>AGE_65+</th>\n",
              "      <th>VEHICLE_YEAR</th>\n",
              "      <th>GENDER</th>\n",
              "    </tr>\n",
              "  </thead>\n",
              "  <tbody>\n",
              "    <tr>\n",
              "      <th>0</th>\n",
              "      <td>0.0</td>\n",
              "      <td>1.0</td>\n",
              "      <td>0.0</td>\n",
              "      <td>0.0</td>\n",
              "      <td>0.0</td>\n",
              "      <td>0.0</td>\n",
              "      <td>1.0</td>\n",
              "      <td>0.0</td>\n",
              "      <td>0.0</td>\n",
              "      <td>0.0</td>\n",
              "      <td>0.0</td>\n",
              "      <td>0.0</td>\n",
              "      <td>1.0</td>\n",
              "      <td>0.0</td>\n",
              "      <td>0.0</td>\n",
              "      <td>1.0</td>\n",
              "      <td>0.0</td>\n",
              "      <td>0.0</td>\n",
              "      <td>1.0</td>\n",
              "    </tr>\n",
              "    <tr>\n",
              "      <th>1</th>\n",
              "      <td>1.0</td>\n",
              "      <td>0.0</td>\n",
              "      <td>0.0</td>\n",
              "      <td>1.0</td>\n",
              "      <td>0.0</td>\n",
              "      <td>0.0</td>\n",
              "      <td>0.0</td>\n",
              "      <td>1.0</td>\n",
              "      <td>0.0</td>\n",
              "      <td>0.0</td>\n",
              "      <td>0.0</td>\n",
              "      <td>1.0</td>\n",
              "      <td>0.0</td>\n",
              "      <td>0.0</td>\n",
              "      <td>1.0</td>\n",
              "      <td>0.0</td>\n",
              "      <td>0.0</td>\n",
              "      <td>1.0</td>\n",
              "      <td>0.0</td>\n",
              "    </tr>\n",
              "    <tr>\n",
              "      <th>2</th>\n",
              "      <td>0.0</td>\n",
              "      <td>0.0</td>\n",
              "      <td>1.0</td>\n",
              "      <td>0.0</td>\n",
              "      <td>0.0</td>\n",
              "      <td>0.0</td>\n",
              "      <td>1.0</td>\n",
              "      <td>0.0</td>\n",
              "      <td>0.0</td>\n",
              "      <td>0.0</td>\n",
              "      <td>0.0</td>\n",
              "      <td>1.0</td>\n",
              "      <td>0.0</td>\n",
              "      <td>0.0</td>\n",
              "      <td>0.0</td>\n",
              "      <td>1.0</td>\n",
              "      <td>0.0</td>\n",
              "      <td>0.0</td>\n",
              "      <td>1.0</td>\n",
              "    </tr>\n",
              "    <tr>\n",
              "      <th>3</th>\n",
              "      <td>1.0</td>\n",
              "      <td>0.0</td>\n",
              "      <td>1.0</td>\n",
              "      <td>0.0</td>\n",
              "      <td>0.0</td>\n",
              "      <td>0.0</td>\n",
              "      <td>0.0</td>\n",
              "      <td>1.0</td>\n",
              "      <td>0.0</td>\n",
              "      <td>0.0</td>\n",
              "      <td>0.0</td>\n",
              "      <td>1.0</td>\n",
              "      <td>0.0</td>\n",
              "      <td>0.0</td>\n",
              "      <td>1.0</td>\n",
              "      <td>0.0</td>\n",
              "      <td>0.0</td>\n",
              "      <td>0.0</td>\n",
              "      <td>1.0</td>\n",
              "    </tr>\n",
              "    <tr>\n",
              "      <th>4</th>\n",
              "      <td>0.0</td>\n",
              "      <td>1.0</td>\n",
              "      <td>0.0</td>\n",
              "      <td>0.0</td>\n",
              "      <td>0.0</td>\n",
              "      <td>0.0</td>\n",
              "      <td>1.0</td>\n",
              "      <td>0.0</td>\n",
              "      <td>0.0</td>\n",
              "      <td>1.0</td>\n",
              "      <td>0.0</td>\n",
              "      <td>0.0</td>\n",
              "      <td>0.0</td>\n",
              "      <td>0.0</td>\n",
              "      <td>0.0</td>\n",
              "      <td>0.0</td>\n",
              "      <td>1.0</td>\n",
              "      <td>0.0</td>\n",
              "      <td>1.0</td>\n",
              "    </tr>\n",
              "  </tbody>\n",
              "</table>\n",
              "</div>"
            ],
            "text/plain": [
              "   EDUCATION  TYPE_OF_VEHICLE_HatchBack  TYPE_OF_VEHICLE_SUV  \\\n",
              "0        0.0                        1.0                  0.0   \n",
              "1        1.0                        0.0                  0.0   \n",
              "2        0.0                        0.0                  1.0   \n",
              "3        1.0                        0.0                  1.0   \n",
              "4        0.0                        1.0                  0.0   \n",
              "\n",
              "   TYPE_OF_VEHICLE_Sedan  TYPE_OF_VEHICLE_Sports Car  DRIVING_EXPERIENCE_0-9y  \\\n",
              "0                    0.0                         0.0                      0.0   \n",
              "1                    1.0                         0.0                      0.0   \n",
              "2                    0.0                         0.0                      0.0   \n",
              "3                    0.0                         0.0                      0.0   \n",
              "4                    0.0                         0.0                      0.0   \n",
              "\n",
              "   DRIVING_EXPERIENCE_10-19y  DRIVING_EXPERIENCE_20-29y  \\\n",
              "0                        1.0                        0.0   \n",
              "1                        0.0                        1.0   \n",
              "2                        1.0                        0.0   \n",
              "3                        0.0                        1.0   \n",
              "4                        1.0                        0.0   \n",
              "\n",
              "   DRIVING_EXPERIENCE_30y+  INCOME_middle class  INCOME_poverty  \\\n",
              "0                      0.0                  0.0             0.0   \n",
              "1                      0.0                  0.0             0.0   \n",
              "2                      0.0                  0.0             0.0   \n",
              "3                      0.0                  0.0             0.0   \n",
              "4                      0.0                  1.0             0.0   \n",
              "\n",
              "   INCOME_upper class  INCOME_working class  AGE_16-25  AGE_26-39  AGE_40-64  \\\n",
              "0                 0.0                   1.0        0.0        0.0        1.0   \n",
              "1                 1.0                   0.0        0.0        1.0        0.0   \n",
              "2                 1.0                   0.0        0.0        0.0        1.0   \n",
              "3                 1.0                   0.0        0.0        1.0        0.0   \n",
              "4                 0.0                   0.0        0.0        0.0        0.0   \n",
              "\n",
              "   AGE_65+  VEHICLE_YEAR  GENDER  \n",
              "0      0.0           0.0     1.0  \n",
              "1      0.0           1.0     0.0  \n",
              "2      0.0           0.0     1.0  \n",
              "3      0.0           0.0     1.0  \n",
              "4      1.0           0.0     1.0  "
            ]
          },
          "execution_count": 18,
          "metadata": {},
          "output_type": "execute_result"
        }
      ],
      "source": [
        "test_cat_enc.head()"
      ]
    },
    {
      "cell_type": "code",
      "execution_count": null,
      "metadata": {
        "id": "6osVfWxEFY5I",
        "outputId": "36a7c9c9-a95d-46cd-a390-7e89a3482f27"
      },
      "outputs": [
        {
          "data": {
            "text/html": [
              "<div>\n",
              "<style scoped>\n",
              "    .dataframe tbody tr th:only-of-type {\n",
              "        vertical-align: middle;\n",
              "    }\n",
              "\n",
              "    .dataframe tbody tr th {\n",
              "        vertical-align: top;\n",
              "    }\n",
              "\n",
              "    .dataframe thead th {\n",
              "        text-align: right;\n",
              "    }\n",
              "</style>\n",
              "<table border=\"1\" class=\"dataframe\">\n",
              "  <thead>\n",
              "    <tr style=\"text-align: right;\">\n",
              "      <th></th>\n",
              "      <th>CREDIT_SCORE</th>\n",
              "      <th>VEHICLE_OWNERSHIP</th>\n",
              "      <th>MARRIED</th>\n",
              "      <th>CHILDREN</th>\n",
              "      <th>POSTAL_CODE</th>\n",
              "      <th>ANNUAL_MILEAGE</th>\n",
              "      <th>SPEEDING_VIOLATIONS</th>\n",
              "      <th>DUIS</th>\n",
              "      <th>PAST_ACCIDENTS</th>\n",
              "      <th>EDUCATION</th>\n",
              "      <th>...</th>\n",
              "      <th>INCOME_poverty</th>\n",
              "      <th>INCOME_upper class</th>\n",
              "      <th>INCOME_working class</th>\n",
              "      <th>AGE_16-25</th>\n",
              "      <th>AGE_26-39</th>\n",
              "      <th>AGE_40-64</th>\n",
              "      <th>AGE_65+</th>\n",
              "      <th>VEHICLE_YEAR</th>\n",
              "      <th>GENDER</th>\n",
              "      <th>OUTCOME</th>\n",
              "    </tr>\n",
              "  </thead>\n",
              "  <tbody>\n",
              "    <tr>\n",
              "      <th>0</th>\n",
              "      <td>0.638050</td>\n",
              "      <td>0.0</td>\n",
              "      <td>0.0</td>\n",
              "      <td>0.0</td>\n",
              "      <td>37379</td>\n",
              "      <td>11000.0</td>\n",
              "      <td>0</td>\n",
              "      <td>0</td>\n",
              "      <td>0</td>\n",
              "      <td>2.0</td>\n",
              "      <td>...</td>\n",
              "      <td>0.0</td>\n",
              "      <td>0.0</td>\n",
              "      <td>0.0</td>\n",
              "      <td>0.0</td>\n",
              "      <td>0.0</td>\n",
              "      <td>1.0</td>\n",
              "      <td>0.0</td>\n",
              "      <td>0.0</td>\n",
              "      <td>0.0</td>\n",
              "      <td>0.0</td>\n",
              "    </tr>\n",
              "    <tr>\n",
              "      <th>1</th>\n",
              "      <td>0.475741</td>\n",
              "      <td>1.0</td>\n",
              "      <td>1.0</td>\n",
              "      <td>0.0</td>\n",
              "      <td>10238</td>\n",
              "      <td>9000.0</td>\n",
              "      <td>0</td>\n",
              "      <td>0</td>\n",
              "      <td>0</td>\n",
              "      <td>1.0</td>\n",
              "      <td>...</td>\n",
              "      <td>0.0</td>\n",
              "      <td>0.0</td>\n",
              "      <td>0.0</td>\n",
              "      <td>0.0</td>\n",
              "      <td>1.0</td>\n",
              "      <td>0.0</td>\n",
              "      <td>0.0</td>\n",
              "      <td>1.0</td>\n",
              "      <td>1.0</td>\n",
              "      <td>1.0</td>\n",
              "    </tr>\n",
              "    <tr>\n",
              "      <th>2</th>\n",
              "      <td>0.839817</td>\n",
              "      <td>1.0</td>\n",
              "      <td>1.0</td>\n",
              "      <td>1.0</td>\n",
              "      <td>10238</td>\n",
              "      <td>12000.0</td>\n",
              "      <td>0</td>\n",
              "      <td>0</td>\n",
              "      <td>0</td>\n",
              "      <td>0.0</td>\n",
              "      <td>...</td>\n",
              "      <td>0.0</td>\n",
              "      <td>0.0</td>\n",
              "      <td>0.0</td>\n",
              "      <td>0.0</td>\n",
              "      <td>0.0</td>\n",
              "      <td>1.0</td>\n",
              "      <td>0.0</td>\n",
              "      <td>1.0</td>\n",
              "      <td>1.0</td>\n",
              "      <td>1.0</td>\n",
              "    </tr>\n",
              "    <tr>\n",
              "      <th>3</th>\n",
              "      <td>0.682527</td>\n",
              "      <td>1.0</td>\n",
              "      <td>0.0</td>\n",
              "      <td>1.0</td>\n",
              "      <td>92099</td>\n",
              "      <td>6000.0</td>\n",
              "      <td>1</td>\n",
              "      <td>0</td>\n",
              "      <td>0</td>\n",
              "      <td>1.0</td>\n",
              "      <td>...</td>\n",
              "      <td>0.0</td>\n",
              "      <td>1.0</td>\n",
              "      <td>0.0</td>\n",
              "      <td>0.0</td>\n",
              "      <td>0.0</td>\n",
              "      <td>1.0</td>\n",
              "      <td>0.0</td>\n",
              "      <td>1.0</td>\n",
              "      <td>1.0</td>\n",
              "      <td>1.0</td>\n",
              "    </tr>\n",
              "    <tr>\n",
              "      <th>4</th>\n",
              "      <td>0.572184</td>\n",
              "      <td>1.0</td>\n",
              "      <td>1.0</td>\n",
              "      <td>1.0</td>\n",
              "      <td>32122</td>\n",
              "      <td>15000.0</td>\n",
              "      <td>0</td>\n",
              "      <td>0</td>\n",
              "      <td>1</td>\n",
              "      <td>0.0</td>\n",
              "      <td>...</td>\n",
              "      <td>0.0</td>\n",
              "      <td>0.0</td>\n",
              "      <td>1.0</td>\n",
              "      <td>0.0</td>\n",
              "      <td>0.0</td>\n",
              "      <td>1.0</td>\n",
              "      <td>0.0</td>\n",
              "      <td>0.0</td>\n",
              "      <td>0.0</td>\n",
              "      <td>0.0</td>\n",
              "    </tr>\n",
              "  </tbody>\n",
              "</table>\n",
              "<p>5 rows × 29 columns</p>\n",
              "</div>"
            ],
            "text/plain": [
              "   CREDIT_SCORE  VEHICLE_OWNERSHIP  MARRIED  CHILDREN  POSTAL_CODE  \\\n",
              "0      0.638050                0.0      0.0       0.0        37379   \n",
              "1      0.475741                1.0      1.0       0.0        10238   \n",
              "2      0.839817                1.0      1.0       1.0        10238   \n",
              "3      0.682527                1.0      0.0       1.0        92099   \n",
              "4      0.572184                1.0      1.0       1.0        32122   \n",
              "\n",
              "   ANNUAL_MILEAGE  SPEEDING_VIOLATIONS  DUIS  PAST_ACCIDENTS  EDUCATION  ...  \\\n",
              "0         11000.0                    0     0               0        2.0  ...   \n",
              "1          9000.0                    0     0               0        1.0  ...   \n",
              "2         12000.0                    0     0               0        0.0  ...   \n",
              "3          6000.0                    1     0               0        1.0  ...   \n",
              "4         15000.0                    0     0               1        0.0  ...   \n",
              "\n",
              "   INCOME_poverty  INCOME_upper class  INCOME_working class  AGE_16-25  \\\n",
              "0             0.0                 0.0                   0.0        0.0   \n",
              "1             0.0                 0.0                   0.0        0.0   \n",
              "2             0.0                 0.0                   0.0        0.0   \n",
              "3             0.0                 1.0                   0.0        0.0   \n",
              "4             0.0                 0.0                   1.0        0.0   \n",
              "\n",
              "   AGE_26-39  AGE_40-64  AGE_65+  VEHICLE_YEAR  GENDER  OUTCOME  \n",
              "0        0.0        1.0      0.0           0.0     0.0      0.0  \n",
              "1        1.0        0.0      0.0           1.0     1.0      1.0  \n",
              "2        0.0        1.0      0.0           1.0     1.0      1.0  \n",
              "3        0.0        1.0      0.0           1.0     1.0      1.0  \n",
              "4        0.0        1.0      0.0           0.0     0.0      0.0  \n",
              "\n",
              "[5 rows x 29 columns]"
            ]
          },
          "execution_count": 19,
          "metadata": {},
          "output_type": "execute_result"
        }
      ],
      "source": [
        "train_complete_enc = pd.concat([train[numerical_cols], train_cat_enc, train['OUTCOME']], axis=1)\n",
        "test_complete_enc = pd.concat([test[numerical_cols], test_cat_enc], axis=1)\n",
        "\n",
        "train_complete_enc.head()"
      ]
    },
    {
      "cell_type": "code",
      "execution_count": null,
      "metadata": {
        "id": "rJEZ2_meFY5I",
        "outputId": "1df3fde6-4648-415f-905e-73e0aab39db2"
      },
      "outputs": [
        {
          "data": {
            "text/html": [
              "<div>\n",
              "<style scoped>\n",
              "    .dataframe tbody tr th:only-of-type {\n",
              "        vertical-align: middle;\n",
              "    }\n",
              "\n",
              "    .dataframe tbody tr th {\n",
              "        vertical-align: top;\n",
              "    }\n",
              "\n",
              "    .dataframe thead th {\n",
              "        text-align: right;\n",
              "    }\n",
              "</style>\n",
              "<table border=\"1\" class=\"dataframe\">\n",
              "  <thead>\n",
              "    <tr style=\"text-align: right;\">\n",
              "      <th></th>\n",
              "      <th>CREDIT_SCORE</th>\n",
              "      <th>VEHICLE_OWNERSHIP</th>\n",
              "      <th>MARRIED</th>\n",
              "      <th>CHILDREN</th>\n",
              "      <th>POSTAL_CODE</th>\n",
              "      <th>ANNUAL_MILEAGE</th>\n",
              "      <th>SPEEDING_VIOLATIONS</th>\n",
              "      <th>DUIS</th>\n",
              "      <th>PAST_ACCIDENTS</th>\n",
              "      <th>EDUCATION</th>\n",
              "      <th>...</th>\n",
              "      <th>INCOME_middle class</th>\n",
              "      <th>INCOME_poverty</th>\n",
              "      <th>INCOME_upper class</th>\n",
              "      <th>INCOME_working class</th>\n",
              "      <th>AGE_16-25</th>\n",
              "      <th>AGE_26-39</th>\n",
              "      <th>AGE_40-64</th>\n",
              "      <th>AGE_65+</th>\n",
              "      <th>VEHICLE_YEAR</th>\n",
              "      <th>GENDER</th>\n",
              "    </tr>\n",
              "  </thead>\n",
              "  <tbody>\n",
              "    <tr>\n",
              "      <th>0</th>\n",
              "      <td>0.814707</td>\n",
              "      <td>1.0</td>\n",
              "      <td>0.0</td>\n",
              "      <td>1.0</td>\n",
              "      <td>10238</td>\n",
              "      <td>10000.0</td>\n",
              "      <td>0</td>\n",
              "      <td>0</td>\n",
              "      <td>0</td>\n",
              "      <td>0.0</td>\n",
              "      <td>...</td>\n",
              "      <td>0.0</td>\n",
              "      <td>0.0</td>\n",
              "      <td>0.0</td>\n",
              "      <td>1.0</td>\n",
              "      <td>0.0</td>\n",
              "      <td>0.0</td>\n",
              "      <td>1.0</td>\n",
              "      <td>0.0</td>\n",
              "      <td>0.0</td>\n",
              "      <td>1.0</td>\n",
              "    </tr>\n",
              "    <tr>\n",
              "      <th>1</th>\n",
              "      <td>0.344051</td>\n",
              "      <td>1.0</td>\n",
              "      <td>0.0</td>\n",
              "      <td>0.0</td>\n",
              "      <td>34073</td>\n",
              "      <td>13000.0</td>\n",
              "      <td>0</td>\n",
              "      <td>0</td>\n",
              "      <td>0</td>\n",
              "      <td>1.0</td>\n",
              "      <td>...</td>\n",
              "      <td>0.0</td>\n",
              "      <td>0.0</td>\n",
              "      <td>1.0</td>\n",
              "      <td>0.0</td>\n",
              "      <td>0.0</td>\n",
              "      <td>1.0</td>\n",
              "      <td>0.0</td>\n",
              "      <td>0.0</td>\n",
              "      <td>1.0</td>\n",
              "      <td>0.0</td>\n",
              "    </tr>\n",
              "    <tr>\n",
              "      <th>2</th>\n",
              "      <td>0.620691</td>\n",
              "      <td>0.0</td>\n",
              "      <td>1.0</td>\n",
              "      <td>0.0</td>\n",
              "      <td>10238</td>\n",
              "      <td>12000.0</td>\n",
              "      <td>0</td>\n",
              "      <td>0</td>\n",
              "      <td>0</td>\n",
              "      <td>0.0</td>\n",
              "      <td>...</td>\n",
              "      <td>0.0</td>\n",
              "      <td>0.0</td>\n",
              "      <td>1.0</td>\n",
              "      <td>0.0</td>\n",
              "      <td>0.0</td>\n",
              "      <td>0.0</td>\n",
              "      <td>1.0</td>\n",
              "      <td>0.0</td>\n",
              "      <td>0.0</td>\n",
              "      <td>1.0</td>\n",
              "    </tr>\n",
              "    <tr>\n",
              "      <th>3</th>\n",
              "      <td>0.689658</td>\n",
              "      <td>1.0</td>\n",
              "      <td>1.0</td>\n",
              "      <td>1.0</td>\n",
              "      <td>10238</td>\n",
              "      <td>16000.0</td>\n",
              "      <td>1</td>\n",
              "      <td>0</td>\n",
              "      <td>0</td>\n",
              "      <td>1.0</td>\n",
              "      <td>...</td>\n",
              "      <td>0.0</td>\n",
              "      <td>0.0</td>\n",
              "      <td>1.0</td>\n",
              "      <td>0.0</td>\n",
              "      <td>0.0</td>\n",
              "      <td>1.0</td>\n",
              "      <td>0.0</td>\n",
              "      <td>0.0</td>\n",
              "      <td>0.0</td>\n",
              "      <td>1.0</td>\n",
              "    </tr>\n",
              "    <tr>\n",
              "      <th>4</th>\n",
              "      <td>0.755666</td>\n",
              "      <td>0.0</td>\n",
              "      <td>0.0</td>\n",
              "      <td>1.0</td>\n",
              "      <td>92101</td>\n",
              "      <td>14000.0</td>\n",
              "      <td>2</td>\n",
              "      <td>0</td>\n",
              "      <td>0</td>\n",
              "      <td>0.0</td>\n",
              "      <td>...</td>\n",
              "      <td>1.0</td>\n",
              "      <td>0.0</td>\n",
              "      <td>0.0</td>\n",
              "      <td>0.0</td>\n",
              "      <td>0.0</td>\n",
              "      <td>0.0</td>\n",
              "      <td>0.0</td>\n",
              "      <td>1.0</td>\n",
              "      <td>0.0</td>\n",
              "      <td>1.0</td>\n",
              "    </tr>\n",
              "  </tbody>\n",
              "</table>\n",
              "<p>5 rows × 28 columns</p>\n",
              "</div>"
            ],
            "text/plain": [
              "   CREDIT_SCORE  VEHICLE_OWNERSHIP  MARRIED  CHILDREN  POSTAL_CODE  \\\n",
              "0      0.814707                1.0      0.0       1.0        10238   \n",
              "1      0.344051                1.0      0.0       0.0        34073   \n",
              "2      0.620691                0.0      1.0       0.0        10238   \n",
              "3      0.689658                1.0      1.0       1.0        10238   \n",
              "4      0.755666                0.0      0.0       1.0        92101   \n",
              "\n",
              "   ANNUAL_MILEAGE  SPEEDING_VIOLATIONS  DUIS  PAST_ACCIDENTS  EDUCATION  ...  \\\n",
              "0         10000.0                    0     0               0        0.0  ...   \n",
              "1         13000.0                    0     0               0        1.0  ...   \n",
              "2         12000.0                    0     0               0        0.0  ...   \n",
              "3         16000.0                    1     0               0        1.0  ...   \n",
              "4         14000.0                    2     0               0        0.0  ...   \n",
              "\n",
              "   INCOME_middle class  INCOME_poverty  INCOME_upper class  \\\n",
              "0                  0.0             0.0                 0.0   \n",
              "1                  0.0             0.0                 1.0   \n",
              "2                  0.0             0.0                 1.0   \n",
              "3                  0.0             0.0                 1.0   \n",
              "4                  1.0             0.0                 0.0   \n",
              "\n",
              "   INCOME_working class  AGE_16-25  AGE_26-39  AGE_40-64  AGE_65+  \\\n",
              "0                   1.0        0.0        0.0        1.0      0.0   \n",
              "1                   0.0        0.0        1.0        0.0      0.0   \n",
              "2                   0.0        0.0        0.0        1.0      0.0   \n",
              "3                   0.0        0.0        1.0        0.0      0.0   \n",
              "4                   0.0        0.0        0.0        0.0      1.0   \n",
              "\n",
              "   VEHICLE_YEAR  GENDER  \n",
              "0           0.0     1.0  \n",
              "1           1.0     0.0  \n",
              "2           0.0     1.0  \n",
              "3           0.0     1.0  \n",
              "4           0.0     1.0  \n",
              "\n",
              "[5 rows x 28 columns]"
            ]
          },
          "execution_count": 20,
          "metadata": {},
          "output_type": "execute_result"
        }
      ],
      "source": [
        "test_complete_enc.head()"
      ]
    },
    {
      "cell_type": "code",
      "execution_count": null,
      "metadata": {
        "id": "osfZIaXqFY5J",
        "outputId": "6d4f8253-494a-474c-83e2-ac719967ceab"
      },
      "outputs": [
        {
          "name": "stdout",
          "output_type": "stream",
          "text": [
            "<class 'pandas.core.frame.DataFrame'>\n",
            "RangeIndex: 105000 entries, 0 to 104999\n",
            "Data columns (total 29 columns):\n",
            " #   Column                      Non-Null Count   Dtype  \n",
            "---  ------                      --------------   -----  \n",
            " 0   CREDIT_SCORE                105000 non-null  float64\n",
            " 1   VEHICLE_OWNERSHIP           105000 non-null  float64\n",
            " 2   MARRIED                     105000 non-null  float64\n",
            " 3   CHILDREN                    105000 non-null  float64\n",
            " 4   POSTAL_CODE                 105000 non-null  int64  \n",
            " 5   ANNUAL_MILEAGE              105000 non-null  float64\n",
            " 6   SPEEDING_VIOLATIONS         105000 non-null  int64  \n",
            " 7   DUIS                        105000 non-null  int64  \n",
            " 8   PAST_ACCIDENTS              105000 non-null  int64  \n",
            " 9   EDUCATION                   105000 non-null  float64\n",
            " 10  TYPE_OF_VEHICLE_HatchBack   105000 non-null  float64\n",
            " 11  TYPE_OF_VEHICLE_SUV         105000 non-null  float64\n",
            " 12  TYPE_OF_VEHICLE_Sedan       105000 non-null  float64\n",
            " 13  TYPE_OF_VEHICLE_Sports Car  105000 non-null  float64\n",
            " 14  DRIVING_EXPERIENCE_0-9y     105000 non-null  float64\n",
            " 15  DRIVING_EXPERIENCE_10-19y   105000 non-null  float64\n",
            " 16  DRIVING_EXPERIENCE_20-29y   105000 non-null  float64\n",
            " 17  DRIVING_EXPERIENCE_30y+     105000 non-null  float64\n",
            " 18  INCOME_middle class         105000 non-null  float64\n",
            " 19  INCOME_poverty              105000 non-null  float64\n",
            " 20  INCOME_upper class          105000 non-null  float64\n",
            " 21  INCOME_working class        105000 non-null  float64\n",
            " 22  AGE_16-25                   105000 non-null  float64\n",
            " 23  AGE_26-39                   105000 non-null  float64\n",
            " 24  AGE_40-64                   105000 non-null  float64\n",
            " 25  AGE_65+                     105000 non-null  float64\n",
            " 26  VEHICLE_YEAR                105000 non-null  float64\n",
            " 27  GENDER                      105000 non-null  float64\n",
            " 28  OUTCOME                     105000 non-null  float64\n",
            "dtypes: float64(25), int64(4)\n",
            "memory usage: 23.2 MB\n"
          ]
        }
      ],
      "source": [
        "train_complete_enc.info()"
      ]
    },
    {
      "cell_type": "markdown",
      "metadata": {
        "id": "xqhpY0VZFY5J"
      },
      "source": [
        "\n",
        "### 4.4 Dummy Variable Trap\n",
        "One of the downsides of one-hot encoding is that we can fall into the Dummy Variable Trap. To avoid problems with Multicollinearity, let's look into the one-hot encoded variables.\n",
        "\n",
        "A common practice is to drop one of the columns for each encoding, but let's evaluate how doing so reduces multicollinearity\n",
        "\n",
        "One of the common ways to check for multicollinearity is the Variance Inflation Factor (VIF):\n",
        "\n",
        "- VIF = 1 : Very little Multicollinearity\n",
        "- VIF < 5 : Moderate Multicollinearity\n",
        "- VIF > 5 : Extreme Multicollinearity (This is what we have to avoid)"
      ]
    },
    {
      "cell_type": "code",
      "execution_count": null,
      "metadata": {
        "id": "BhNq6anvFY5J",
        "outputId": "60595f01-35a1-4b4f-b5da-fef05c3939f1"
      },
      "outputs": [
        {
          "name": "stderr",
          "output_type": "stream",
          "text": [
            "c:\\Users\\ibola\\anaconda3\\lib\\site-packages\\statsmodels\\stats\\outliers_influence.py:195: RuntimeWarning: divide by zero encountered in double_scalars\n",
            "  vif = 1. / (1. - r_squared_i)\n"
          ]
        },
        {
          "data": {
            "text/html": [
              "<div>\n",
              "<style scoped>\n",
              "    .dataframe tbody tr th:only-of-type {\n",
              "        vertical-align: middle;\n",
              "    }\n",
              "\n",
              "    .dataframe tbody tr th {\n",
              "        vertical-align: top;\n",
              "    }\n",
              "\n",
              "    .dataframe thead th {\n",
              "        text-align: right;\n",
              "    }\n",
              "</style>\n",
              "<table border=\"1\" class=\"dataframe\">\n",
              "  <thead>\n",
              "    <tr style=\"text-align: right;\">\n",
              "      <th></th>\n",
              "      <th>Variable</th>\n",
              "      <th>VIF</th>\n",
              "    </tr>\n",
              "  </thead>\n",
              "  <tbody>\n",
              "    <tr>\n",
              "      <th>0</th>\n",
              "      <td>CREDIT_SCORE</td>\n",
              "      <td>1.001328</td>\n",
              "    </tr>\n",
              "    <tr>\n",
              "      <th>1</th>\n",
              "      <td>VEHICLE_OWNERSHIP</td>\n",
              "      <td>1.000319</td>\n",
              "    </tr>\n",
              "    <tr>\n",
              "      <th>2</th>\n",
              "      <td>MARRIED</td>\n",
              "      <td>1.000213</td>\n",
              "    </tr>\n",
              "    <tr>\n",
              "      <th>3</th>\n",
              "      <td>CHILDREN</td>\n",
              "      <td>1.000513</td>\n",
              "    </tr>\n",
              "    <tr>\n",
              "      <th>4</th>\n",
              "      <td>POSTAL_CODE</td>\n",
              "      <td>1.000543</td>\n",
              "    </tr>\n",
              "    <tr>\n",
              "      <th>5</th>\n",
              "      <td>ANNUAL_MILEAGE</td>\n",
              "      <td>1.000788</td>\n",
              "    </tr>\n",
              "    <tr>\n",
              "      <th>6</th>\n",
              "      <td>SPEEDING_VIOLATIONS</td>\n",
              "      <td>1.000534</td>\n",
              "    </tr>\n",
              "    <tr>\n",
              "      <th>7</th>\n",
              "      <td>DUIS</td>\n",
              "      <td>1.000317</td>\n",
              "    </tr>\n",
              "    <tr>\n",
              "      <th>8</th>\n",
              "      <td>PAST_ACCIDENTS</td>\n",
              "      <td>1.000451</td>\n",
              "    </tr>\n",
              "    <tr>\n",
              "      <th>9</th>\n",
              "      <td>EDUCATION</td>\n",
              "      <td>1.000363</td>\n",
              "    </tr>\n",
              "    <tr>\n",
              "      <th>10</th>\n",
              "      <td>TYPE_OF_VEHICLE_HatchBack</td>\n",
              "      <td>inf</td>\n",
              "    </tr>\n",
              "    <tr>\n",
              "      <th>11</th>\n",
              "      <td>TYPE_OF_VEHICLE_SUV</td>\n",
              "      <td>inf</td>\n",
              "    </tr>\n",
              "    <tr>\n",
              "      <th>12</th>\n",
              "      <td>TYPE_OF_VEHICLE_Sedan</td>\n",
              "      <td>inf</td>\n",
              "    </tr>\n",
              "    <tr>\n",
              "      <th>13</th>\n",
              "      <td>TYPE_OF_VEHICLE_Sports Car</td>\n",
              "      <td>inf</td>\n",
              "    </tr>\n",
              "    <tr>\n",
              "      <th>14</th>\n",
              "      <td>DRIVING_EXPERIENCE_0-9y</td>\n",
              "      <td>inf</td>\n",
              "    </tr>\n",
              "    <tr>\n",
              "      <th>15</th>\n",
              "      <td>DRIVING_EXPERIENCE_10-19y</td>\n",
              "      <td>inf</td>\n",
              "    </tr>\n",
              "    <tr>\n",
              "      <th>16</th>\n",
              "      <td>DRIVING_EXPERIENCE_20-29y</td>\n",
              "      <td>inf</td>\n",
              "    </tr>\n",
              "    <tr>\n",
              "      <th>17</th>\n",
              "      <td>DRIVING_EXPERIENCE_30y+</td>\n",
              "      <td>inf</td>\n",
              "    </tr>\n",
              "    <tr>\n",
              "      <th>18</th>\n",
              "      <td>INCOME_middle class</td>\n",
              "      <td>inf</td>\n",
              "    </tr>\n",
              "    <tr>\n",
              "      <th>19</th>\n",
              "      <td>INCOME_poverty</td>\n",
              "      <td>inf</td>\n",
              "    </tr>\n",
              "    <tr>\n",
              "      <th>20</th>\n",
              "      <td>INCOME_upper class</td>\n",
              "      <td>inf</td>\n",
              "    </tr>\n",
              "    <tr>\n",
              "      <th>21</th>\n",
              "      <td>INCOME_working class</td>\n",
              "      <td>inf</td>\n",
              "    </tr>\n",
              "    <tr>\n",
              "      <th>22</th>\n",
              "      <td>AGE_16-25</td>\n",
              "      <td>inf</td>\n",
              "    </tr>\n",
              "    <tr>\n",
              "      <th>23</th>\n",
              "      <td>AGE_26-39</td>\n",
              "      <td>inf</td>\n",
              "    </tr>\n",
              "    <tr>\n",
              "      <th>24</th>\n",
              "      <td>AGE_40-64</td>\n",
              "      <td>inf</td>\n",
              "    </tr>\n",
              "    <tr>\n",
              "      <th>25</th>\n",
              "      <td>AGE_65+</td>\n",
              "      <td>inf</td>\n",
              "    </tr>\n",
              "    <tr>\n",
              "      <th>26</th>\n",
              "      <td>VEHICLE_YEAR</td>\n",
              "      <td>1.000594</td>\n",
              "    </tr>\n",
              "    <tr>\n",
              "      <th>27</th>\n",
              "      <td>GENDER</td>\n",
              "      <td>1.000392</td>\n",
              "    </tr>\n",
              "  </tbody>\n",
              "</table>\n",
              "</div>"
            ],
            "text/plain": [
              "                      Variable       VIF\n",
              "0                 CREDIT_SCORE  1.001328\n",
              "1            VEHICLE_OWNERSHIP  1.000319\n",
              "2                      MARRIED  1.000213\n",
              "3                     CHILDREN  1.000513\n",
              "4                  POSTAL_CODE  1.000543\n",
              "5               ANNUAL_MILEAGE  1.000788\n",
              "6          SPEEDING_VIOLATIONS  1.000534\n",
              "7                         DUIS  1.000317\n",
              "8               PAST_ACCIDENTS  1.000451\n",
              "9                    EDUCATION  1.000363\n",
              "10   TYPE_OF_VEHICLE_HatchBack       inf\n",
              "11         TYPE_OF_VEHICLE_SUV       inf\n",
              "12       TYPE_OF_VEHICLE_Sedan       inf\n",
              "13  TYPE_OF_VEHICLE_Sports Car       inf\n",
              "14     DRIVING_EXPERIENCE_0-9y       inf\n",
              "15   DRIVING_EXPERIENCE_10-19y       inf\n",
              "16   DRIVING_EXPERIENCE_20-29y       inf\n",
              "17     DRIVING_EXPERIENCE_30y+       inf\n",
              "18         INCOME_middle class       inf\n",
              "19              INCOME_poverty       inf\n",
              "20          INCOME_upper class       inf\n",
              "21        INCOME_working class       inf\n",
              "22                   AGE_16-25       inf\n",
              "23                   AGE_26-39       inf\n",
              "24                   AGE_40-64       inf\n",
              "25                     AGE_65+       inf\n",
              "26                VEHICLE_YEAR  1.000594\n",
              "27                      GENDER  1.000392"
            ]
          },
          "execution_count": 50,
          "metadata": {},
          "output_type": "execute_result"
        }
      ],
      "source": [
        "def calc_vif(df):\n",
        "    df_cols = df.columns\n",
        "    vif_values = [\n",
        "        variance_inflation_factor(df.values, i) for i in range(len(df_cols))\n",
        "        ]\n",
        "    return pd.DataFrame(zip(df_cols, vif_values),columns=['Variable','VIF'])\n",
        "\n",
        "calc_vif(train_complete_enc.drop(['OUTCOME'], axis=1))"
      ]
    },
    {
      "cell_type": "markdown",
      "metadata": {
        "id": "yTLgMn20FY5K"
      },
      "source": [
        "As expected, the one-hot encoded variables displayed infinite VIF, which means we have to drop one of each of the newly encoded features."
      ]
    },
    {
      "cell_type": "code",
      "execution_count": null,
      "metadata": {
        "id": "GGT-4Z7CFY5K",
        "outputId": "26de9c71-c30d-465f-ae27-32135806befe"
      },
      "outputs": [
        {
          "data": {
            "text/html": [
              "<div>\n",
              "<style scoped>\n",
              "    .dataframe tbody tr th:only-of-type {\n",
              "        vertical-align: middle;\n",
              "    }\n",
              "\n",
              "    .dataframe tbody tr th {\n",
              "        vertical-align: top;\n",
              "    }\n",
              "\n",
              "    .dataframe thead th {\n",
              "        text-align: right;\n",
              "    }\n",
              "</style>\n",
              "<table border=\"1\" class=\"dataframe\">\n",
              "  <thead>\n",
              "    <tr style=\"text-align: right;\">\n",
              "      <th></th>\n",
              "      <th>Variable</th>\n",
              "      <th>VIF</th>\n",
              "    </tr>\n",
              "  </thead>\n",
              "  <tbody>\n",
              "    <tr>\n",
              "      <th>0</th>\n",
              "      <td>CREDIT_SCORE</td>\n",
              "      <td>13.172672</td>\n",
              "    </tr>\n",
              "    <tr>\n",
              "      <th>1</th>\n",
              "      <td>VEHICLE_OWNERSHIP</td>\n",
              "      <td>5.316960</td>\n",
              "    </tr>\n",
              "    <tr>\n",
              "      <th>2</th>\n",
              "      <td>MARRIED</td>\n",
              "      <td>2.345695</td>\n",
              "    </tr>\n",
              "    <tr>\n",
              "      <th>3</th>\n",
              "      <td>CHILDREN</td>\n",
              "      <td>2.046077</td>\n",
              "    </tr>\n",
              "    <tr>\n",
              "      <th>4</th>\n",
              "      <td>POSTAL_CODE</td>\n",
              "      <td>2.123203</td>\n",
              "    </tr>\n",
              "    <tr>\n",
              "      <th>5</th>\n",
              "      <td>ANNUAL_MILEAGE</td>\n",
              "      <td>11.071985</td>\n",
              "    </tr>\n",
              "    <tr>\n",
              "      <th>6</th>\n",
              "      <td>SPEEDING_VIOLATIONS</td>\n",
              "      <td>1.233168</td>\n",
              "    </tr>\n",
              "    <tr>\n",
              "      <th>7</th>\n",
              "      <td>DUIS</td>\n",
              "      <td>1.048347</td>\n",
              "    </tr>\n",
              "    <tr>\n",
              "      <th>8</th>\n",
              "      <td>PAST_ACCIDENTS</td>\n",
              "      <td>1.150076</td>\n",
              "    </tr>\n",
              "    <tr>\n",
              "      <th>9</th>\n",
              "      <td>EDUCATION</td>\n",
              "      <td>2.849990</td>\n",
              "    </tr>\n",
              "    <tr>\n",
              "      <th>10</th>\n",
              "      <td>TYPE_OF_VEHICLE_SUV</td>\n",
              "      <td>1.648807</td>\n",
              "    </tr>\n",
              "    <tr>\n",
              "      <th>11</th>\n",
              "      <td>TYPE_OF_VEHICLE_Sedan</td>\n",
              "      <td>2.050960</td>\n",
              "    </tr>\n",
              "    <tr>\n",
              "      <th>12</th>\n",
              "      <td>TYPE_OF_VEHICLE_Sports Car</td>\n",
              "      <td>2.291649</td>\n",
              "    </tr>\n",
              "    <tr>\n",
              "      <th>13</th>\n",
              "      <td>DRIVING_EXPERIENCE_10-19y</td>\n",
              "      <td>1.718178</td>\n",
              "    </tr>\n",
              "    <tr>\n",
              "      <th>14</th>\n",
              "      <td>DRIVING_EXPERIENCE_20-29y</td>\n",
              "      <td>2.070769</td>\n",
              "    </tr>\n",
              "    <tr>\n",
              "      <th>15</th>\n",
              "      <td>DRIVING_EXPERIENCE_30y+</td>\n",
              "      <td>1.265999</td>\n",
              "    </tr>\n",
              "    <tr>\n",
              "      <th>16</th>\n",
              "      <td>INCOME_working class</td>\n",
              "      <td>1.298220</td>\n",
              "    </tr>\n",
              "    <tr>\n",
              "      <th>17</th>\n",
              "      <td>AGE_26-39</td>\n",
              "      <td>1.984841</td>\n",
              "    </tr>\n",
              "    <tr>\n",
              "      <th>18</th>\n",
              "      <td>AGE_40-64</td>\n",
              "      <td>2.655729</td>\n",
              "    </tr>\n",
              "    <tr>\n",
              "      <th>19</th>\n",
              "      <td>AGE_65+</td>\n",
              "      <td>2.621770</td>\n",
              "    </tr>\n",
              "    <tr>\n",
              "      <th>20</th>\n",
              "      <td>VEHICLE_YEAR</td>\n",
              "      <td>2.157565</td>\n",
              "    </tr>\n",
              "  </tbody>\n",
              "</table>\n",
              "</div>"
            ],
            "text/plain": [
              "                      Variable        VIF\n",
              "0                 CREDIT_SCORE  13.172672\n",
              "1            VEHICLE_OWNERSHIP   5.316960\n",
              "2                      MARRIED   2.345695\n",
              "3                     CHILDREN   2.046077\n",
              "4                  POSTAL_CODE   2.123203\n",
              "5               ANNUAL_MILEAGE  11.071985\n",
              "6          SPEEDING_VIOLATIONS   1.233168\n",
              "7                         DUIS   1.048347\n",
              "8               PAST_ACCIDENTS   1.150076\n",
              "9                    EDUCATION   2.849990\n",
              "10         TYPE_OF_VEHICLE_SUV   1.648807\n",
              "11       TYPE_OF_VEHICLE_Sedan   2.050960\n",
              "12  TYPE_OF_VEHICLE_Sports Car   2.291649\n",
              "13   DRIVING_EXPERIENCE_10-19y   1.718178\n",
              "14   DRIVING_EXPERIENCE_20-29y   2.070769\n",
              "15     DRIVING_EXPERIENCE_30y+   1.265999\n",
              "16        INCOME_working class   1.298220\n",
              "17                   AGE_26-39   1.984841\n",
              "18                   AGE_40-64   2.655729\n",
              "19                     AGE_65+   2.621770\n",
              "20                VEHICLE_YEAR   2.157565"
            ]
          },
          "execution_count": 51,
          "metadata": {},
          "output_type": "execute_result"
        }
      ],
      "source": [
        "train_complete_enc.drop(columns=['TYPE_OF_VEHICLE_HatchBack', 'DRIVING_EXPERIENCE_0-9y','INCOME_middle class', 'AGE_16-25', 'GENDER', 'INCOME_poverty', 'INCOME_upper class',], inplace=True)\n",
        "test_complete_enc.drop(columns=['TYPE_OF_VEHICLE_HatchBack', 'DRIVING_EXPERIENCE_0-9y','INCOME_middle class', 'AGE_16-25', 'GENDER', 'INCOME_poverty', 'INCOME_upper class'], inplace=True)\n",
        "calc_vif(train_complete_enc.drop(['OUTCOME'], axis=1))"
      ]
    },
    {
      "cell_type": "markdown",
      "metadata": {
        "id": "GlCOuTJrFY5K"
      },
      "source": [
        "# 5. Model Selection\n",
        "We'll select a list of popular classifiers to compare how they fare with our selected metric.\n",
        "\n",
        "The tests here will be brief without any deeper optimisation."
      ]
    },
    {
      "cell_type": "code",
      "execution_count": null,
      "metadata": {
        "id": "cbtI88OvFY5K"
      },
      "outputs": [],
      "source": [
        "# Model selection\n",
        "classifiers = [\n",
        "\n",
        "    ('Nearest Neighbors', KNeighborsClassifier(3)),\n",
        "    \n",
        "    ('Decision Tree', DecisionTreeClassifier(random_state=0, max_depth=5)),\n",
        "    ('Random Forest', RandomForestClassifier(random_state=0, max_depth=5, n_estimators=10, max_features=1)),\n",
        "    ('Neural Net', MLPClassifier(random_state=0, alpha=1, max_iter=1000)),\n",
        "    ('AdaBoost', AdaBoostClassifier(random_state=0)),\n",
        "    ('Naive Bayes', GaussianNB()),\n",
        "    ('QDA', QuadraticDiscriminantAnalysis()),\n",
        "    ('XGBoost', XGBClassifier(random_state=0, silent=True)),\n",
        "    ('GBM Classifier', GradientBoostingClassifier(random_state=0))]"
      ]
    },
    {
      "cell_type": "markdown",
      "metadata": {
        "id": "h3-29GqeFY5L"
      },
      "source": [
        "Removing our target variable..."
      ]
    },
    {
      "cell_type": "code",
      "execution_count": null,
      "metadata": {
        "id": "QL02YAC8FY5L"
      },
      "outputs": [],
      "source": [
        "y = train_complete_enc['OUTCOME']\n",
        "train_complete_enc = train_complete_enc.drop(columns=['OUTCOME'])"
      ]
    },
    {
      "cell_type": "code",
      "execution_count": null,
      "metadata": {
        "id": "8UplR15ZFY5L",
        "outputId": "b3fb01af-0d5b-4a35-c82d-e8a2b00538ad"
      },
      "outputs": [
        {
          "data": {
            "text/html": [
              "<div>\n",
              "<style scoped>\n",
              "    .dataframe tbody tr th:only-of-type {\n",
              "        vertical-align: middle;\n",
              "    }\n",
              "\n",
              "    .dataframe tbody tr th {\n",
              "        vertical-align: top;\n",
              "    }\n",
              "\n",
              "    .dataframe thead th {\n",
              "        text-align: right;\n",
              "    }\n",
              "</style>\n",
              "<table border=\"1\" class=\"dataframe\">\n",
              "  <thead>\n",
              "    <tr style=\"text-align: right;\">\n",
              "      <th></th>\n",
              "      <th>CREDIT_SCORE</th>\n",
              "      <th>VEHICLE_OWNERSHIP</th>\n",
              "      <th>MARRIED</th>\n",
              "      <th>CHILDREN</th>\n",
              "      <th>POSTAL_CODE</th>\n",
              "      <th>ANNUAL_MILEAGE</th>\n",
              "      <th>SPEEDING_VIOLATIONS</th>\n",
              "      <th>DUIS</th>\n",
              "      <th>PAST_ACCIDENTS</th>\n",
              "      <th>EDUCATION</th>\n",
              "      <th>...</th>\n",
              "      <th>TYPE_OF_VEHICLE_Sedan</th>\n",
              "      <th>TYPE_OF_VEHICLE_Sports Car</th>\n",
              "      <th>DRIVING_EXPERIENCE_10-19y</th>\n",
              "      <th>DRIVING_EXPERIENCE_20-29y</th>\n",
              "      <th>DRIVING_EXPERIENCE_30y+</th>\n",
              "      <th>INCOME_working class</th>\n",
              "      <th>AGE_26-39</th>\n",
              "      <th>AGE_40-64</th>\n",
              "      <th>AGE_65+</th>\n",
              "      <th>VEHICLE_YEAR</th>\n",
              "    </tr>\n",
              "  </thead>\n",
              "  <tbody>\n",
              "    <tr>\n",
              "      <th>0</th>\n",
              "      <td>0.638050</td>\n",
              "      <td>0.0</td>\n",
              "      <td>0.0</td>\n",
              "      <td>0.0</td>\n",
              "      <td>37379</td>\n",
              "      <td>11000.0</td>\n",
              "      <td>0</td>\n",
              "      <td>0</td>\n",
              "      <td>0</td>\n",
              "      <td>2.0</td>\n",
              "      <td>...</td>\n",
              "      <td>0.0</td>\n",
              "      <td>1.0</td>\n",
              "      <td>0.0</td>\n",
              "      <td>1.0</td>\n",
              "      <td>0.0</td>\n",
              "      <td>0.0</td>\n",
              "      <td>0.0</td>\n",
              "      <td>1.0</td>\n",
              "      <td>0.0</td>\n",
              "      <td>0.0</td>\n",
              "    </tr>\n",
              "    <tr>\n",
              "      <th>1</th>\n",
              "      <td>0.475741</td>\n",
              "      <td>1.0</td>\n",
              "      <td>1.0</td>\n",
              "      <td>0.0</td>\n",
              "      <td>10238</td>\n",
              "      <td>9000.0</td>\n",
              "      <td>0</td>\n",
              "      <td>0</td>\n",
              "      <td>0</td>\n",
              "      <td>1.0</td>\n",
              "      <td>...</td>\n",
              "      <td>0.0</td>\n",
              "      <td>0.0</td>\n",
              "      <td>0.0</td>\n",
              "      <td>1.0</td>\n",
              "      <td>0.0</td>\n",
              "      <td>0.0</td>\n",
              "      <td>1.0</td>\n",
              "      <td>0.0</td>\n",
              "      <td>0.0</td>\n",
              "      <td>1.0</td>\n",
              "    </tr>\n",
              "    <tr>\n",
              "      <th>2</th>\n",
              "      <td>0.839817</td>\n",
              "      <td>1.0</td>\n",
              "      <td>1.0</td>\n",
              "      <td>1.0</td>\n",
              "      <td>10238</td>\n",
              "      <td>12000.0</td>\n",
              "      <td>0</td>\n",
              "      <td>0</td>\n",
              "      <td>0</td>\n",
              "      <td>0.0</td>\n",
              "      <td>...</td>\n",
              "      <td>1.0</td>\n",
              "      <td>0.0</td>\n",
              "      <td>0.0</td>\n",
              "      <td>1.0</td>\n",
              "      <td>0.0</td>\n",
              "      <td>0.0</td>\n",
              "      <td>0.0</td>\n",
              "      <td>1.0</td>\n",
              "      <td>0.0</td>\n",
              "      <td>1.0</td>\n",
              "    </tr>\n",
              "    <tr>\n",
              "      <th>3</th>\n",
              "      <td>0.682527</td>\n",
              "      <td>1.0</td>\n",
              "      <td>0.0</td>\n",
              "      <td>1.0</td>\n",
              "      <td>92099</td>\n",
              "      <td>6000.0</td>\n",
              "      <td>1</td>\n",
              "      <td>0</td>\n",
              "      <td>0</td>\n",
              "      <td>1.0</td>\n",
              "      <td>...</td>\n",
              "      <td>1.0</td>\n",
              "      <td>0.0</td>\n",
              "      <td>0.0</td>\n",
              "      <td>1.0</td>\n",
              "      <td>0.0</td>\n",
              "      <td>0.0</td>\n",
              "      <td>0.0</td>\n",
              "      <td>1.0</td>\n",
              "      <td>0.0</td>\n",
              "      <td>1.0</td>\n",
              "    </tr>\n",
              "    <tr>\n",
              "      <th>4</th>\n",
              "      <td>0.572184</td>\n",
              "      <td>1.0</td>\n",
              "      <td>1.0</td>\n",
              "      <td>1.0</td>\n",
              "      <td>32122</td>\n",
              "      <td>15000.0</td>\n",
              "      <td>0</td>\n",
              "      <td>0</td>\n",
              "      <td>1</td>\n",
              "      <td>0.0</td>\n",
              "      <td>...</td>\n",
              "      <td>1.0</td>\n",
              "      <td>0.0</td>\n",
              "      <td>0.0</td>\n",
              "      <td>1.0</td>\n",
              "      <td>0.0</td>\n",
              "      <td>1.0</td>\n",
              "      <td>0.0</td>\n",
              "      <td>1.0</td>\n",
              "      <td>0.0</td>\n",
              "      <td>0.0</td>\n",
              "    </tr>\n",
              "  </tbody>\n",
              "</table>\n",
              "<p>5 rows × 21 columns</p>\n",
              "</div>"
            ],
            "text/plain": [
              "   CREDIT_SCORE  VEHICLE_OWNERSHIP  MARRIED  CHILDREN  POSTAL_CODE  \\\n",
              "0      0.638050                0.0      0.0       0.0        37379   \n",
              "1      0.475741                1.0      1.0       0.0        10238   \n",
              "2      0.839817                1.0      1.0       1.0        10238   \n",
              "3      0.682527                1.0      0.0       1.0        92099   \n",
              "4      0.572184                1.0      1.0       1.0        32122   \n",
              "\n",
              "   ANNUAL_MILEAGE  SPEEDING_VIOLATIONS  DUIS  PAST_ACCIDENTS  EDUCATION  ...  \\\n",
              "0         11000.0                    0     0               0        2.0  ...   \n",
              "1          9000.0                    0     0               0        1.0  ...   \n",
              "2         12000.0                    0     0               0        0.0  ...   \n",
              "3          6000.0                    1     0               0        1.0  ...   \n",
              "4         15000.0                    0     0               1        0.0  ...   \n",
              "\n",
              "   TYPE_OF_VEHICLE_Sedan  TYPE_OF_VEHICLE_Sports Car  \\\n",
              "0                    0.0                         1.0   \n",
              "1                    0.0                         0.0   \n",
              "2                    1.0                         0.0   \n",
              "3                    1.0                         0.0   \n",
              "4                    1.0                         0.0   \n",
              "\n",
              "   DRIVING_EXPERIENCE_10-19y  DRIVING_EXPERIENCE_20-29y  \\\n",
              "0                        0.0                        1.0   \n",
              "1                        0.0                        1.0   \n",
              "2                        0.0                        1.0   \n",
              "3                        0.0                        1.0   \n",
              "4                        0.0                        1.0   \n",
              "\n",
              "   DRIVING_EXPERIENCE_30y+  INCOME_working class  AGE_26-39  AGE_40-64  \\\n",
              "0                      0.0                   0.0        0.0        1.0   \n",
              "1                      0.0                   0.0        1.0        0.0   \n",
              "2                      0.0                   0.0        0.0        1.0   \n",
              "3                      0.0                   0.0        0.0        1.0   \n",
              "4                      0.0                   1.0        0.0        1.0   \n",
              "\n",
              "   AGE_65+  VEHICLE_YEAR  \n",
              "0      0.0           0.0  \n",
              "1      0.0           1.0  \n",
              "2      0.0           1.0  \n",
              "3      0.0           1.0  \n",
              "4      0.0           0.0  \n",
              "\n",
              "[5 rows x 21 columns]"
            ]
          },
          "execution_count": 54,
          "metadata": {},
          "output_type": "execute_result"
        }
      ],
      "source": [
        "train_complete_enc.head()"
      ]
    },
    {
      "cell_type": "markdown",
      "metadata": {
        "id": "6H1aAnvZFY5L"
      },
      "source": [
        "We're going to split dataset into train and test sets and stratify to reflect the distribution of outcomes in the target variables"
      ]
    },
    {
      "cell_type": "code",
      "execution_count": null,
      "metadata": {
        "id": "lDq8au8wFY5L",
        "outputId": "ce946383-2dab-40fe-c18b-461d23a64507"
      },
      "outputs": [
        {
          "data": {
            "text/plain": [
              "0.0    12124\n",
              "1.0     8876\n",
              "Name: OUTCOME, dtype: int64"
            ]
          },
          "execution_count": 55,
          "metadata": {},
          "output_type": "execute_result"
        }
      ],
      "source": [
        "from sklearn.model_selection import train_test_split\n",
        "X_train, X_test, y_train, y_test = train_test_split(train_complete_enc, y, test_size=0.2, stratify=y)\n",
        "y_train.value_counts()\n",
        "y_test.value_counts()"
      ]
    },
    {
      "cell_type": "code",
      "execution_count": null,
      "metadata": {
        "id": "omKjIpZzFY5M",
        "outputId": "03a6c87d-eab7-4f61-ba22-5a86044a06e9"
      },
      "outputs": [
        {
          "name": "stdout",
          "output_type": "stream",
          "text": [
            "('Nearest Neighbors', 4.810397519006176)\n",
            "('Decision Tree', 0.6820750249551144)\n",
            "('Random Forest', 0.6811349518465778)\n",
            "('Neural Net', 6.947401648609969)\n",
            "('AdaBoost', 0.6926256812918044)\n",
            "('Naive Bayes', 0.6817753112478834)\n",
            "('QDA', 0.6855312053772572)\n",
            "[17:56:50] WARNING: C:\\Windows\\Temp\\abs_557yfx631l\\croots\\recipe\\xgboost-split_1659548953302\\work\\src\\learner.cc:576: \n",
            "Parameters: { \"silent\" } might not be used.\n",
            "\n",
            "  This could be a false alarm, with some parameters getting used by language bindings but\n",
            "  then being mistakenly passed down to XGBoost core, or some parameter actually being used\n",
            "  but getting flagged wrongly here. Please open an issue if you find any such cases.\n",
            "\n",
            "\n"
          ]
        },
        {
          "name": "stderr",
          "output_type": "stream",
          "text": [
            "c:\\Users\\ibola\\anaconda3\\lib\\site-packages\\xgboost\\sklearn.py:1224: UserWarning: The use of label encoder in XGBClassifier is deprecated and will be removed in a future release. To remove this warning, do the following: 1) Pass option use_label_encoder=False when constructing XGBClassifier object; and 2) Encode your labels (y) as integers starting with 0, i.e. 0, 1, 2, ..., [num_class - 1].\n",
            "  warnings.warn(label_encoder_deprecation_msg, UserWarning)\n",
            "c:\\Users\\ibola\\anaconda3\\lib\\site-packages\\xgboost\\data.py:250: FutureWarning: pandas.Int64Index is deprecated and will be removed from pandas in a future version. Use pandas.Index with the appropriate dtype instead.\n",
            "  elif isinstance(data.columns, (pd.Int64Index, pd.RangeIndex)):\n"
          ]
        },
        {
          "name": "stdout",
          "output_type": "stream",
          "text": [
            "[17:56:50] WARNING: C:\\Windows\\Temp\\abs_557yfx631l\\croots\\recipe\\xgboost-split_1659548953302\\work\\src\\learner.cc:1115: Starting in XGBoost 1.3.0, the default evaluation metric used with the objective 'binary:logistic' was changed from 'error' to 'logloss'. Explicitly set eval_metric if you'd like to restore the old behavior.\n",
            "('XGBoost', 0.6884704669408855)\n",
            "('GBM Classifier', 0.6813877477099461)\n"
          ]
        }
      ],
      "source": [
        "from sklearn.metrics import log_loss\n",
        "performance = []\n",
        "for name, clf in classifiers:\n",
        "    clf.fit(X_train, y_train)\n",
        "    y_pred = clf.predict_proba(X_test)\n",
        "    perf_tuple = (name, log_loss(y_test, y_pred))\n",
        "    print(perf_tuple)\n",
        "    performance.append(perf_tuple)"
      ]
    },
    {
      "cell_type": "markdown",
      "metadata": {
        "id": "2ILy4bajFY5M"
      },
      "source": [
        "From the above, we can see clearly that all 3 of the GBM, XGBoost, RandomForest and AdaBoost Classifiers performed similarly, these results are enough for us to decide to proceed with a GBM variant.\n",
        "\n",
        "Although RandomForest performed marginally better here, we'll use XGBoost since it's the more advanced, more tuneable algorithm.\n",
        "\n",
        "Thus, we'll focus on performing more specific transformations to aid XGBoost."
      ]
    },
    {
      "cell_type": "markdown",
      "metadata": {
        "id": "_K6Bzo5RFY5M"
      },
      "source": [
        "# 6. Advanced Feature Transformations\n",
        "In order to support the selected model, we should consider how to transform the dataset such that they can improve the performance of the model."
      ]
    },
    {
      "cell_type": "code",
      "execution_count": null,
      "metadata": {
        "id": "NHrGeQCgFY5M",
        "outputId": "07f1f2de-dfee-4c34-cf0a-24a7765cb0c9"
      },
      "outputs": [
        {
          "name": "stderr",
          "output_type": "stream",
          "text": [
            "c:\\Users\\ibola\\anaconda3\\lib\\site-packages\\xgboost\\sklearn.py:1224: UserWarning: The use of label encoder in XGBClassifier is deprecated and will be removed in a future release. To remove this warning, do the following: 1) Pass option use_label_encoder=False when constructing XGBClassifier object; and 2) Encode your labels (y) as integers starting with 0, i.e. 0, 1, 2, ..., [num_class - 1].\n",
            "  warnings.warn(label_encoder_deprecation_msg, UserWarning)\n",
            "c:\\Users\\ibola\\anaconda3\\lib\\site-packages\\xgboost\\data.py:250: FutureWarning: pandas.Int64Index is deprecated and will be removed from pandas in a future version. Use pandas.Index with the appropriate dtype instead.\n",
            "  elif isinstance(data.columns, (pd.Int64Index, pd.RangeIndex)):\n"
          ]
        },
        {
          "name": "stdout",
          "output_type": "stream",
          "text": [
            "[17:57:33] WARNING: C:\\Windows\\Temp\\abs_557yfx631l\\croots\\recipe\\xgboost-split_1659548953302\\work\\src\\learner.cc:1115: Starting in XGBoost 1.3.0, the default evaluation metric used with the objective 'binary:logistic' was changed from 'error' to 'logloss'. Explicitly set eval_metric if you'd like to restore the old behavior.\n",
            "0.6884704669408855\n"
          ]
        }
      ],
      "source": [
        "from sklearn.metrics import log_loss\n",
        "xgb = XGBClassifier()\n",
        "xgb.fit(X_train, y_train)\n",
        "y_pred = xgb.predict_proba(X_test)\n",
        "print(log_loss(y_test, y_pred))"
      ]
    },
    {
      "cell_type": "markdown",
      "metadata": {
        "id": "FpEDMk20FY5N"
      },
      "source": [
        "<span style=\"color:red\">After getting this score, I made prediction on the validation set and uploaded my submissions file to the leaderboard. My model was severely overfitting as I had a score of around 1.9 on the validation set and my position on the leaderboard was wayyyyy down.</span>"
      ]
    },
    {
      "cell_type": "markdown",
      "metadata": {
        "id": "opHdPARzFY5N"
      },
      "source": [
        "\n",
        "### 6.1 Feature Extraction\n",
        "Sometimes, we can perform Feature Extraction but in our dataset, most features are straightforward and need no further extraction\n",
        "\n",
        "### 6.2 Numerical only for XGBoost\n",
        "XGBoost works with numerical data only, and fortunately our base dataframe is already encoded into numerical features.\n",
        "\n",
        "### 6.3 Feature Scaling\n",
        "Decision Tree based classifiers, which XGBoost is based on, are insensitive to scaling.\n",
        "\n",
        "### 6.4 Feature Selection\n",
        "We can reduce dimensionality but XGBoost naturally handles this usually. \n",
        "\n",
        "Nevertheless, let's experiment with two methods of dimensionality reduction, namely Recursive Feature Elimination (RFE) and our old friend Variance Inflation Factor (VIF)\n",
        "\n",
        "##### 6.4.1 Recursive Feature Elimination\n",
        "Let's assume a simple model (to reduce run time)[](http://), such as a Decision Tree Classifier, to help us decide which features to eliminate."
      ]
    },
    {
      "cell_type": "code",
      "execution_count": null,
      "metadata": {
        "id": "pivk2q7JFY5N"
      },
      "outputs": [],
      "source": [
        "from sklearn.pipeline import Pipeline\n",
        "\n",
        "rfe = RFE(\n",
        "estimator=DecisionTreeClassifier(),\n",
        "n_features_to_select=10\n",
        ")\n",
        "\n",
        "pipe = Pipeline([('rfe',rfe)])\n",
        "transformed_df_rfe = pipe.fit_transform(X_train, y_train)\n",
        "support = pipe.named_steps['rfe'].support_\n",
        "drop_cols_rfe = list(X_train.columns[support])"
      ]
    },
    {
      "cell_type": "markdown",
      "metadata": {
        "id": "z7H0RmKYFY5N"
      },
      "source": [
        "##### 6.4.2 Variance Inflation Factor Selection\n",
        "Just as we have performed after the One-hot Encoding, we can perform the same selection, by removing features with a VIF greater than 5."
      ]
    },
    {
      "cell_type": "code",
      "execution_count": null,
      "metadata": {
        "id": "CkPtNUS6FY5O",
        "outputId": "c83f4011-7261-481a-ed3a-685fd6a8bad4"
      },
      "outputs": [
        {
          "data": {
            "text/html": [
              "<div>\n",
              "<style scoped>\n",
              "    .dataframe tbody tr th:only-of-type {\n",
              "        vertical-align: middle;\n",
              "    }\n",
              "\n",
              "    .dataframe tbody tr th {\n",
              "        vertical-align: top;\n",
              "    }\n",
              "\n",
              "    .dataframe thead th {\n",
              "        text-align: right;\n",
              "    }\n",
              "</style>\n",
              "<table border=\"1\" class=\"dataframe\">\n",
              "  <thead>\n",
              "    <tr style=\"text-align: right;\">\n",
              "      <th></th>\n",
              "      <th>Variable</th>\n",
              "      <th>VIF</th>\n",
              "    </tr>\n",
              "  </thead>\n",
              "  <tbody>\n",
              "    <tr>\n",
              "      <th>0</th>\n",
              "      <td>MARRIED</td>\n",
              "      <td>2.225029</td>\n",
              "    </tr>\n",
              "    <tr>\n",
              "      <th>1</th>\n",
              "      <td>CHILDREN</td>\n",
              "      <td>1.958233</td>\n",
              "    </tr>\n",
              "    <tr>\n",
              "      <th>2</th>\n",
              "      <td>POSTAL_CODE</td>\n",
              "      <td>2.032029</td>\n",
              "    </tr>\n",
              "    <tr>\n",
              "      <th>3</th>\n",
              "      <td>SPEEDING_VIOLATIONS</td>\n",
              "      <td>1.226600</td>\n",
              "    </tr>\n",
              "    <tr>\n",
              "      <th>4</th>\n",
              "      <td>DUIS</td>\n",
              "      <td>1.047179</td>\n",
              "    </tr>\n",
              "    <tr>\n",
              "      <th>5</th>\n",
              "      <td>PAST_ACCIDENTS</td>\n",
              "      <td>1.145220</td>\n",
              "    </tr>\n",
              "    <tr>\n",
              "      <th>6</th>\n",
              "      <td>EDUCATION</td>\n",
              "      <td>2.640323</td>\n",
              "    </tr>\n",
              "    <tr>\n",
              "      <th>7</th>\n",
              "      <td>TYPE_OF_VEHICLE_SUV</td>\n",
              "      <td>1.542604</td>\n",
              "    </tr>\n",
              "    <tr>\n",
              "      <th>8</th>\n",
              "      <td>TYPE_OF_VEHICLE_Sedan</td>\n",
              "      <td>1.876146</td>\n",
              "    </tr>\n",
              "    <tr>\n",
              "      <th>9</th>\n",
              "      <td>TYPE_OF_VEHICLE_Sports Car</td>\n",
              "      <td>2.069083</td>\n",
              "    </tr>\n",
              "    <tr>\n",
              "      <th>10</th>\n",
              "      <td>DRIVING_EXPERIENCE_10-19y</td>\n",
              "      <td>1.627959</td>\n",
              "    </tr>\n",
              "    <tr>\n",
              "      <th>11</th>\n",
              "      <td>DRIVING_EXPERIENCE_20-29y</td>\n",
              "      <td>1.939415</td>\n",
              "    </tr>\n",
              "    <tr>\n",
              "      <th>12</th>\n",
              "      <td>DRIVING_EXPERIENCE_30y+</td>\n",
              "      <td>1.234055</td>\n",
              "    </tr>\n",
              "    <tr>\n",
              "      <th>13</th>\n",
              "      <td>INCOME_working class</td>\n",
              "      <td>1.281498</td>\n",
              "    </tr>\n",
              "    <tr>\n",
              "      <th>14</th>\n",
              "      <td>AGE_26-39</td>\n",
              "      <td>1.766102</td>\n",
              "    </tr>\n",
              "    <tr>\n",
              "      <th>15</th>\n",
              "      <td>AGE_40-64</td>\n",
              "      <td>2.290072</td>\n",
              "    </tr>\n",
              "    <tr>\n",
              "      <th>16</th>\n",
              "      <td>AGE_65+</td>\n",
              "      <td>2.243461</td>\n",
              "    </tr>\n",
              "    <tr>\n",
              "      <th>17</th>\n",
              "      <td>VEHICLE_YEAR</td>\n",
              "      <td>2.063665</td>\n",
              "    </tr>\n",
              "  </tbody>\n",
              "</table>\n",
              "</div>"
            ],
            "text/plain": [
              "                      Variable       VIF\n",
              "0                      MARRIED  2.225029\n",
              "1                     CHILDREN  1.958233\n",
              "2                  POSTAL_CODE  2.032029\n",
              "3          SPEEDING_VIOLATIONS  1.226600\n",
              "4                         DUIS  1.047179\n",
              "5               PAST_ACCIDENTS  1.145220\n",
              "6                    EDUCATION  2.640323\n",
              "7          TYPE_OF_VEHICLE_SUV  1.542604\n",
              "8        TYPE_OF_VEHICLE_Sedan  1.876146\n",
              "9   TYPE_OF_VEHICLE_Sports Car  2.069083\n",
              "10   DRIVING_EXPERIENCE_10-19y  1.627959\n",
              "11   DRIVING_EXPERIENCE_20-29y  1.939415\n",
              "12     DRIVING_EXPERIENCE_30y+  1.234055\n",
              "13        INCOME_working class  1.281498\n",
              "14                   AGE_26-39  1.766102\n",
              "15                   AGE_40-64  2.290072\n",
              "16                     AGE_65+  2.243461\n",
              "17                VEHICLE_YEAR  2.063665"
            ]
          },
          "metadata": {},
          "output_type": "display_data"
        }
      ],
      "source": [
        "vif_df = calc_vif(X_train)\n",
        "drop_cols_vif = vif_df.loc[vif_df['VIF']>5]['Variable'].values\n",
        "transformed_df_rfe_vif = X_train.drop(drop_cols_vif,axis=1)\n",
        "display(calc_vif(transformed_df_rfe_vif))"
      ]
    },
    {
      "cell_type": "markdown",
      "metadata": {
        "id": "pp7uufauFY5T"
      },
      "source": [
        "We print out list of columns that the RFE and VIF has suggested to drop"
      ]
    },
    {
      "cell_type": "code",
      "execution_count": null,
      "metadata": {
        "id": "q_cvdkqWFY5T",
        "outputId": "0f9c70f8-a88b-4606-b787-9a0a82a4d378"
      },
      "outputs": [
        {
          "name": "stdout",
          "output_type": "stream",
          "text": [
            "RFE - Columns to be dropped: ['CREDIT_SCORE', 'CHILDREN', 'POSTAL_CODE', 'ANNUAL_MILEAGE', 'SPEEDING_VIOLATIONS', 'EDUCATION', 'TYPE_OF_VEHICLE_Sedan', 'INCOME_working class', 'AGE_40-64', 'VEHICLE_YEAR']\n",
            "VIF - Columns to be dropped: ['CREDIT_SCORE', 'VEHICLE_OWNERSHIP', 'ANNUAL_MILEAGE']\n"
          ]
        }
      ],
      "source": [
        "print('RFE - Columns to be dropped:', list(drop_cols_rfe))\n",
        "print('VIF - Columns to be dropped:', list(drop_cols_vif))\n"
      ]
    },
    {
      "cell_type": "markdown",
      "metadata": {
        "id": "TR_C4KOiFY5U"
      },
      "source": [
        "And we remove columns that are common to both lists"
      ]
    },
    {
      "cell_type": "code",
      "execution_count": null,
      "metadata": {
        "id": "vctHhCOBFY5U"
      },
      "outputs": [],
      "source": [
        "transformed_train = train_complete_enc.drop(columns=['CREDIT_SCORE', 'ANNUAL_MILEAGE'])\n",
        "X_train, X_test, y_train, y_test = train_test_split(transformed_train, y, test_size=0.2, stratify=y)"
      ]
    },
    {
      "cell_type": "code",
      "execution_count": null,
      "metadata": {
        "id": "g2OKTz65FY5U",
        "outputId": "25f13f14-9c9e-4459-e955-aa380f908024"
      },
      "outputs": [
        {
          "name": "stderr",
          "output_type": "stream",
          "text": [
            "c:\\Users\\ibola\\anaconda3\\lib\\site-packages\\xgboost\\sklearn.py:1224: UserWarning: The use of label encoder in XGBClassifier is deprecated and will be removed in a future release. To remove this warning, do the following: 1) Pass option use_label_encoder=False when constructing XGBClassifier object; and 2) Encode your labels (y) as integers starting with 0, i.e. 0, 1, 2, ..., [num_class - 1].\n",
            "  warnings.warn(label_encoder_deprecation_msg, UserWarning)\n",
            "c:\\Users\\ibola\\anaconda3\\lib\\site-packages\\xgboost\\data.py:250: FutureWarning: pandas.Int64Index is deprecated and will be removed from pandas in a future version. Use pandas.Index with the appropriate dtype instead.\n",
            "  elif isinstance(data.columns, (pd.Int64Index, pd.RangeIndex)):\n"
          ]
        },
        {
          "name": "stdout",
          "output_type": "stream",
          "text": [
            "[17:58:10] WARNING: C:\\Windows\\Temp\\abs_557yfx631l\\croots\\recipe\\xgboost-split_1659548953302\\work\\src\\learner.cc:576: \n",
            "Parameters: { \"silent\" } might not be used.\n",
            "\n",
            "  This could be a false alarm, with some parameters getting used by language bindings but\n",
            "  then being mistakenly passed down to XGBoost core, or some parameter actually being used\n",
            "  but getting flagged wrongly here. Please open an issue if you find any such cases.\n",
            "\n",
            "\n",
            "[17:58:10] WARNING: C:\\Windows\\Temp\\abs_557yfx631l\\croots\\recipe\\xgboost-split_1659548953302\\work\\src\\learner.cc:1115: Starting in XGBoost 1.3.0, the default evaluation metric used with the objective 'binary:logistic' was changed from 'error' to 'logloss'. Explicitly set eval_metric if you'd like to restore the old behavior.\n",
            "0.687769487236582\n"
          ]
        }
      ],
      "source": [
        "xgb = XGBClassifier(silent=True)\n",
        "xgb.fit(X_train, y_train)\n",
        "y_pred = xgb.predict_proba(X_test)\n",
        "print(log_loss(y_test, y_pred))"
      ]
    },
    {
      "cell_type": "markdown",
      "metadata": {
        "id": "izlMCGaAFY5U"
      },
      "source": [
        "We can see that the feature selection had no change in our log_loss score"
      ]
    },
    {
      "cell_type": "markdown",
      "metadata": {
        "id": "p9ZdiwYNFY5V"
      },
      "source": [
        "<span style=\"color:red\">I made prediction again and submitted and my model was still overfitting</span>"
      ]
    },
    {
      "cell_type": "markdown",
      "metadata": {
        "id": "JA9E8RFRFY5V"
      },
      "source": [
        "\n",
        "### 6.5 Log Transformation"
      ]
    },
    {
      "cell_type": "markdown",
      "metadata": {
        "id": "zR2Z0qFJFY5V"
      },
      "source": [
        "Here we transform our skewed features"
      ]
    },
    {
      "cell_type": "code",
      "execution_count": null,
      "metadata": {
        "id": "OLZ5TT4GFY5W",
        "outputId": "a4ef0d15-6186-4627-a856-e7615e1c262d"
      },
      "outputs": [
        {
          "name": "stdout",
          "output_type": "stream",
          "text": [
            "CREDIT_SCORE : -0.2263552331190916\n",
            "VEHICLE_OWNERSHIP : -1.7293796863745652\n",
            "MARRIED : -0.3414409707238864\n",
            "CHILDREN : -0.08006407690254365\n",
            "* POSTAL_CODE : 2.986839692396651\n",
            "ANNUAL_MILEAGE : -0.5101105685548738\n",
            "* SPEEDING_VIOLATIONS : 3.899760801440324\n",
            "* DUIS : 5.608607750200801\n",
            "* PAST_ACCIDENTS : 4.345458193673233\n"
          ]
        }
      ],
      "source": [
        "high_skew_features = []\n",
        "\n",
        "for col in numerical_cols:\n",
        "    skewness = skew(train_complete_enc[col])\n",
        "    asterisk = '* ' if skewness > 1 else ''\n",
        "    print(f\"{asterisk}{col} : {skewness}\")\n",
        "    if skewness > 1:\n",
        "        high_skew_features.append(col)"
      ]
    },
    {
      "cell_type": "code",
      "execution_count": null,
      "metadata": {
        "id": "9m4PPeYxFY5W",
        "outputId": "7f13d0ac-c31a-4c96-e5c6-90b67ee602e1"
      },
      "outputs": [
        {
          "data": {
            "text/html": [
              "<div>\n",
              "<style scoped>\n",
              "    .dataframe tbody tr th:only-of-type {\n",
              "        vertical-align: middle;\n",
              "    }\n",
              "\n",
              "    .dataframe tbody tr th {\n",
              "        vertical-align: top;\n",
              "    }\n",
              "\n",
              "    .dataframe thead th {\n",
              "        text-align: right;\n",
              "    }\n",
              "</style>\n",
              "<table border=\"1\" class=\"dataframe\">\n",
              "  <thead>\n",
              "    <tr style=\"text-align: right;\">\n",
              "      <th></th>\n",
              "      <th>CREDIT_SCORE</th>\n",
              "      <th>VEHICLE_OWNERSHIP</th>\n",
              "      <th>MARRIED</th>\n",
              "      <th>CHILDREN</th>\n",
              "      <th>POSTAL_CODE</th>\n",
              "      <th>ANNUAL_MILEAGE</th>\n",
              "      <th>SPEEDING_VIOLATIONS</th>\n",
              "      <th>DUIS</th>\n",
              "      <th>PAST_ACCIDENTS</th>\n",
              "      <th>EDUCATION</th>\n",
              "      <th>...</th>\n",
              "      <th>DRIVING_EXPERIENCE_30y+</th>\n",
              "      <th>INCOME_working class</th>\n",
              "      <th>AGE_26-39</th>\n",
              "      <th>AGE_40-64</th>\n",
              "      <th>AGE_65+</th>\n",
              "      <th>VEHICLE_YEAR</th>\n",
              "      <th>log_POSTAL_CODE</th>\n",
              "      <th>log_SPEEDING_VIOLATIONS</th>\n",
              "      <th>log_DUIS</th>\n",
              "      <th>log_PAST_ACCIDENTS</th>\n",
              "    </tr>\n",
              "  </thead>\n",
              "  <tbody>\n",
              "    <tr>\n",
              "      <th>0</th>\n",
              "      <td>0.638050</td>\n",
              "      <td>0.0</td>\n",
              "      <td>0.0</td>\n",
              "      <td>0.0</td>\n",
              "      <td>37379</td>\n",
              "      <td>11000.0</td>\n",
              "      <td>0</td>\n",
              "      <td>0</td>\n",
              "      <td>0</td>\n",
              "      <td>2.0</td>\n",
              "      <td>...</td>\n",
              "      <td>0.0</td>\n",
              "      <td>0.0</td>\n",
              "      <td>0.0</td>\n",
              "      <td>1.0</td>\n",
              "      <td>0.0</td>\n",
              "      <td>0.0</td>\n",
              "      <td>10.528891</td>\n",
              "      <td>0.000000</td>\n",
              "      <td>0.0</td>\n",
              "      <td>0.000000</td>\n",
              "    </tr>\n",
              "    <tr>\n",
              "      <th>1</th>\n",
              "      <td>0.475741</td>\n",
              "      <td>1.0</td>\n",
              "      <td>1.0</td>\n",
              "      <td>0.0</td>\n",
              "      <td>10238</td>\n",
              "      <td>9000.0</td>\n",
              "      <td>0</td>\n",
              "      <td>0</td>\n",
              "      <td>0</td>\n",
              "      <td>1.0</td>\n",
              "      <td>...</td>\n",
              "      <td>0.0</td>\n",
              "      <td>0.0</td>\n",
              "      <td>1.0</td>\n",
              "      <td>0.0</td>\n",
              "      <td>0.0</td>\n",
              "      <td>1.0</td>\n",
              "      <td>9.233959</td>\n",
              "      <td>0.000000</td>\n",
              "      <td>0.0</td>\n",
              "      <td>0.000000</td>\n",
              "    </tr>\n",
              "    <tr>\n",
              "      <th>2</th>\n",
              "      <td>0.839817</td>\n",
              "      <td>1.0</td>\n",
              "      <td>1.0</td>\n",
              "      <td>1.0</td>\n",
              "      <td>10238</td>\n",
              "      <td>12000.0</td>\n",
              "      <td>0</td>\n",
              "      <td>0</td>\n",
              "      <td>0</td>\n",
              "      <td>0.0</td>\n",
              "      <td>...</td>\n",
              "      <td>0.0</td>\n",
              "      <td>0.0</td>\n",
              "      <td>0.0</td>\n",
              "      <td>1.0</td>\n",
              "      <td>0.0</td>\n",
              "      <td>1.0</td>\n",
              "      <td>9.233959</td>\n",
              "      <td>0.000000</td>\n",
              "      <td>0.0</td>\n",
              "      <td>0.000000</td>\n",
              "    </tr>\n",
              "    <tr>\n",
              "      <th>3</th>\n",
              "      <td>0.682527</td>\n",
              "      <td>1.0</td>\n",
              "      <td>0.0</td>\n",
              "      <td>1.0</td>\n",
              "      <td>92099</td>\n",
              "      <td>6000.0</td>\n",
              "      <td>1</td>\n",
              "      <td>0</td>\n",
              "      <td>0</td>\n",
              "      <td>1.0</td>\n",
              "      <td>...</td>\n",
              "      <td>0.0</td>\n",
              "      <td>0.0</td>\n",
              "      <td>0.0</td>\n",
              "      <td>1.0</td>\n",
              "      <td>0.0</td>\n",
              "      <td>1.0</td>\n",
              "      <td>11.430630</td>\n",
              "      <td>0.693147</td>\n",
              "      <td>0.0</td>\n",
              "      <td>0.000000</td>\n",
              "    </tr>\n",
              "    <tr>\n",
              "      <th>4</th>\n",
              "      <td>0.572184</td>\n",
              "      <td>1.0</td>\n",
              "      <td>1.0</td>\n",
              "      <td>1.0</td>\n",
              "      <td>32122</td>\n",
              "      <td>15000.0</td>\n",
              "      <td>0</td>\n",
              "      <td>0</td>\n",
              "      <td>1</td>\n",
              "      <td>0.0</td>\n",
              "      <td>...</td>\n",
              "      <td>0.0</td>\n",
              "      <td>1.0</td>\n",
              "      <td>0.0</td>\n",
              "      <td>1.0</td>\n",
              "      <td>0.0</td>\n",
              "      <td>0.0</td>\n",
              "      <td>10.377328</td>\n",
              "      <td>0.000000</td>\n",
              "      <td>0.0</td>\n",
              "      <td>0.693147</td>\n",
              "    </tr>\n",
              "  </tbody>\n",
              "</table>\n",
              "<p>5 rows × 25 columns</p>\n",
              "</div>"
            ],
            "text/plain": [
              "   CREDIT_SCORE  VEHICLE_OWNERSHIP  MARRIED  CHILDREN  POSTAL_CODE  \\\n",
              "0      0.638050                0.0      0.0       0.0        37379   \n",
              "1      0.475741                1.0      1.0       0.0        10238   \n",
              "2      0.839817                1.0      1.0       1.0        10238   \n",
              "3      0.682527                1.0      0.0       1.0        92099   \n",
              "4      0.572184                1.0      1.0       1.0        32122   \n",
              "\n",
              "   ANNUAL_MILEAGE  SPEEDING_VIOLATIONS  DUIS  PAST_ACCIDENTS  EDUCATION  ...  \\\n",
              "0         11000.0                    0     0               0        2.0  ...   \n",
              "1          9000.0                    0     0               0        1.0  ...   \n",
              "2         12000.0                    0     0               0        0.0  ...   \n",
              "3          6000.0                    1     0               0        1.0  ...   \n",
              "4         15000.0                    0     0               1        0.0  ...   \n",
              "\n",
              "   DRIVING_EXPERIENCE_30y+  INCOME_working class  AGE_26-39  AGE_40-64  \\\n",
              "0                      0.0                   0.0        0.0        1.0   \n",
              "1                      0.0                   0.0        1.0        0.0   \n",
              "2                      0.0                   0.0        0.0        1.0   \n",
              "3                      0.0                   0.0        0.0        1.0   \n",
              "4                      0.0                   1.0        0.0        1.0   \n",
              "\n",
              "   AGE_65+  VEHICLE_YEAR  log_POSTAL_CODE  log_SPEEDING_VIOLATIONS  log_DUIS  \\\n",
              "0      0.0           0.0        10.528891                 0.000000       0.0   \n",
              "1      0.0           1.0         9.233959                 0.000000       0.0   \n",
              "2      0.0           1.0         9.233959                 0.000000       0.0   \n",
              "3      0.0           1.0        11.430630                 0.693147       0.0   \n",
              "4      0.0           0.0        10.377328                 0.000000       0.0   \n",
              "\n",
              "   log_PAST_ACCIDENTS  \n",
              "0            0.000000  \n",
              "1            0.000000  \n",
              "2            0.000000  \n",
              "3            0.000000  \n",
              "4            0.693147  \n",
              "\n",
              "[5 rows x 25 columns]"
            ]
          },
          "execution_count": 64,
          "metadata": {},
          "output_type": "execute_result"
        }
      ],
      "source": [
        "transformed_df_log = train_complete_enc.copy()\n",
        "transformed_test_log = test_complete_enc.copy()\n",
        "for col in high_skew_features:\n",
        "    transformed_df_log['log_'+col] = np.log(1 + transformed_df_log[col])\n",
        "    transformed_test_log['log_'+col] = np.log(1 + transformed_test_log[col])\n",
        "\n",
        "transformed_df_log.drop(high_skew_features, axis=1)\n",
        "transformed_test_log.drop(high_skew_features, axis=1)\n",
        "transformed_df_log.head()"
      ]
    },
    {
      "cell_type": "markdown",
      "metadata": {
        "id": "QWowbUT5FY5X"
      },
      "source": [
        "# 7. Fitting the Model\n",
        "\n",
        "Before fitting the model finally, I'm going to try to optimize the model by tuning hyperparameters"
      ]
    },
    {
      "cell_type": "code",
      "execution_count": null,
      "metadata": {
        "id": "13KGPjXLFY5X"
      },
      "outputs": [],
      "source": [
        "import optuna\n",
        "import xgboost as xgb\n",
        "from sklearn.metrics import log_loss\n",
        "def objective(trial,data=transformed_df_log,target=y):\n",
        "    \n",
        "    train_x, test_x, train_y, test_y = train_test_split(data, target, test_size=0.15,random_state=42)\n",
        "    param = {\n",
        "        'tree_method':'auto',\n",
        "        'silent' : True,\n",
        "        'lambda': trial.suggest_loguniform('lambda', 1e-3, 10.0),\n",
        "        'alpha': trial.suggest_loguniform('alpha', 1e-3, 10.0),\n",
        "        'colsample_bytree': trial.suggest_categorical('colsample_bytree', [0.3,0.4,0.5,0.6,0.7,0.8,0.9, 1.0]),\n",
        "        'subsample': trial.suggest_categorical('subsample', [0.4,0.5,0.6,0.7,0.8,1.0]),\n",
        "        'learning_rate': trial.suggest_categorical('learning_rate', [0.008,0.01,0.012,0.014,0.016,0.018, 0.02]),\n",
        "        'n_estimators': 10000,\n",
        "        'max_depth': trial.suggest_categorical('max_depth', [5,7,9,11,13,15,17]),\n",
        "        'random_state': trial.suggest_categorical('random_state', [2020]),\n",
        "        'min_child_weight': trial.suggest_int('min_child_weight', 1, 300),\n",
        "    }\n",
        "    model = xgb.XGBClassifier(**param)  \n",
        "    \n",
        "    model.fit(train_x,train_y,eval_set=[(test_x,test_y)],early_stopping_rounds=100,verbose=False)\n",
        "    \n",
        "    preds = model.predict(test_x)\n",
        "    \n",
        "    accuracy = log_loss(test_y, preds)\n",
        "    \n",
        "    return accuracy"
      ]
    },
    {
      "cell_type": "code",
      "execution_count": null,
      "metadata": {
        "id": "7jKgO52yFY5Y",
        "outputId": "ad7c028d-6ac8-4700-fa5d-41950f5e0ff6"
      },
      "outputs": [
        {
          "name": "stderr",
          "output_type": "stream",
          "text": [
            "\u001b[32m[I 2022-10-15 17:58:17,742]\u001b[0m A new study created in memory with name: no-name-462893f6-d29d-4961-899b-dd6f7fd85e3f\u001b[0m\n",
            "C:\\Users\\ibola\\AppData\\Local\\Temp\\ipykernel_5576\\41865496.py:10: FutureWarning: suggest_loguniform has been deprecated in v3.0.0. This feature will be removed in v6.0.0. See https://github.com/optuna/optuna/releases/tag/v3.0.0. Use :func:`~optuna.trial.Trial.suggest_float` instead.\n",
            "  'lambda': trial.suggest_loguniform('lambda', 1e-3, 10.0),\n",
            "C:\\Users\\ibola\\AppData\\Local\\Temp\\ipykernel_5576\\41865496.py:11: FutureWarning: suggest_loguniform has been deprecated in v3.0.0. This feature will be removed in v6.0.0. See https://github.com/optuna/optuna/releases/tag/v3.0.0. Use :func:`~optuna.trial.Trial.suggest_float` instead.\n",
            "  'alpha': trial.suggest_loguniform('alpha', 1e-3, 10.0),\n",
            "c:\\Users\\ibola\\anaconda3\\lib\\site-packages\\xgboost\\sklearn.py:1224: UserWarning: The use of label encoder in XGBClassifier is deprecated and will be removed in a future release. To remove this warning, do the following: 1) Pass option use_label_encoder=False when constructing XGBClassifier object; and 2) Encode your labels (y) as integers starting with 0, i.e. 0, 1, 2, ..., [num_class - 1].\n",
            "  warnings.warn(label_encoder_deprecation_msg, UserWarning)\n",
            "c:\\Users\\ibola\\anaconda3\\lib\\site-packages\\xgboost\\data.py:250: FutureWarning: pandas.Int64Index is deprecated and will be removed from pandas in a future version. Use pandas.Index with the appropriate dtype instead.\n",
            "  elif isinstance(data.columns, (pd.Int64Index, pd.RangeIndex)):\n"
          ]
        },
        {
          "name": "stdout",
          "output_type": "stream",
          "text": [
            "[17:58:17] WARNING: C:\\Windows\\Temp\\abs_557yfx631l\\croots\\recipe\\xgboost-split_1659548953302\\work\\src\\learner.cc:576: \n",
            "Parameters: { \"silent\" } might not be used.\n",
            "\n",
            "  This could be a false alarm, with some parameters getting used by language bindings but\n",
            "  then being mistakenly passed down to XGBoost core, or some parameter actually being used\n",
            "  but getting flagged wrongly here. Please open an issue if you find any such cases.\n",
            "\n",
            "\n",
            "[17:58:18] WARNING: C:\\Windows\\Temp\\abs_557yfx631l\\croots\\recipe\\xgboost-split_1659548953302\\work\\src\\learner.cc:1115: Starting in XGBoost 1.3.0, the default evaluation metric used with the objective 'binary:logistic' was changed from 'error' to 'logloss'. Explicitly set eval_metric if you'd like to restore the old behavior.\n"
          ]
        },
        {
          "name": "stderr",
          "output_type": "stream",
          "text": [
            "\u001b[32m[I 2022-10-15 17:59:01,535]\u001b[0m Trial 0 finished with value: 14.65759922668968 and parameters: {'lambda': 0.7686173028084616, 'alpha': 0.003631386682337833, 'colsample_bytree': 0.8, 'subsample': 1.0, 'learning_rate': 0.014, 'max_depth': 11, 'random_state': 2020, 'min_child_weight': 86}. Best is trial 0 with value: 14.65759922668968.\u001b[0m\n",
            "C:\\Users\\ibola\\AppData\\Local\\Temp\\ipykernel_5576\\41865496.py:10: FutureWarning: suggest_loguniform has been deprecated in v3.0.0. This feature will be removed in v6.0.0. See https://github.com/optuna/optuna/releases/tag/v3.0.0. Use :func:`~optuna.trial.Trial.suggest_float` instead.\n",
            "  'lambda': trial.suggest_loguniform('lambda', 1e-3, 10.0),\n",
            "C:\\Users\\ibola\\AppData\\Local\\Temp\\ipykernel_5576\\41865496.py:11: FutureWarning: suggest_loguniform has been deprecated in v3.0.0. This feature will be removed in v6.0.0. See https://github.com/optuna/optuna/releases/tag/v3.0.0. Use :func:`~optuna.trial.Trial.suggest_float` instead.\n",
            "  'alpha': trial.suggest_loguniform('alpha', 1e-3, 10.0),\n",
            "c:\\Users\\ibola\\anaconda3\\lib\\site-packages\\xgboost\\sklearn.py:1224: UserWarning: The use of label encoder in XGBClassifier is deprecated and will be removed in a future release. To remove this warning, do the following: 1) Pass option use_label_encoder=False when constructing XGBClassifier object; and 2) Encode your labels (y) as integers starting with 0, i.e. 0, 1, 2, ..., [num_class - 1].\n",
            "  warnings.warn(label_encoder_deprecation_msg, UserWarning)\n",
            "c:\\Users\\ibola\\anaconda3\\lib\\site-packages\\xgboost\\data.py:250: FutureWarning: pandas.Int64Index is deprecated and will be removed from pandas in a future version. Use pandas.Index with the appropriate dtype instead.\n",
            "  elif isinstance(data.columns, (pd.Int64Index, pd.RangeIndex)):\n"
          ]
        },
        {
          "name": "stdout",
          "output_type": "stream",
          "text": [
            "[17:59:01] WARNING: C:\\Windows\\Temp\\abs_557yfx631l\\croots\\recipe\\xgboost-split_1659548953302\\work\\src\\learner.cc:576: \n",
            "Parameters: { \"silent\" } might not be used.\n",
            "\n",
            "  This could be a false alarm, with some parameters getting used by language bindings but\n",
            "  then being mistakenly passed down to XGBoost core, or some parameter actually being used\n",
            "  but getting flagged wrongly here. Please open an issue if you find any such cases.\n",
            "\n",
            "\n",
            "[17:59:01] WARNING: C:\\Windows\\Temp\\abs_557yfx631l\\croots\\recipe\\xgboost-split_1659548953302\\work\\src\\learner.cc:1115: Starting in XGBoost 1.3.0, the default evaluation metric used with the objective 'binary:logistic' was changed from 'error' to 'logloss'. Explicitly set eval_metric if you'd like to restore the old behavior.\n"
          ]
        },
        {
          "name": "stderr",
          "output_type": "stream",
          "text": [
            "\u001b[32m[I 2022-10-15 17:59:55,854]\u001b[0m Trial 1 finished with value: 14.657598820544953 and parameters: {'lambda': 9.906987034584974, 'alpha': 0.019144337867390362, 'colsample_bytree': 1.0, 'subsample': 0.6, 'learning_rate': 0.01, 'max_depth': 11, 'random_state': 2020, 'min_child_weight': 159}. Best is trial 1 with value: 14.657598820544953.\u001b[0m\n",
            "C:\\Users\\ibola\\AppData\\Local\\Temp\\ipykernel_5576\\41865496.py:10: FutureWarning: suggest_loguniform has been deprecated in v3.0.0. This feature will be removed in v6.0.0. See https://github.com/optuna/optuna/releases/tag/v3.0.0. Use :func:`~optuna.trial.Trial.suggest_float` instead.\n",
            "  'lambda': trial.suggest_loguniform('lambda', 1e-3, 10.0),\n",
            "C:\\Users\\ibola\\AppData\\Local\\Temp\\ipykernel_5576\\41865496.py:11: FutureWarning: suggest_loguniform has been deprecated in v3.0.0. This feature will be removed in v6.0.0. See https://github.com/optuna/optuna/releases/tag/v3.0.0. Use :func:`~optuna.trial.Trial.suggest_float` instead.\n",
            "  'alpha': trial.suggest_loguniform('alpha', 1e-3, 10.0),\n",
            "c:\\Users\\ibola\\anaconda3\\lib\\site-packages\\xgboost\\sklearn.py:1224: UserWarning: The use of label encoder in XGBClassifier is deprecated and will be removed in a future release. To remove this warning, do the following: 1) Pass option use_label_encoder=False when constructing XGBClassifier object; and 2) Encode your labels (y) as integers starting with 0, i.e. 0, 1, 2, ..., [num_class - 1].\n",
            "  warnings.warn(label_encoder_deprecation_msg, UserWarning)\n",
            "c:\\Users\\ibola\\anaconda3\\lib\\site-packages\\xgboost\\data.py:250: FutureWarning: pandas.Int64Index is deprecated and will be removed from pandas in a future version. Use pandas.Index with the appropriate dtype instead.\n",
            "  elif isinstance(data.columns, (pd.Int64Index, pd.RangeIndex)):\n"
          ]
        },
        {
          "name": "stdout",
          "output_type": "stream",
          "text": [
            "[17:59:56] WARNING: C:\\Windows\\Temp\\abs_557yfx631l\\croots\\recipe\\xgboost-split_1659548953302\\work\\src\\learner.cc:576: \n",
            "Parameters: { \"silent\" } might not be used.\n",
            "\n",
            "  This could be a false alarm, with some parameters getting used by language bindings but\n",
            "  then being mistakenly passed down to XGBoost core, or some parameter actually being used\n",
            "  but getting flagged wrongly here. Please open an issue if you find any such cases.\n",
            "\n",
            "\n",
            "[17:59:56] WARNING: C:\\Windows\\Temp\\abs_557yfx631l\\croots\\recipe\\xgboost-split_1659548953302\\work\\src\\learner.cc:1115: Starting in XGBoost 1.3.0, the default evaluation metric used with the objective 'binary:logistic' was changed from 'error' to 'logloss'. Explicitly set eval_metric if you'd like to restore the old behavior.\n"
          ]
        },
        {
          "name": "stderr",
          "output_type": "stream",
          "text": [
            "\u001b[32m[I 2022-10-15 18:00:44,682]\u001b[0m Trial 2 finished with value: 14.657598820544953 and parameters: {'lambda': 0.004348936521242518, 'alpha': 0.0013859215810554035, 'colsample_bytree': 0.8, 'subsample': 0.8, 'learning_rate': 0.01, 'max_depth': 7, 'random_state': 2020, 'min_child_weight': 263}. Best is trial 1 with value: 14.657598820544953.\u001b[0m\n",
            "C:\\Users\\ibola\\AppData\\Local\\Temp\\ipykernel_5576\\41865496.py:10: FutureWarning: suggest_loguniform has been deprecated in v3.0.0. This feature will be removed in v6.0.0. See https://github.com/optuna/optuna/releases/tag/v3.0.0. Use :func:`~optuna.trial.Trial.suggest_float` instead.\n",
            "  'lambda': trial.suggest_loguniform('lambda', 1e-3, 10.0),\n",
            "C:\\Users\\ibola\\AppData\\Local\\Temp\\ipykernel_5576\\41865496.py:11: FutureWarning: suggest_loguniform has been deprecated in v3.0.0. This feature will be removed in v6.0.0. See https://github.com/optuna/optuna/releases/tag/v3.0.0. Use :func:`~optuna.trial.Trial.suggest_float` instead.\n",
            "  'alpha': trial.suggest_loguniform('alpha', 1e-3, 10.0),\n",
            "c:\\Users\\ibola\\anaconda3\\lib\\site-packages\\xgboost\\sklearn.py:1224: UserWarning: The use of label encoder in XGBClassifier is deprecated and will be removed in a future release. To remove this warning, do the following: 1) Pass option use_label_encoder=False when constructing XGBClassifier object; and 2) Encode your labels (y) as integers starting with 0, i.e. 0, 1, 2, ..., [num_class - 1].\n",
            "  warnings.warn(label_encoder_deprecation_msg, UserWarning)\n",
            "c:\\Users\\ibola\\anaconda3\\lib\\site-packages\\xgboost\\data.py:250: FutureWarning: pandas.Int64Index is deprecated and will be removed from pandas in a future version. Use pandas.Index with the appropriate dtype instead.\n",
            "  elif isinstance(data.columns, (pd.Int64Index, pd.RangeIndex)):\n"
          ]
        },
        {
          "name": "stdout",
          "output_type": "stream",
          "text": [
            "[18:00:44] WARNING: C:\\Windows\\Temp\\abs_557yfx631l\\croots\\recipe\\xgboost-split_1659548953302\\work\\src\\learner.cc:576: \n",
            "Parameters: { \"silent\" } might not be used.\n",
            "\n",
            "  This could be a false alarm, with some parameters getting used by language bindings but\n",
            "  then being mistakenly passed down to XGBoost core, or some parameter actually being used\n",
            "  but getting flagged wrongly here. Please open an issue if you find any such cases.\n",
            "\n",
            "\n",
            "[18:00:45] WARNING: C:\\Windows\\Temp\\abs_557yfx631l\\croots\\recipe\\xgboost-split_1659548953302\\work\\src\\learner.cc:1115: Starting in XGBoost 1.3.0, the default evaluation metric used with the objective 'binary:logistic' was changed from 'error' to 'logloss'. Explicitly set eval_metric if you'd like to restore the old behavior.\n"
          ]
        },
        {
          "name": "stderr",
          "output_type": "stream",
          "text": [
            "\u001b[32m[I 2022-10-15 18:01:25,841]\u001b[0m Trial 3 finished with value: 14.659791809496847 and parameters: {'lambda': 0.04390566230228213, 'alpha': 0.23595553134229144, 'colsample_bytree': 0.4, 'subsample': 0.7, 'learning_rate': 0.016, 'max_depth': 17, 'random_state': 2020, 'min_child_weight': 53}. Best is trial 1 with value: 14.657598820544953.\u001b[0m\n",
            "C:\\Users\\ibola\\AppData\\Local\\Temp\\ipykernel_5576\\41865496.py:10: FutureWarning: suggest_loguniform has been deprecated in v3.0.0. This feature will be removed in v6.0.0. See https://github.com/optuna/optuna/releases/tag/v3.0.0. Use :func:`~optuna.trial.Trial.suggest_float` instead.\n",
            "  'lambda': trial.suggest_loguniform('lambda', 1e-3, 10.0),\n",
            "C:\\Users\\ibola\\AppData\\Local\\Temp\\ipykernel_5576\\41865496.py:11: FutureWarning: suggest_loguniform has been deprecated in v3.0.0. This feature will be removed in v6.0.0. See https://github.com/optuna/optuna/releases/tag/v3.0.0. Use :func:`~optuna.trial.Trial.suggest_float` instead.\n",
            "  'alpha': trial.suggest_loguniform('alpha', 1e-3, 10.0),\n",
            "c:\\Users\\ibola\\anaconda3\\lib\\site-packages\\xgboost\\sklearn.py:1224: UserWarning: The use of label encoder in XGBClassifier is deprecated and will be removed in a future release. To remove this warning, do the following: 1) Pass option use_label_encoder=False when constructing XGBClassifier object; and 2) Encode your labels (y) as integers starting with 0, i.e. 0, 1, 2, ..., [num_class - 1].\n",
            "  warnings.warn(label_encoder_deprecation_msg, UserWarning)\n",
            "c:\\Users\\ibola\\anaconda3\\lib\\site-packages\\xgboost\\data.py:250: FutureWarning: pandas.Int64Index is deprecated and will be removed from pandas in a future version. Use pandas.Index with the appropriate dtype instead.\n",
            "  elif isinstance(data.columns, (pd.Int64Index, pd.RangeIndex)):\n"
          ]
        },
        {
          "name": "stdout",
          "output_type": "stream",
          "text": [
            "[18:01:26] WARNING: C:\\Windows\\Temp\\abs_557yfx631l\\croots\\recipe\\xgboost-split_1659548953302\\work\\src\\learner.cc:576: \n",
            "Parameters: { \"silent\" } might not be used.\n",
            "\n",
            "  This could be a false alarm, with some parameters getting used by language bindings but\n",
            "  then being mistakenly passed down to XGBoost core, or some parameter actually being used\n",
            "  but getting flagged wrongly here. Please open an issue if you find any such cases.\n",
            "\n",
            "\n",
            "[18:01:26] WARNING: C:\\Windows\\Temp\\abs_557yfx631l\\croots\\recipe\\xgboost-split_1659548953302\\work\\src\\learner.cc:1115: Starting in XGBoost 1.3.0, the default evaluation metric used with the objective 'binary:logistic' was changed from 'error' to 'logloss'. Explicitly set eval_metric if you'd like to restore the old behavior.\n"
          ]
        },
        {
          "name": "stderr",
          "output_type": "stream",
          "text": [
            "\u001b[32m[I 2022-10-15 18:02:09,490]\u001b[0m Trial 4 finished with value: 14.664177787400636 and parameters: {'lambda': 0.3487692243737889, 'alpha': 0.11459421157312003, 'colsample_bytree': 0.8, 'subsample': 0.4, 'learning_rate': 0.016, 'max_depth': 15, 'random_state': 2020, 'min_child_weight': 71}. Best is trial 1 with value: 14.657598820544953.\u001b[0m\n",
            "C:\\Users\\ibola\\AppData\\Local\\Temp\\ipykernel_5576\\41865496.py:10: FutureWarning: suggest_loguniform has been deprecated in v3.0.0. This feature will be removed in v6.0.0. See https://github.com/optuna/optuna/releases/tag/v3.0.0. Use :func:`~optuna.trial.Trial.suggest_float` instead.\n",
            "  'lambda': trial.suggest_loguniform('lambda', 1e-3, 10.0),\n",
            "C:\\Users\\ibola\\AppData\\Local\\Temp\\ipykernel_5576\\41865496.py:11: FutureWarning: suggest_loguniform has been deprecated in v3.0.0. This feature will be removed in v6.0.0. See https://github.com/optuna/optuna/releases/tag/v3.0.0. Use :func:`~optuna.trial.Trial.suggest_float` instead.\n",
            "  'alpha': trial.suggest_loguniform('alpha', 1e-3, 10.0),\n",
            "c:\\Users\\ibola\\anaconda3\\lib\\site-packages\\xgboost\\sklearn.py:1224: UserWarning: The use of label encoder in XGBClassifier is deprecated and will be removed in a future release. To remove this warning, do the following: 1) Pass option use_label_encoder=False when constructing XGBClassifier object; and 2) Encode your labels (y) as integers starting with 0, i.e. 0, 1, 2, ..., [num_class - 1].\n",
            "  warnings.warn(label_encoder_deprecation_msg, UserWarning)\n",
            "c:\\Users\\ibola\\anaconda3\\lib\\site-packages\\xgboost\\data.py:250: FutureWarning: pandas.Int64Index is deprecated and will be removed from pandas in a future version. Use pandas.Index with the appropriate dtype instead.\n",
            "  elif isinstance(data.columns, (pd.Int64Index, pd.RangeIndex)):\n"
          ]
        },
        {
          "name": "stdout",
          "output_type": "stream",
          "text": [
            "[18:02:09] WARNING: C:\\Windows\\Temp\\abs_557yfx631l\\croots\\recipe\\xgboost-split_1659548953302\\work\\src\\learner.cc:576: \n",
            "Parameters: { \"silent\" } might not be used.\n",
            "\n",
            "  This could be a false alarm, with some parameters getting used by language bindings but\n",
            "  then being mistakenly passed down to XGBoost core, or some parameter actually being used\n",
            "  but getting flagged wrongly here. Please open an issue if you find any such cases.\n",
            "\n",
            "\n",
            "[18:02:09] WARNING: C:\\Windows\\Temp\\abs_557yfx631l\\croots\\recipe\\xgboost-split_1659548953302\\work\\src\\learner.cc:1115: Starting in XGBoost 1.3.0, the default evaluation metric used with the objective 'binary:logistic' was changed from 'error' to 'logloss'. Explicitly set eval_metric if you'd like to restore the old behavior.\n"
          ]
        },
        {
          "name": "stderr",
          "output_type": "stream",
          "text": [
            "\u001b[32m[I 2022-10-15 18:02:58,600]\u001b[0m Trial 5 finished with value: 14.657598820544953 and parameters: {'lambda': 1.894083267162785, 'alpha': 0.03879461642516999, 'colsample_bytree': 0.5, 'subsample': 0.7, 'learning_rate': 0.01, 'max_depth': 15, 'random_state': 2020, 'min_child_weight': 297}. Best is trial 1 with value: 14.657598820544953.\u001b[0m\n",
            "C:\\Users\\ibola\\AppData\\Local\\Temp\\ipykernel_5576\\41865496.py:10: FutureWarning: suggest_loguniform has been deprecated in v3.0.0. This feature will be removed in v6.0.0. See https://github.com/optuna/optuna/releases/tag/v3.0.0. Use :func:`~optuna.trial.Trial.suggest_float` instead.\n",
            "  'lambda': trial.suggest_loguniform('lambda', 1e-3, 10.0),\n",
            "C:\\Users\\ibola\\AppData\\Local\\Temp\\ipykernel_5576\\41865496.py:11: FutureWarning: suggest_loguniform has been deprecated in v3.0.0. This feature will be removed in v6.0.0. See https://github.com/optuna/optuna/releases/tag/v3.0.0. Use :func:`~optuna.trial.Trial.suggest_float` instead.\n",
            "  'alpha': trial.suggest_loguniform('alpha', 1e-3, 10.0),\n",
            "c:\\Users\\ibola\\anaconda3\\lib\\site-packages\\xgboost\\sklearn.py:1224: UserWarning: The use of label encoder in XGBClassifier is deprecated and will be removed in a future release. To remove this warning, do the following: 1) Pass option use_label_encoder=False when constructing XGBClassifier object; and 2) Encode your labels (y) as integers starting with 0, i.e. 0, 1, 2, ..., [num_class - 1].\n",
            "  warnings.warn(label_encoder_deprecation_msg, UserWarning)\n",
            "c:\\Users\\ibola\\anaconda3\\lib\\site-packages\\xgboost\\data.py:250: FutureWarning: pandas.Int64Index is deprecated and will be removed from pandas in a future version. Use pandas.Index with the appropriate dtype instead.\n",
            "  elif isinstance(data.columns, (pd.Int64Index, pd.RangeIndex)):\n"
          ]
        },
        {
          "name": "stdout",
          "output_type": "stream",
          "text": [
            "[18:02:58] WARNING: C:\\Windows\\Temp\\abs_557yfx631l\\croots\\recipe\\xgboost-split_1659548953302\\work\\src\\learner.cc:576: \n",
            "Parameters: { \"silent\" } might not be used.\n",
            "\n",
            "  This could be a false alarm, with some parameters getting used by language bindings but\n",
            "  then being mistakenly passed down to XGBoost core, or some parameter actually being used\n",
            "  but getting flagged wrongly here. Please open an issue if you find any such cases.\n",
            "\n",
            "\n",
            "[18:02:59] WARNING: C:\\Windows\\Temp\\abs_557yfx631l\\croots\\recipe\\xgboost-split_1659548953302\\work\\src\\learner.cc:1115: Starting in XGBoost 1.3.0, the default evaluation metric used with the objective 'binary:logistic' was changed from 'error' to 'logloss'. Explicitly set eval_metric if you'd like to restore the old behavior.\n"
          ]
        },
        {
          "name": "stderr",
          "output_type": "stream",
          "text": [
            "\u001b[32m[I 2022-10-15 18:03:46,435]\u001b[0m Trial 6 finished with value: 14.668565796028057 and parameters: {'lambda': 0.04159882706518055, 'alpha': 0.0010415616306462276, 'colsample_bytree': 0.8, 'subsample': 0.8, 'learning_rate': 0.02, 'max_depth': 17, 'random_state': 2020, 'min_child_weight': 29}. Best is trial 1 with value: 14.657598820544953.\u001b[0m\n",
            "C:\\Users\\ibola\\AppData\\Local\\Temp\\ipykernel_5576\\41865496.py:10: FutureWarning: suggest_loguniform has been deprecated in v3.0.0. This feature will be removed in v6.0.0. See https://github.com/optuna/optuna/releases/tag/v3.0.0. Use :func:`~optuna.trial.Trial.suggest_float` instead.\n",
            "  'lambda': trial.suggest_loguniform('lambda', 1e-3, 10.0),\n",
            "C:\\Users\\ibola\\AppData\\Local\\Temp\\ipykernel_5576\\41865496.py:11: FutureWarning: suggest_loguniform has been deprecated in v3.0.0. This feature will be removed in v6.0.0. See https://github.com/optuna/optuna/releases/tag/v3.0.0. Use :func:`~optuna.trial.Trial.suggest_float` instead.\n",
            "  'alpha': trial.suggest_loguniform('alpha', 1e-3, 10.0),\n",
            "c:\\Users\\ibola\\anaconda3\\lib\\site-packages\\xgboost\\sklearn.py:1224: UserWarning: The use of label encoder in XGBClassifier is deprecated and will be removed in a future release. To remove this warning, do the following: 1) Pass option use_label_encoder=False when constructing XGBClassifier object; and 2) Encode your labels (y) as integers starting with 0, i.e. 0, 1, 2, ..., [num_class - 1].\n",
            "  warnings.warn(label_encoder_deprecation_msg, UserWarning)\n",
            "c:\\Users\\ibola\\anaconda3\\lib\\site-packages\\xgboost\\data.py:250: FutureWarning: pandas.Int64Index is deprecated and will be removed from pandas in a future version. Use pandas.Index with the appropriate dtype instead.\n",
            "  elif isinstance(data.columns, (pd.Int64Index, pd.RangeIndex)):\n"
          ]
        },
        {
          "name": "stdout",
          "output_type": "stream",
          "text": [
            "[18:03:46] WARNING: C:\\Windows\\Temp\\abs_557yfx631l\\croots\\recipe\\xgboost-split_1659548953302\\work\\src\\learner.cc:576: \n",
            "Parameters: { \"silent\" } might not be used.\n",
            "\n",
            "  This could be a false alarm, with some parameters getting used by language bindings but\n",
            "  then being mistakenly passed down to XGBoost core, or some parameter actually being used\n",
            "  but getting flagged wrongly here. Please open an issue if you find any such cases.\n",
            "\n",
            "\n",
            "[18:03:46] WARNING: C:\\Windows\\Temp\\abs_557yfx631l\\croots\\recipe\\xgboost-split_1659548953302\\work\\src\\learner.cc:1115: Starting in XGBoost 1.3.0, the default evaluation metric used with the objective 'binary:logistic' was changed from 'error' to 'logloss'. Explicitly set eval_metric if you'd like to restore the old behavior.\n"
          ]
        },
        {
          "name": "stderr",
          "output_type": "stream",
          "text": [
            "\u001b[32m[I 2022-10-15 18:04:11,973]\u001b[0m Trial 7 finished with value: 14.657598820544953 and parameters: {'lambda': 0.021917222262451103, 'alpha': 0.009190308433997318, 'colsample_bytree': 0.6, 'subsample': 0.4, 'learning_rate': 0.018, 'max_depth': 13, 'random_state': 2020, 'min_child_weight': 260}. Best is trial 1 with value: 14.657598820544953.\u001b[0m\n",
            "C:\\Users\\ibola\\AppData\\Local\\Temp\\ipykernel_5576\\41865496.py:10: FutureWarning: suggest_loguniform has been deprecated in v3.0.0. This feature will be removed in v6.0.0. See https://github.com/optuna/optuna/releases/tag/v3.0.0. Use :func:`~optuna.trial.Trial.suggest_float` instead.\n",
            "  'lambda': trial.suggest_loguniform('lambda', 1e-3, 10.0),\n",
            "C:\\Users\\ibola\\AppData\\Local\\Temp\\ipykernel_5576\\41865496.py:11: FutureWarning: suggest_loguniform has been deprecated in v3.0.0. This feature will be removed in v6.0.0. See https://github.com/optuna/optuna/releases/tag/v3.0.0. Use :func:`~optuna.trial.Trial.suggest_float` instead.\n",
            "  'alpha': trial.suggest_loguniform('alpha', 1e-3, 10.0),\n",
            "c:\\Users\\ibola\\anaconda3\\lib\\site-packages\\xgboost\\sklearn.py:1224: UserWarning: The use of label encoder in XGBClassifier is deprecated and will be removed in a future release. To remove this warning, do the following: 1) Pass option use_label_encoder=False when constructing XGBClassifier object; and 2) Encode your labels (y) as integers starting with 0, i.e. 0, 1, 2, ..., [num_class - 1].\n",
            "  warnings.warn(label_encoder_deprecation_msg, UserWarning)\n",
            "c:\\Users\\ibola\\anaconda3\\lib\\site-packages\\xgboost\\data.py:250: FutureWarning: pandas.Int64Index is deprecated and will be removed from pandas in a future version. Use pandas.Index with the appropriate dtype instead.\n",
            "  elif isinstance(data.columns, (pd.Int64Index, pd.RangeIndex)):\n"
          ]
        },
        {
          "name": "stdout",
          "output_type": "stream",
          "text": [
            "[18:04:12] WARNING: C:\\Windows\\Temp\\abs_557yfx631l\\croots\\recipe\\xgboost-split_1659548953302\\work\\src\\learner.cc:576: \n",
            "Parameters: { \"silent\" } might not be used.\n",
            "\n",
            "  This could be a false alarm, with some parameters getting used by language bindings but\n",
            "  then being mistakenly passed down to XGBoost core, or some parameter actually being used\n",
            "  but getting flagged wrongly here. Please open an issue if you find any such cases.\n",
            "\n",
            "\n",
            "[18:04:12] WARNING: C:\\Windows\\Temp\\abs_557yfx631l\\croots\\recipe\\xgboost-split_1659548953302\\work\\src\\learner.cc:1115: Starting in XGBoost 1.3.0, the default evaluation metric used with the objective 'binary:logistic' was changed from 'error' to 'logloss'. Explicitly set eval_metric if you'd like to restore the old behavior.\n"
          ]
        },
        {
          "name": "stderr",
          "output_type": "stream",
          "text": [
            "\u001b[32m[I 2022-10-15 18:04:38,991]\u001b[0m Trial 8 finished with value: 14.657598820544953 and parameters: {'lambda': 0.0034889124481691986, 'alpha': 0.3677700803688271, 'colsample_bytree': 0.6, 'subsample': 0.8, 'learning_rate': 0.02, 'max_depth': 11, 'random_state': 2020, 'min_child_weight': 269}. Best is trial 1 with value: 14.657598820544953.\u001b[0m\n",
            "C:\\Users\\ibola\\AppData\\Local\\Temp\\ipykernel_5576\\41865496.py:10: FutureWarning: suggest_loguniform has been deprecated in v3.0.0. This feature will be removed in v6.0.0. See https://github.com/optuna/optuna/releases/tag/v3.0.0. Use :func:`~optuna.trial.Trial.suggest_float` instead.\n",
            "  'lambda': trial.suggest_loguniform('lambda', 1e-3, 10.0),\n",
            "C:\\Users\\ibola\\AppData\\Local\\Temp\\ipykernel_5576\\41865496.py:11: FutureWarning: suggest_loguniform has been deprecated in v3.0.0. This feature will be removed in v6.0.0. See https://github.com/optuna/optuna/releases/tag/v3.0.0. Use :func:`~optuna.trial.Trial.suggest_float` instead.\n",
            "  'alpha': trial.suggest_loguniform('alpha', 1e-3, 10.0),\n",
            "c:\\Users\\ibola\\anaconda3\\lib\\site-packages\\xgboost\\sklearn.py:1224: UserWarning: The use of label encoder in XGBClassifier is deprecated and will be removed in a future release. To remove this warning, do the following: 1) Pass option use_label_encoder=False when constructing XGBClassifier object; and 2) Encode your labels (y) as integers starting with 0, i.e. 0, 1, 2, ..., [num_class - 1].\n",
            "  warnings.warn(label_encoder_deprecation_msg, UserWarning)\n",
            "c:\\Users\\ibola\\anaconda3\\lib\\site-packages\\xgboost\\data.py:250: FutureWarning: pandas.Int64Index is deprecated and will be removed from pandas in a future version. Use pandas.Index with the appropriate dtype instead.\n",
            "  elif isinstance(data.columns, (pd.Int64Index, pd.RangeIndex)):\n"
          ]
        },
        {
          "name": "stdout",
          "output_type": "stream",
          "text": [
            "[18:04:39] WARNING: C:\\Windows\\Temp\\abs_557yfx631l\\croots\\recipe\\xgboost-split_1659548953302\\work\\src\\learner.cc:576: \n",
            "Parameters: { \"silent\" } might not be used.\n",
            "\n",
            "  This could be a false alarm, with some parameters getting used by language bindings but\n",
            "  then being mistakenly passed down to XGBoost core, or some parameter actually being used\n",
            "  but getting flagged wrongly here. Please open an issue if you find any such cases.\n",
            "\n",
            "\n",
            "[18:04:39] WARNING: C:\\Windows\\Temp\\abs_557yfx631l\\croots\\recipe\\xgboost-split_1659548953302\\work\\src\\learner.cc:1115: Starting in XGBoost 1.3.0, the default evaluation metric used with the objective 'binary:logistic' was changed from 'error' to 'logloss'. Explicitly set eval_metric if you'd like to restore the old behavior.\n"
          ]
        },
        {
          "name": "stderr",
          "output_type": "stream",
          "text": [
            "\u001b[32m[I 2022-10-15 18:05:11,836]\u001b[0m Trial 9 finished with value: 14.657598820544953 and parameters: {'lambda': 0.01014035142312957, 'alpha': 0.07401105429562205, 'colsample_bytree': 0.6, 'subsample': 1.0, 'learning_rate': 0.012, 'max_depth': 9, 'random_state': 2020, 'min_child_weight': 170}. Best is trial 1 with value: 14.657598820544953.\u001b[0m\n",
            "C:\\Users\\ibola\\AppData\\Local\\Temp\\ipykernel_5576\\41865496.py:10: FutureWarning: suggest_loguniform has been deprecated in v3.0.0. This feature will be removed in v6.0.0. See https://github.com/optuna/optuna/releases/tag/v3.0.0. Use :func:`~optuna.trial.Trial.suggest_float` instead.\n",
            "  'lambda': trial.suggest_loguniform('lambda', 1e-3, 10.0),\n",
            "C:\\Users\\ibola\\AppData\\Local\\Temp\\ipykernel_5576\\41865496.py:11: FutureWarning: suggest_loguniform has been deprecated in v3.0.0. This feature will be removed in v6.0.0. See https://github.com/optuna/optuna/releases/tag/v3.0.0. Use :func:`~optuna.trial.Trial.suggest_float` instead.\n",
            "  'alpha': trial.suggest_loguniform('alpha', 1e-3, 10.0),\n",
            "c:\\Users\\ibola\\anaconda3\\lib\\site-packages\\xgboost\\sklearn.py:1224: UserWarning: The use of label encoder in XGBClassifier is deprecated and will be removed in a future release. To remove this warning, do the following: 1) Pass option use_label_encoder=False when constructing XGBClassifier object; and 2) Encode your labels (y) as integers starting with 0, i.e. 0, 1, 2, ..., [num_class - 1].\n",
            "  warnings.warn(label_encoder_deprecation_msg, UserWarning)\n",
            "c:\\Users\\ibola\\anaconda3\\lib\\site-packages\\xgboost\\data.py:250: FutureWarning: pandas.Int64Index is deprecated and will be removed from pandas in a future version. Use pandas.Index with the appropriate dtype instead.\n",
            "  elif isinstance(data.columns, (pd.Int64Index, pd.RangeIndex)):\n"
          ]
        },
        {
          "name": "stdout",
          "output_type": "stream",
          "text": [
            "[18:05:12] WARNING: C:\\Windows\\Temp\\abs_557yfx631l\\croots\\recipe\\xgboost-split_1659548953302\\work\\src\\learner.cc:576: \n",
            "Parameters: { \"silent\" } might not be used.\n",
            "\n",
            "  This could be a false alarm, with some parameters getting used by language bindings but\n",
            "  then being mistakenly passed down to XGBoost core, or some parameter actually being used\n",
            "  but getting flagged wrongly here. Please open an issue if you find any such cases.\n",
            "\n",
            "\n",
            "[18:05:12] WARNING: C:\\Windows\\Temp\\abs_557yfx631l\\croots\\recipe\\xgboost-split_1659548953302\\work\\src\\learner.cc:1115: Starting in XGBoost 1.3.0, the default evaluation metric used with the objective 'binary:logistic' was changed from 'error' to 'logloss'. Explicitly set eval_metric if you'd like to restore the old behavior.\n"
          ]
        },
        {
          "name": "stderr",
          "output_type": "stream",
          "text": [
            "\u001b[32m[I 2022-10-15 18:05:57,148]\u001b[0m Trial 10 finished with value: 14.657598820544953 and parameters: {'lambda': 7.6845199402764255, 'alpha': 4.496894670926277, 'colsample_bytree': 1.0, 'subsample': 0.6, 'learning_rate': 0.008, 'max_depth': 5, 'random_state': 2020, 'min_child_weight': 181}. Best is trial 1 with value: 14.657598820544953.\u001b[0m\n",
            "C:\\Users\\ibola\\AppData\\Local\\Temp\\ipykernel_5576\\41865496.py:10: FutureWarning: suggest_loguniform has been deprecated in v3.0.0. This feature will be removed in v6.0.0. See https://github.com/optuna/optuna/releases/tag/v3.0.0. Use :func:`~optuna.trial.Trial.suggest_float` instead.\n",
            "  'lambda': trial.suggest_loguniform('lambda', 1e-3, 10.0),\n",
            "C:\\Users\\ibola\\AppData\\Local\\Temp\\ipykernel_5576\\41865496.py:11: FutureWarning: suggest_loguniform has been deprecated in v3.0.0. This feature will be removed in v6.0.0. See https://github.com/optuna/optuna/releases/tag/v3.0.0. Use :func:`~optuna.trial.Trial.suggest_float` instead.\n",
            "  'alpha': trial.suggest_loguniform('alpha', 1e-3, 10.0),\n",
            "c:\\Users\\ibola\\anaconda3\\lib\\site-packages\\xgboost\\sklearn.py:1224: UserWarning: The use of label encoder in XGBClassifier is deprecated and will be removed in a future release. To remove this warning, do the following: 1) Pass option use_label_encoder=False when constructing XGBClassifier object; and 2) Encode your labels (y) as integers starting with 0, i.e. 0, 1, 2, ..., [num_class - 1].\n",
            "  warnings.warn(label_encoder_deprecation_msg, UserWarning)\n",
            "c:\\Users\\ibola\\anaconda3\\lib\\site-packages\\xgboost\\data.py:250: FutureWarning: pandas.Int64Index is deprecated and will be removed from pandas in a future version. Use pandas.Index with the appropriate dtype instead.\n",
            "  elif isinstance(data.columns, (pd.Int64Index, pd.RangeIndex)):\n"
          ]
        },
        {
          "name": "stdout",
          "output_type": "stream",
          "text": [
            "[18:05:57] WARNING: C:\\Windows\\Temp\\abs_557yfx631l\\croots\\recipe\\xgboost-split_1659548953302\\work\\src\\learner.cc:576: \n",
            "Parameters: { \"silent\" } might not be used.\n",
            "\n",
            "  This could be a false alarm, with some parameters getting used by language bindings but\n",
            "  then being mistakenly passed down to XGBoost core, or some parameter actually being used\n",
            "  but getting flagged wrongly here. Please open an issue if you find any such cases.\n",
            "\n",
            "\n",
            "[18:05:57] WARNING: C:\\Windows\\Temp\\abs_557yfx631l\\croots\\recipe\\xgboost-split_1659548953302\\work\\src\\learner.cc:1115: Starting in XGBoost 1.3.0, the default evaluation metric used with the objective 'binary:logistic' was changed from 'error' to 'logloss'. Explicitly set eval_metric if you'd like to restore the old behavior.\n"
          ]
        },
        {
          "name": "stderr",
          "output_type": "stream",
          "text": [
            "\u001b[32m[I 2022-10-15 18:06:20,659]\u001b[0m Trial 11 finished with value: 14.657598820544953 and parameters: {'lambda': 0.0022860228330446523, 'alpha': 0.010608695905498448, 'colsample_bytree': 0.3, 'subsample': 0.5, 'learning_rate': 0.01, 'max_depth': 7, 'random_state': 2020, 'min_child_weight': 223}. Best is trial 1 with value: 14.657598820544953.\u001b[0m\n",
            "C:\\Users\\ibola\\AppData\\Local\\Temp\\ipykernel_5576\\41865496.py:10: FutureWarning: suggest_loguniform has been deprecated in v3.0.0. This feature will be removed in v6.0.0. See https://github.com/optuna/optuna/releases/tag/v3.0.0. Use :func:`~optuna.trial.Trial.suggest_float` instead.\n",
            "  'lambda': trial.suggest_loguniform('lambda', 1e-3, 10.0),\n",
            "C:\\Users\\ibola\\AppData\\Local\\Temp\\ipykernel_5576\\41865496.py:11: FutureWarning: suggest_loguniform has been deprecated in v3.0.0. This feature will be removed in v6.0.0. See https://github.com/optuna/optuna/releases/tag/v3.0.0. Use :func:`~optuna.trial.Trial.suggest_float` instead.\n",
            "  'alpha': trial.suggest_loguniform('alpha', 1e-3, 10.0),\n",
            "c:\\Users\\ibola\\anaconda3\\lib\\site-packages\\xgboost\\sklearn.py:1224: UserWarning: The use of label encoder in XGBClassifier is deprecated and will be removed in a future release. To remove this warning, do the following: 1) Pass option use_label_encoder=False when constructing XGBClassifier object; and 2) Encode your labels (y) as integers starting with 0, i.e. 0, 1, 2, ..., [num_class - 1].\n",
            "  warnings.warn(label_encoder_deprecation_msg, UserWarning)\n",
            "c:\\Users\\ibola\\anaconda3\\lib\\site-packages\\xgboost\\data.py:250: FutureWarning: pandas.Int64Index is deprecated and will be removed from pandas in a future version. Use pandas.Index with the appropriate dtype instead.\n",
            "  elif isinstance(data.columns, (pd.Int64Index, pd.RangeIndex)):\n"
          ]
        },
        {
          "name": "stdout",
          "output_type": "stream",
          "text": [
            "[18:06:20] WARNING: C:\\Windows\\Temp\\abs_557yfx631l\\croots\\recipe\\xgboost-split_1659548953302\\work\\src\\learner.cc:576: \n",
            "Parameters: { \"silent\" } might not be used.\n",
            "\n",
            "  This could be a false alarm, with some parameters getting used by language bindings but\n",
            "  then being mistakenly passed down to XGBoost core, or some parameter actually being used\n",
            "  but getting flagged wrongly here. Please open an issue if you find any such cases.\n",
            "\n",
            "\n",
            "[18:06:21] WARNING: C:\\Windows\\Temp\\abs_557yfx631l\\croots\\recipe\\xgboost-split_1659548953302\\work\\src\\learner.cc:1115: Starting in XGBoost 1.3.0, the default evaluation metric used with the objective 'binary:logistic' was changed from 'error' to 'logloss'. Explicitly set eval_metric if you'd like to restore the old behavior.\n"
          ]
        },
        {
          "name": "stderr",
          "output_type": "stream",
          "text": [
            "\u001b[32m[I 2022-10-15 18:06:55,199]\u001b[0m Trial 12 finished with value: 14.657598820544953 and parameters: {'lambda': 0.0010313560640449835, 'alpha': 0.001152459265866441, 'colsample_bytree': 0.7, 'subsample': 0.6, 'learning_rate': 0.01, 'max_depth': 7, 'random_state': 2020, 'min_child_weight': 137}. Best is trial 1 with value: 14.657598820544953.\u001b[0m\n",
            "C:\\Users\\ibola\\AppData\\Local\\Temp\\ipykernel_5576\\41865496.py:10: FutureWarning: suggest_loguniform has been deprecated in v3.0.0. This feature will be removed in v6.0.0. See https://github.com/optuna/optuna/releases/tag/v3.0.0. Use :func:`~optuna.trial.Trial.suggest_float` instead.\n",
            "  'lambda': trial.suggest_loguniform('lambda', 1e-3, 10.0),\n",
            "C:\\Users\\ibola\\AppData\\Local\\Temp\\ipykernel_5576\\41865496.py:11: FutureWarning: suggest_loguniform has been deprecated in v3.0.0. This feature will be removed in v6.0.0. See https://github.com/optuna/optuna/releases/tag/v3.0.0. Use :func:`~optuna.trial.Trial.suggest_float` instead.\n",
            "  'alpha': trial.suggest_loguniform('alpha', 1e-3, 10.0),\n",
            "c:\\Users\\ibola\\anaconda3\\lib\\site-packages\\xgboost\\sklearn.py:1224: UserWarning: The use of label encoder in XGBClassifier is deprecated and will be removed in a future release. To remove this warning, do the following: 1) Pass option use_label_encoder=False when constructing XGBClassifier object; and 2) Encode your labels (y) as integers starting with 0, i.e. 0, 1, 2, ..., [num_class - 1].\n",
            "  warnings.warn(label_encoder_deprecation_msg, UserWarning)\n",
            "c:\\Users\\ibola\\anaconda3\\lib\\site-packages\\xgboost\\data.py:250: FutureWarning: pandas.Int64Index is deprecated and will be removed from pandas in a future version. Use pandas.Index with the appropriate dtype instead.\n",
            "  elif isinstance(data.columns, (pd.Int64Index, pd.RangeIndex)):\n"
          ]
        },
        {
          "name": "stdout",
          "output_type": "stream",
          "text": [
            "[18:06:55] WARNING: C:\\Windows\\Temp\\abs_557yfx631l\\croots\\recipe\\xgboost-split_1659548953302\\work\\src\\learner.cc:576: \n",
            "Parameters: { \"silent\" } might not be used.\n",
            "\n",
            "  This could be a false alarm, with some parameters getting used by language bindings but\n",
            "  then being mistakenly passed down to XGBoost core, or some parameter actually being used\n",
            "  but getting flagged wrongly here. Please open an issue if you find any such cases.\n",
            "\n",
            "\n",
            "[18:06:55] WARNING: C:\\Windows\\Temp\\abs_557yfx631l\\croots\\recipe\\xgboost-split_1659548953302\\work\\src\\learner.cc:1115: Starting in XGBoost 1.3.0, the default evaluation metric used with the objective 'binary:logistic' was changed from 'error' to 'logloss'. Explicitly set eval_metric if you'd like to restore the old behavior.\n"
          ]
        },
        {
          "name": "stderr",
          "output_type": "stream",
          "text": [
            "\u001b[32m[I 2022-10-15 18:08:24,457]\u001b[0m Trial 13 finished with value: 14.657598820544953 and parameters: {'lambda': 0.16407300755508963, 'alpha': 0.014981768966225384, 'colsample_bytree': 1.0, 'subsample': 0.8, 'learning_rate': 0.01, 'max_depth': 7, 'random_state': 2020, 'min_child_weight': 119}. Best is trial 1 with value: 14.657598820544953.\u001b[0m\n",
            "C:\\Users\\ibola\\AppData\\Local\\Temp\\ipykernel_5576\\41865496.py:10: FutureWarning: suggest_loguniform has been deprecated in v3.0.0. This feature will be removed in v6.0.0. See https://github.com/optuna/optuna/releases/tag/v3.0.0. Use :func:`~optuna.trial.Trial.suggest_float` instead.\n",
            "  'lambda': trial.suggest_loguniform('lambda', 1e-3, 10.0),\n",
            "C:\\Users\\ibola\\AppData\\Local\\Temp\\ipykernel_5576\\41865496.py:11: FutureWarning: suggest_loguniform has been deprecated in v3.0.0. This feature will be removed in v6.0.0. See https://github.com/optuna/optuna/releases/tag/v3.0.0. Use :func:`~optuna.trial.Trial.suggest_float` instead.\n",
            "  'alpha': trial.suggest_loguniform('alpha', 1e-3, 10.0),\n",
            "c:\\Users\\ibola\\anaconda3\\lib\\site-packages\\xgboost\\sklearn.py:1224: UserWarning: The use of label encoder in XGBClassifier is deprecated and will be removed in a future release. To remove this warning, do the following: 1) Pass option use_label_encoder=False when constructing XGBClassifier object; and 2) Encode your labels (y) as integers starting with 0, i.e. 0, 1, 2, ..., [num_class - 1].\n",
            "  warnings.warn(label_encoder_deprecation_msg, UserWarning)\n",
            "c:\\Users\\ibola\\anaconda3\\lib\\site-packages\\xgboost\\data.py:250: FutureWarning: pandas.Int64Index is deprecated and will be removed from pandas in a future version. Use pandas.Index with the appropriate dtype instead.\n",
            "  elif isinstance(data.columns, (pd.Int64Index, pd.RangeIndex)):\n"
          ]
        },
        {
          "name": "stdout",
          "output_type": "stream",
          "text": [
            "[18:08:24] WARNING: C:\\Windows\\Temp\\abs_557yfx631l\\croots\\recipe\\xgboost-split_1659548953302\\work\\src\\learner.cc:576: \n",
            "Parameters: { \"silent\" } might not be used.\n",
            "\n",
            "  This could be a false alarm, with some parameters getting used by language bindings but\n",
            "  then being mistakenly passed down to XGBoost core, or some parameter actually being used\n",
            "  but getting flagged wrongly here. Please open an issue if you find any such cases.\n",
            "\n",
            "\n",
            "[18:08:25] WARNING: C:\\Windows\\Temp\\abs_557yfx631l\\croots\\recipe\\xgboost-split_1659548953302\\work\\src\\learner.cc:1115: Starting in XGBoost 1.3.0, the default evaluation metric used with the objective 'binary:logistic' was changed from 'error' to 'logloss'. Explicitly set eval_metric if you'd like to restore the old behavior.\n"
          ]
        },
        {
          "name": "stderr",
          "output_type": "stream",
          "text": [
            "\u001b[32m[I 2022-10-15 18:10:08,878]\u001b[0m Trial 14 finished with value: 14.657598820544953 and parameters: {'lambda': 5.155063021538977, 'alpha': 1.8361349513548315, 'colsample_bytree': 0.9, 'subsample': 0.6, 'learning_rate': 0.01, 'max_depth': 11, 'random_state': 2020, 'min_child_weight': 213}. Best is trial 1 with value: 14.657598820544953.\u001b[0m\n",
            "C:\\Users\\ibola\\AppData\\Local\\Temp\\ipykernel_5576\\41865496.py:10: FutureWarning: suggest_loguniform has been deprecated in v3.0.0. This feature will be removed in v6.0.0. See https://github.com/optuna/optuna/releases/tag/v3.0.0. Use :func:`~optuna.trial.Trial.suggest_float` instead.\n",
            "  'lambda': trial.suggest_loguniform('lambda', 1e-3, 10.0),\n",
            "C:\\Users\\ibola\\AppData\\Local\\Temp\\ipykernel_5576\\41865496.py:11: FutureWarning: suggest_loguniform has been deprecated in v3.0.0. This feature will be removed in v6.0.0. See https://github.com/optuna/optuna/releases/tag/v3.0.0. Use :func:`~optuna.trial.Trial.suggest_float` instead.\n",
            "  'alpha': trial.suggest_loguniform('alpha', 1e-3, 10.0),\n",
            "c:\\Users\\ibola\\anaconda3\\lib\\site-packages\\xgboost\\sklearn.py:1224: UserWarning: The use of label encoder in XGBClassifier is deprecated and will be removed in a future release. To remove this warning, do the following: 1) Pass option use_label_encoder=False when constructing XGBClassifier object; and 2) Encode your labels (y) as integers starting with 0, i.e. 0, 1, 2, ..., [num_class - 1].\n",
            "  warnings.warn(label_encoder_deprecation_msg, UserWarning)\n",
            "c:\\Users\\ibola\\anaconda3\\lib\\site-packages\\xgboost\\data.py:250: FutureWarning: pandas.Int64Index is deprecated and will be removed from pandas in a future version. Use pandas.Index with the appropriate dtype instead.\n",
            "  elif isinstance(data.columns, (pd.Int64Index, pd.RangeIndex)):\n"
          ]
        },
        {
          "name": "stdout",
          "output_type": "stream",
          "text": [
            "[18:10:09] WARNING: C:\\Windows\\Temp\\abs_557yfx631l\\croots\\recipe\\xgboost-split_1659548953302\\work\\src\\learner.cc:576: \n",
            "Parameters: { \"silent\" } might not be used.\n",
            "\n",
            "  This could be a false alarm, with some parameters getting used by language bindings but\n",
            "  then being mistakenly passed down to XGBoost core, or some parameter actually being used\n",
            "  but getting flagged wrongly here. Please open an issue if you find any such cases.\n",
            "\n",
            "\n",
            "[18:10:09] WARNING: C:\\Windows\\Temp\\abs_557yfx631l\\croots\\recipe\\xgboost-split_1659548953302\\work\\src\\learner.cc:1115: Starting in XGBoost 1.3.0, the default evaluation metric used with the objective 'binary:logistic' was changed from 'error' to 'logloss'. Explicitly set eval_metric if you'd like to restore the old behavior.\n"
          ]
        },
        {
          "name": "stderr",
          "output_type": "stream",
          "text": [
            "\u001b[32m[I 2022-10-15 18:11:11,445]\u001b[0m Trial 15 finished with value: 14.657598820544953 and parameters: {'lambda': 0.006538824412163164, 'alpha': 0.003383873709569485, 'colsample_bytree': 1.0, 'subsample': 0.5, 'learning_rate': 0.012, 'max_depth': 13, 'random_state': 2020, 'min_child_weight': 225}. Best is trial 1 with value: 14.657598820544953.\u001b[0m\n",
            "C:\\Users\\ibola\\AppData\\Local\\Temp\\ipykernel_5576\\41865496.py:10: FutureWarning: suggest_loguniform has been deprecated in v3.0.0. This feature will be removed in v6.0.0. See https://github.com/optuna/optuna/releases/tag/v3.0.0. Use :func:`~optuna.trial.Trial.suggest_float` instead.\n",
            "  'lambda': trial.suggest_loguniform('lambda', 1e-3, 10.0),\n",
            "C:\\Users\\ibola\\AppData\\Local\\Temp\\ipykernel_5576\\41865496.py:11: FutureWarning: suggest_loguniform has been deprecated in v3.0.0. This feature will be removed in v6.0.0. See https://github.com/optuna/optuna/releases/tag/v3.0.0. Use :func:`~optuna.trial.Trial.suggest_float` instead.\n",
            "  'alpha': trial.suggest_loguniform('alpha', 1e-3, 10.0),\n",
            "c:\\Users\\ibola\\anaconda3\\lib\\site-packages\\xgboost\\sklearn.py:1224: UserWarning: The use of label encoder in XGBClassifier is deprecated and will be removed in a future release. To remove this warning, do the following: 1) Pass option use_label_encoder=False when constructing XGBClassifier object; and 2) Encode your labels (y) as integers starting with 0, i.e. 0, 1, 2, ..., [num_class - 1].\n",
            "  warnings.warn(label_encoder_deprecation_msg, UserWarning)\n",
            "c:\\Users\\ibola\\anaconda3\\lib\\site-packages\\xgboost\\data.py:250: FutureWarning: pandas.Int64Index is deprecated and will be removed from pandas in a future version. Use pandas.Index with the appropriate dtype instead.\n",
            "  elif isinstance(data.columns, (pd.Int64Index, pd.RangeIndex)):\n"
          ]
        },
        {
          "name": "stdout",
          "output_type": "stream",
          "text": [
            "[18:11:11] WARNING: C:\\Windows\\Temp\\abs_557yfx631l\\croots\\recipe\\xgboost-split_1659548953302\\work\\src\\learner.cc:576: \n",
            "Parameters: { \"silent\" } might not be used.\n",
            "\n",
            "  This could be a false alarm, with some parameters getting used by language bindings but\n",
            "  then being mistakenly passed down to XGBoost core, or some parameter actually being used\n",
            "  but getting flagged wrongly here. Please open an issue if you find any such cases.\n",
            "\n",
            "\n",
            "[18:11:11] WARNING: C:\\Windows\\Temp\\abs_557yfx631l\\croots\\recipe\\xgboost-split_1659548953302\\work\\src\\learner.cc:1115: Starting in XGBoost 1.3.0, the default evaluation metric used with the objective 'binary:logistic' was changed from 'error' to 'logloss'. Explicitly set eval_metric if you'd like to restore the old behavior.\n"
          ]
        },
        {
          "name": "stderr",
          "output_type": "stream",
          "text": [
            "\u001b[32m[I 2022-10-15 18:11:57,032]\u001b[0m Trial 16 finished with value: 14.657598820544953 and parameters: {'lambda': 0.19002641677626195, 'alpha': 0.03060204694996582, 'colsample_bytree': 0.7, 'subsample': 0.6, 'learning_rate': 0.014, 'max_depth': 9, 'random_state': 2020, 'min_child_weight': 116}. Best is trial 1 with value: 14.657598820544953.\u001b[0m\n",
            "C:\\Users\\ibola\\AppData\\Local\\Temp\\ipykernel_5576\\41865496.py:10: FutureWarning: suggest_loguniform has been deprecated in v3.0.0. This feature will be removed in v6.0.0. See https://github.com/optuna/optuna/releases/tag/v3.0.0. Use :func:`~optuna.trial.Trial.suggest_float` instead.\n",
            "  'lambda': trial.suggest_loguniform('lambda', 1e-3, 10.0),\n",
            "C:\\Users\\ibola\\AppData\\Local\\Temp\\ipykernel_5576\\41865496.py:11: FutureWarning: suggest_loguniform has been deprecated in v3.0.0. This feature will be removed in v6.0.0. See https://github.com/optuna/optuna/releases/tag/v3.0.0. Use :func:`~optuna.trial.Trial.suggest_float` instead.\n",
            "  'alpha': trial.suggest_loguniform('alpha', 1e-3, 10.0),\n",
            "c:\\Users\\ibola\\anaconda3\\lib\\site-packages\\xgboost\\sklearn.py:1224: UserWarning: The use of label encoder in XGBClassifier is deprecated and will be removed in a future release. To remove this warning, do the following: 1) Pass option use_label_encoder=False when constructing XGBClassifier object; and 2) Encode your labels (y) as integers starting with 0, i.e. 0, 1, 2, ..., [num_class - 1].\n",
            "  warnings.warn(label_encoder_deprecation_msg, UserWarning)\n",
            "c:\\Users\\ibola\\anaconda3\\lib\\site-packages\\xgboost\\data.py:250: FutureWarning: pandas.Int64Index is deprecated and will be removed from pandas in a future version. Use pandas.Index with the appropriate dtype instead.\n",
            "  elif isinstance(data.columns, (pd.Int64Index, pd.RangeIndex)):\n"
          ]
        },
        {
          "name": "stdout",
          "output_type": "stream",
          "text": [
            "[18:11:57] WARNING: C:\\Windows\\Temp\\abs_557yfx631l\\croots\\recipe\\xgboost-split_1659548953302\\work\\src\\learner.cc:576: \n",
            "Parameters: { \"silent\" } might not be used.\n",
            "\n",
            "  This could be a false alarm, with some parameters getting used by language bindings but\n",
            "  then being mistakenly passed down to XGBoost core, or some parameter actually being used\n",
            "  but getting flagged wrongly here. Please open an issue if you find any such cases.\n",
            "\n",
            "\n",
            "[18:11:57] WARNING: C:\\Windows\\Temp\\abs_557yfx631l\\croots\\recipe\\xgboost-split_1659548953302\\work\\src\\learner.cc:1115: Starting in XGBoost 1.3.0, the default evaluation metric used with the objective 'binary:logistic' was changed from 'error' to 'logloss'. Explicitly set eval_metric if you'd like to restore the old behavior.\n"
          ]
        },
        {
          "name": "stderr",
          "output_type": "stream",
          "text": [
            "\u001b[32m[I 2022-10-15 18:12:34,079]\u001b[0m Trial 17 finished with value: 14.657598820544953 and parameters: {'lambda': 1.372439281898112, 'alpha': 1.12044889374269, 'colsample_bytree': 0.6, 'subsample': 0.8, 'learning_rate': 0.02, 'max_depth': 11, 'random_state': 2020, 'min_child_weight': 231}. Best is trial 1 with value: 14.657598820544953.\u001b[0m\n",
            "C:\\Users\\ibola\\AppData\\Local\\Temp\\ipykernel_5576\\41865496.py:10: FutureWarning: suggest_loguniform has been deprecated in v3.0.0. This feature will be removed in v6.0.0. See https://github.com/optuna/optuna/releases/tag/v3.0.0. Use :func:`~optuna.trial.Trial.suggest_float` instead.\n",
            "  'lambda': trial.suggest_loguniform('lambda', 1e-3, 10.0),\n",
            "C:\\Users\\ibola\\AppData\\Local\\Temp\\ipykernel_5576\\41865496.py:11: FutureWarning: suggest_loguniform has been deprecated in v3.0.0. This feature will be removed in v6.0.0. See https://github.com/optuna/optuna/releases/tag/v3.0.0. Use :func:`~optuna.trial.Trial.suggest_float` instead.\n",
            "  'alpha': trial.suggest_loguniform('alpha', 1e-3, 10.0),\n",
            "c:\\Users\\ibola\\anaconda3\\lib\\site-packages\\xgboost\\sklearn.py:1224: UserWarning: The use of label encoder in XGBClassifier is deprecated and will be removed in a future release. To remove this warning, do the following: 1) Pass option use_label_encoder=False when constructing XGBClassifier object; and 2) Encode your labels (y) as integers starting with 0, i.e. 0, 1, 2, ..., [num_class - 1].\n",
            "  warnings.warn(label_encoder_deprecation_msg, UserWarning)\n",
            "c:\\Users\\ibola\\anaconda3\\lib\\site-packages\\xgboost\\data.py:250: FutureWarning: pandas.Int64Index is deprecated and will be removed from pandas in a future version. Use pandas.Index with the appropriate dtype instead.\n",
            "  elif isinstance(data.columns, (pd.Int64Index, pd.RangeIndex)):\n"
          ]
        },
        {
          "name": "stdout",
          "output_type": "stream",
          "text": [
            "[18:12:34] WARNING: C:\\Windows\\Temp\\abs_557yfx631l\\croots\\recipe\\xgboost-split_1659548953302\\work\\src\\learner.cc:576: \n",
            "Parameters: { \"silent\" } might not be used.\n",
            "\n",
            "  This could be a false alarm, with some parameters getting used by language bindings but\n",
            "  then being mistakenly passed down to XGBoost core, or some parameter actually being used\n",
            "  but getting flagged wrongly here. Please open an issue if you find any such cases.\n",
            "\n",
            "\n",
            "[18:12:34] WARNING: C:\\Windows\\Temp\\abs_557yfx631l\\croots\\recipe\\xgboost-split_1659548953302\\work\\src\\learner.cc:1115: Starting in XGBoost 1.3.0, the default evaluation metric used with the objective 'binary:logistic' was changed from 'error' to 'logloss'. Explicitly set eval_metric if you'd like to restore the old behavior.\n"
          ]
        },
        {
          "name": "stderr",
          "output_type": "stream",
          "text": [
            "\u001b[32m[I 2022-10-15 18:13:08,004]\u001b[0m Trial 18 finished with value: 14.657598820544953 and parameters: {'lambda': 0.006561514156017131, 'alpha': 0.1929845673838923, 'colsample_bytree': 0.3, 'subsample': 0.5, 'learning_rate': 0.012, 'max_depth': 13, 'random_state': 2020, 'min_child_weight': 289}. Best is trial 1 with value: 14.657598820544953.\u001b[0m\n",
            "C:\\Users\\ibola\\AppData\\Local\\Temp\\ipykernel_5576\\41865496.py:10: FutureWarning: suggest_loguniform has been deprecated in v3.0.0. This feature will be removed in v6.0.0. See https://github.com/optuna/optuna/releases/tag/v3.0.0. Use :func:`~optuna.trial.Trial.suggest_float` instead.\n",
            "  'lambda': trial.suggest_loguniform('lambda', 1e-3, 10.0),\n",
            "C:\\Users\\ibola\\AppData\\Local\\Temp\\ipykernel_5576\\41865496.py:11: FutureWarning: suggest_loguniform has been deprecated in v3.0.0. This feature will be removed in v6.0.0. See https://github.com/optuna/optuna/releases/tag/v3.0.0. Use :func:`~optuna.trial.Trial.suggest_float` instead.\n",
            "  'alpha': trial.suggest_loguniform('alpha', 1e-3, 10.0),\n",
            "c:\\Users\\ibola\\anaconda3\\lib\\site-packages\\xgboost\\sklearn.py:1224: UserWarning: The use of label encoder in XGBClassifier is deprecated and will be removed in a future release. To remove this warning, do the following: 1) Pass option use_label_encoder=False when constructing XGBClassifier object; and 2) Encode your labels (y) as integers starting with 0, i.e. 0, 1, 2, ..., [num_class - 1].\n",
            "  warnings.warn(label_encoder_deprecation_msg, UserWarning)\n",
            "c:\\Users\\ibola\\anaconda3\\lib\\site-packages\\xgboost\\data.py:250: FutureWarning: pandas.Int64Index is deprecated and will be removed from pandas in a future version. Use pandas.Index with the appropriate dtype instead.\n",
            "  elif isinstance(data.columns, (pd.Int64Index, pd.RangeIndex)):\n"
          ]
        },
        {
          "name": "stdout",
          "output_type": "stream",
          "text": [
            "[18:13:08] WARNING: C:\\Windows\\Temp\\abs_557yfx631l\\croots\\recipe\\xgboost-split_1659548953302\\work\\src\\learner.cc:576: \n",
            "Parameters: { \"silent\" } might not be used.\n",
            "\n",
            "  This could be a false alarm, with some parameters getting used by language bindings but\n",
            "  then being mistakenly passed down to XGBoost core, or some parameter actually being used\n",
            "  but getting flagged wrongly here. Please open an issue if you find any such cases.\n",
            "\n",
            "\n",
            "[18:13:08] WARNING: C:\\Windows\\Temp\\abs_557yfx631l\\croots\\recipe\\xgboost-split_1659548953302\\work\\src\\learner.cc:1115: Starting in XGBoost 1.3.0, the default evaluation metric used with the objective 'binary:logistic' was changed from 'error' to 'logloss'. Explicitly set eval_metric if you'd like to restore the old behavior.\n"
          ]
        },
        {
          "name": "stderr",
          "output_type": "stream",
          "text": [
            "\u001b[32m[I 2022-10-15 18:13:40,001]\u001b[0m Trial 19 finished with value: 14.65540588236115 and parameters: {'lambda': 0.017879841381129295, 'alpha': 0.07726616874988707, 'colsample_bytree': 0.7, 'subsample': 1.0, 'learning_rate': 0.014, 'max_depth': 9, 'random_state': 2020, 'min_child_weight': 105}. Best is trial 19 with value: 14.65540588236115.\u001b[0m\n",
            "C:\\Users\\ibola\\AppData\\Local\\Temp\\ipykernel_5576\\41865496.py:10: FutureWarning: suggest_loguniform has been deprecated in v3.0.0. This feature will be removed in v6.0.0. See https://github.com/optuna/optuna/releases/tag/v3.0.0. Use :func:`~optuna.trial.Trial.suggest_float` instead.\n",
            "  'lambda': trial.suggest_loguniform('lambda', 1e-3, 10.0),\n",
            "C:\\Users\\ibola\\AppData\\Local\\Temp\\ipykernel_5576\\41865496.py:11: FutureWarning: suggest_loguniform has been deprecated in v3.0.0. This feature will be removed in v6.0.0. See https://github.com/optuna/optuna/releases/tag/v3.0.0. Use :func:`~optuna.trial.Trial.suggest_float` instead.\n",
            "  'alpha': trial.suggest_loguniform('alpha', 1e-3, 10.0),\n",
            "c:\\Users\\ibola\\anaconda3\\lib\\site-packages\\xgboost\\sklearn.py:1224: UserWarning: The use of label encoder in XGBClassifier is deprecated and will be removed in a future release. To remove this warning, do the following: 1) Pass option use_label_encoder=False when constructing XGBClassifier object; and 2) Encode your labels (y) as integers starting with 0, i.e. 0, 1, 2, ..., [num_class - 1].\n",
            "  warnings.warn(label_encoder_deprecation_msg, UserWarning)\n",
            "c:\\Users\\ibola\\anaconda3\\lib\\site-packages\\xgboost\\data.py:250: FutureWarning: pandas.Int64Index is deprecated and will be removed from pandas in a future version. Use pandas.Index with the appropriate dtype instead.\n",
            "  elif isinstance(data.columns, (pd.Int64Index, pd.RangeIndex)):\n"
          ]
        },
        {
          "name": "stdout",
          "output_type": "stream",
          "text": [
            "[18:13:40] WARNING: C:\\Windows\\Temp\\abs_557yfx631l\\croots\\recipe\\xgboost-split_1659548953302\\work\\src\\learner.cc:576: \n",
            "Parameters: { \"silent\" } might not be used.\n",
            "\n",
            "  This could be a false alarm, with some parameters getting used by language bindings but\n",
            "  then being mistakenly passed down to XGBoost core, or some parameter actually being used\n",
            "  but getting flagged wrongly here. Please open an issue if you find any such cases.\n",
            "\n",
            "\n",
            "[18:13:40] WARNING: C:\\Windows\\Temp\\abs_557yfx631l\\croots\\recipe\\xgboost-split_1659548953302\\work\\src\\learner.cc:1115: Starting in XGBoost 1.3.0, the default evaluation metric used with the objective 'binary:logistic' was changed from 'error' to 'logloss'. Explicitly set eval_metric if you'd like to restore the old behavior.\n"
          ]
        },
        {
          "name": "stderr",
          "output_type": "stream",
          "text": [
            "\u001b[32m[I 2022-10-15 18:14:13,073]\u001b[0m Trial 20 finished with value: 14.681722917449973 and parameters: {'lambda': 0.721820860364772, 'alpha': 0.7446851743865067, 'colsample_bytree': 0.7, 'subsample': 1.0, 'learning_rate': 0.014, 'max_depth': 9, 'random_state': 2020, 'min_child_weight': 16}. Best is trial 19 with value: 14.65540588236115.\u001b[0m\n",
            "C:\\Users\\ibola\\AppData\\Local\\Temp\\ipykernel_5576\\41865496.py:10: FutureWarning: suggest_loguniform has been deprecated in v3.0.0. This feature will be removed in v6.0.0. See https://github.com/optuna/optuna/releases/tag/v3.0.0. Use :func:`~optuna.trial.Trial.suggest_float` instead.\n",
            "  'lambda': trial.suggest_loguniform('lambda', 1e-3, 10.0),\n",
            "C:\\Users\\ibola\\AppData\\Local\\Temp\\ipykernel_5576\\41865496.py:11: FutureWarning: suggest_loguniform has been deprecated in v3.0.0. This feature will be removed in v6.0.0. See https://github.com/optuna/optuna/releases/tag/v3.0.0. Use :func:`~optuna.trial.Trial.suggest_float` instead.\n",
            "  'alpha': trial.suggest_loguniform('alpha', 1e-3, 10.0),\n",
            "c:\\Users\\ibola\\anaconda3\\lib\\site-packages\\xgboost\\sklearn.py:1224: UserWarning: The use of label encoder in XGBClassifier is deprecated and will be removed in a future release. To remove this warning, do the following: 1) Pass option use_label_encoder=False when constructing XGBClassifier object; and 2) Encode your labels (y) as integers starting with 0, i.e. 0, 1, 2, ..., [num_class - 1].\n",
            "  warnings.warn(label_encoder_deprecation_msg, UserWarning)\n",
            "c:\\Users\\ibola\\anaconda3\\lib\\site-packages\\xgboost\\data.py:250: FutureWarning: pandas.Int64Index is deprecated and will be removed from pandas in a future version. Use pandas.Index with the appropriate dtype instead.\n",
            "  elif isinstance(data.columns, (pd.Int64Index, pd.RangeIndex)):\n"
          ]
        },
        {
          "name": "stdout",
          "output_type": "stream",
          "text": [
            "[18:14:13] WARNING: C:\\Windows\\Temp\\abs_557yfx631l\\croots\\recipe\\xgboost-split_1659548953302\\work\\src\\learner.cc:576: \n",
            "Parameters: { \"silent\" } might not be used.\n",
            "\n",
            "  This could be a false alarm, with some parameters getting used by language bindings but\n",
            "  then being mistakenly passed down to XGBoost core, or some parameter actually being used\n",
            "  but getting flagged wrongly here. Please open an issue if you find any such cases.\n",
            "\n",
            "\n",
            "[18:14:13] WARNING: C:\\Windows\\Temp\\abs_557yfx631l\\croots\\recipe\\xgboost-split_1659548953302\\work\\src\\learner.cc:1115: Starting in XGBoost 1.3.0, the default evaluation metric used with the objective 'binary:logistic' was changed from 'error' to 'logloss'. Explicitly set eval_metric if you'd like to restore the old behavior.\n"
          ]
        },
        {
          "name": "stderr",
          "output_type": "stream",
          "text": [
            "\u001b[32m[I 2022-10-15 18:15:02,200]\u001b[0m Trial 21 finished with value: 14.657598820544953 and parameters: {'lambda': 8.758448105432189, 'alpha': 8.299770514273037, 'colsample_bytree': 1.0, 'subsample': 0.6, 'learning_rate': 0.008, 'max_depth': 5, 'random_state': 2020, 'min_child_weight': 170}. Best is trial 19 with value: 14.65540588236115.\u001b[0m\n",
            "C:\\Users\\ibola\\AppData\\Local\\Temp\\ipykernel_5576\\41865496.py:10: FutureWarning: suggest_loguniform has been deprecated in v3.0.0. This feature will be removed in v6.0.0. See https://github.com/optuna/optuna/releases/tag/v3.0.0. Use :func:`~optuna.trial.Trial.suggest_float` instead.\n",
            "  'lambda': trial.suggest_loguniform('lambda', 1e-3, 10.0),\n",
            "C:\\Users\\ibola\\AppData\\Local\\Temp\\ipykernel_5576\\41865496.py:11: FutureWarning: suggest_loguniform has been deprecated in v3.0.0. This feature will be removed in v6.0.0. See https://github.com/optuna/optuna/releases/tag/v3.0.0. Use :func:`~optuna.trial.Trial.suggest_float` instead.\n",
            "  'alpha': trial.suggest_loguniform('alpha', 1e-3, 10.0),\n",
            "c:\\Users\\ibola\\anaconda3\\lib\\site-packages\\xgboost\\sklearn.py:1224: UserWarning: The use of label encoder in XGBClassifier is deprecated and will be removed in a future release. To remove this warning, do the following: 1) Pass option use_label_encoder=False when constructing XGBClassifier object; and 2) Encode your labels (y) as integers starting with 0, i.e. 0, 1, 2, ..., [num_class - 1].\n",
            "  warnings.warn(label_encoder_deprecation_msg, UserWarning)\n",
            "c:\\Users\\ibola\\anaconda3\\lib\\site-packages\\xgboost\\data.py:250: FutureWarning: pandas.Int64Index is deprecated and will be removed from pandas in a future version. Use pandas.Index with the appropriate dtype instead.\n",
            "  elif isinstance(data.columns, (pd.Int64Index, pd.RangeIndex)):\n"
          ]
        },
        {
          "name": "stdout",
          "output_type": "stream",
          "text": [
            "[18:15:02] WARNING: C:\\Windows\\Temp\\abs_557yfx631l\\croots\\recipe\\xgboost-split_1659548953302\\work\\src\\learner.cc:576: \n",
            "Parameters: { \"silent\" } might not be used.\n",
            "\n",
            "  This could be a false alarm, with some parameters getting used by language bindings but\n",
            "  then being mistakenly passed down to XGBoost core, or some parameter actually being used\n",
            "  but getting flagged wrongly here. Please open an issue if you find any such cases.\n",
            "\n",
            "\n",
            "[18:15:02] WARNING: C:\\Windows\\Temp\\abs_557yfx631l\\croots\\recipe\\xgboost-split_1659548953302\\work\\src\\learner.cc:1115: Starting in XGBoost 1.3.0, the default evaluation metric used with the objective 'binary:logistic' was changed from 'error' to 'logloss'. Explicitly set eval_metric if you'd like to restore the old behavior.\n"
          ]
        },
        {
          "name": "stderr",
          "output_type": "stream",
          "text": [
            "\u001b[32m[I 2022-10-15 18:15:29,312]\u001b[0m Trial 22 finished with value: 14.657598820544953 and parameters: {'lambda': 0.015519629128575973, 'alpha': 9.010826962086902, 'colsample_bytree': 0.3, 'subsample': 0.5, 'learning_rate': 0.008, 'max_depth': 5, 'random_state': 2020, 'min_child_weight': 193}. Best is trial 19 with value: 14.65540588236115.\u001b[0m\n",
            "C:\\Users\\ibola\\AppData\\Local\\Temp\\ipykernel_5576\\41865496.py:10: FutureWarning: suggest_loguniform has been deprecated in v3.0.0. This feature will be removed in v6.0.0. See https://github.com/optuna/optuna/releases/tag/v3.0.0. Use :func:`~optuna.trial.Trial.suggest_float` instead.\n",
            "  'lambda': trial.suggest_loguniform('lambda', 1e-3, 10.0),\n",
            "C:\\Users\\ibola\\AppData\\Local\\Temp\\ipykernel_5576\\41865496.py:11: FutureWarning: suggest_loguniform has been deprecated in v3.0.0. This feature will be removed in v6.0.0. See https://github.com/optuna/optuna/releases/tag/v3.0.0. Use :func:`~optuna.trial.Trial.suggest_float` instead.\n",
            "  'alpha': trial.suggest_loguniform('alpha', 1e-3, 10.0),\n",
            "c:\\Users\\ibola\\anaconda3\\lib\\site-packages\\xgboost\\sklearn.py:1224: UserWarning: The use of label encoder in XGBClassifier is deprecated and will be removed in a future release. To remove this warning, do the following: 1) Pass option use_label_encoder=False when constructing XGBClassifier object; and 2) Encode your labels (y) as integers starting with 0, i.e. 0, 1, 2, ..., [num_class - 1].\n",
            "  warnings.warn(label_encoder_deprecation_msg, UserWarning)\n",
            "c:\\Users\\ibola\\anaconda3\\lib\\site-packages\\xgboost\\data.py:250: FutureWarning: pandas.Int64Index is deprecated and will be removed from pandas in a future version. Use pandas.Index with the appropriate dtype instead.\n",
            "  elif isinstance(data.columns, (pd.Int64Index, pd.RangeIndex)):\n"
          ]
        },
        {
          "name": "stdout",
          "output_type": "stream",
          "text": [
            "[18:15:29] WARNING: C:\\Windows\\Temp\\abs_557yfx631l\\croots\\recipe\\xgboost-split_1659548953302\\work\\src\\learner.cc:576: \n",
            "Parameters: { \"silent\" } might not be used.\n",
            "\n",
            "  This could be a false alarm, with some parameters getting used by language bindings but\n",
            "  then being mistakenly passed down to XGBoost core, or some parameter actually being used\n",
            "  but getting flagged wrongly here. Please open an issue if you find any such cases.\n",
            "\n",
            "\n",
            "[18:15:29] WARNING: C:\\Windows\\Temp\\abs_557yfx631l\\croots\\recipe\\xgboost-split_1659548953302\\work\\src\\learner.cc:1115: Starting in XGBoost 1.3.0, the default evaluation metric used with the objective 'binary:logistic' was changed from 'error' to 'logloss'. Explicitly set eval_metric if you'd like to restore the old behavior.\n"
          ]
        },
        {
          "name": "stderr",
          "output_type": "stream",
          "text": [
            "\u001b[32m[I 2022-10-15 18:15:58,398]\u001b[0m Trial 23 finished with value: 14.657598820544953 and parameters: {'lambda': 0.0015844596243100458, 'alpha': 0.13824597299702387, 'colsample_bytree': 0.3, 'subsample': 0.5, 'learning_rate': 0.012, 'max_depth': 13, 'random_state': 2020, 'min_child_weight': 294}. Best is trial 19 with value: 14.65540588236115.\u001b[0m\n",
            "C:\\Users\\ibola\\AppData\\Local\\Temp\\ipykernel_5576\\41865496.py:10: FutureWarning: suggest_loguniform has been deprecated in v3.0.0. This feature will be removed in v6.0.0. See https://github.com/optuna/optuna/releases/tag/v3.0.0. Use :func:`~optuna.trial.Trial.suggest_float` instead.\n",
            "  'lambda': trial.suggest_loguniform('lambda', 1e-3, 10.0),\n",
            "C:\\Users\\ibola\\AppData\\Local\\Temp\\ipykernel_5576\\41865496.py:11: FutureWarning: suggest_loguniform has been deprecated in v3.0.0. This feature will be removed in v6.0.0. See https://github.com/optuna/optuna/releases/tag/v3.0.0. Use :func:`~optuna.trial.Trial.suggest_float` instead.\n",
            "  'alpha': trial.suggest_loguniform('alpha', 1e-3, 10.0),\n",
            "c:\\Users\\ibola\\anaconda3\\lib\\site-packages\\xgboost\\sklearn.py:1224: UserWarning: The use of label encoder in XGBClassifier is deprecated and will be removed in a future release. To remove this warning, do the following: 1) Pass option use_label_encoder=False when constructing XGBClassifier object; and 2) Encode your labels (y) as integers starting with 0, i.e. 0, 1, 2, ..., [num_class - 1].\n",
            "  warnings.warn(label_encoder_deprecation_msg, UserWarning)\n",
            "c:\\Users\\ibola\\anaconda3\\lib\\site-packages\\xgboost\\data.py:250: FutureWarning: pandas.Int64Index is deprecated and will be removed from pandas in a future version. Use pandas.Index with the appropriate dtype instead.\n",
            "  elif isinstance(data.columns, (pd.Int64Index, pd.RangeIndex)):\n"
          ]
        },
        {
          "name": "stdout",
          "output_type": "stream",
          "text": [
            "[18:15:58] WARNING: C:\\Windows\\Temp\\abs_557yfx631l\\croots\\recipe\\xgboost-split_1659548953302\\work\\src\\learner.cc:576: \n",
            "Parameters: { \"silent\" } might not be used.\n",
            "\n",
            "  This could be a false alarm, with some parameters getting used by language bindings but\n",
            "  then being mistakenly passed down to XGBoost core, or some parameter actually being used\n",
            "  but getting flagged wrongly here. Please open an issue if you find any such cases.\n",
            "\n",
            "\n",
            "[18:15:58] WARNING: C:\\Windows\\Temp\\abs_557yfx631l\\croots\\recipe\\xgboost-split_1659548953302\\work\\src\\learner.cc:1115: Starting in XGBoost 1.3.0, the default evaluation metric used with the objective 'binary:logistic' was changed from 'error' to 'logloss'. Explicitly set eval_metric if you'd like to restore the old behavior.\n"
          ]
        },
        {
          "name": "stderr",
          "output_type": "stream",
          "text": [
            "\u001b[32m[I 2022-10-15 18:16:37,427]\u001b[0m Trial 24 finished with value: 14.65540588236115 and parameters: {'lambda': 0.05084565646153446, 'alpha': 0.006500894560534061, 'colsample_bytree': 0.9, 'subsample': 1.0, 'learning_rate': 0.008, 'max_depth': 5, 'random_state': 2020, 'min_child_weight': 102}. Best is trial 19 with value: 14.65540588236115.\u001b[0m\n",
            "C:\\Users\\ibola\\AppData\\Local\\Temp\\ipykernel_5576\\41865496.py:10: FutureWarning: suggest_loguniform has been deprecated in v3.0.0. This feature will be removed in v6.0.0. See https://github.com/optuna/optuna/releases/tag/v3.0.0. Use :func:`~optuna.trial.Trial.suggest_float` instead.\n",
            "  'lambda': trial.suggest_loguniform('lambda', 1e-3, 10.0),\n",
            "C:\\Users\\ibola\\AppData\\Local\\Temp\\ipykernel_5576\\41865496.py:11: FutureWarning: suggest_loguniform has been deprecated in v3.0.0. This feature will be removed in v6.0.0. See https://github.com/optuna/optuna/releases/tag/v3.0.0. Use :func:`~optuna.trial.Trial.suggest_float` instead.\n",
            "  'alpha': trial.suggest_loguniform('alpha', 1e-3, 10.0),\n",
            "c:\\Users\\ibola\\anaconda3\\lib\\site-packages\\xgboost\\sklearn.py:1224: UserWarning: The use of label encoder in XGBClassifier is deprecated and will be removed in a future release. To remove this warning, do the following: 1) Pass option use_label_encoder=False when constructing XGBClassifier object; and 2) Encode your labels (y) as integers starting with 0, i.e. 0, 1, 2, ..., [num_class - 1].\n",
            "  warnings.warn(label_encoder_deprecation_msg, UserWarning)\n",
            "c:\\Users\\ibola\\anaconda3\\lib\\site-packages\\xgboost\\data.py:250: FutureWarning: pandas.Int64Index is deprecated and will be removed from pandas in a future version. Use pandas.Index with the appropriate dtype instead.\n",
            "  elif isinstance(data.columns, (pd.Int64Index, pd.RangeIndex)):\n"
          ]
        },
        {
          "name": "stdout",
          "output_type": "stream",
          "text": [
            "[18:16:37] WARNING: C:\\Windows\\Temp\\abs_557yfx631l\\croots\\recipe\\xgboost-split_1659548953302\\work\\src\\learner.cc:576: \n",
            "Parameters: { \"silent\" } might not be used.\n",
            "\n",
            "  This could be a false alarm, with some parameters getting used by language bindings but\n",
            "  then being mistakenly passed down to XGBoost core, or some parameter actually being used\n",
            "  but getting flagged wrongly here. Please open an issue if you find any such cases.\n",
            "\n",
            "\n",
            "[18:16:37] WARNING: C:\\Windows\\Temp\\abs_557yfx631l\\croots\\recipe\\xgboost-split_1659548953302\\work\\src\\learner.cc:1115: Starting in XGBoost 1.3.0, the default evaluation metric used with the objective 'binary:logistic' was changed from 'error' to 'logloss'. Explicitly set eval_metric if you'd like to restore the old behavior.\n"
          ]
        },
        {
          "name": "stderr",
          "output_type": "stream",
          "text": [
            "\u001b[32m[I 2022-10-15 18:17:17,739]\u001b[0m Trial 25 finished with value: 14.657598820544953 and parameters: {'lambda': 0.05623295108681851, 'alpha': 0.05198234936679504, 'colsample_bytree': 0.9, 'subsample': 1.0, 'learning_rate': 0.008, 'max_depth': 5, 'random_state': 2020, 'min_child_weight': 94}. Best is trial 19 with value: 14.65540588236115.\u001b[0m\n",
            "C:\\Users\\ibola\\AppData\\Local\\Temp\\ipykernel_5576\\41865496.py:10: FutureWarning: suggest_loguniform has been deprecated in v3.0.0. This feature will be removed in v6.0.0. See https://github.com/optuna/optuna/releases/tag/v3.0.0. Use :func:`~optuna.trial.Trial.suggest_float` instead.\n",
            "  'lambda': trial.suggest_loguniform('lambda', 1e-3, 10.0),\n",
            "C:\\Users\\ibola\\AppData\\Local\\Temp\\ipykernel_5576\\41865496.py:11: FutureWarning: suggest_loguniform has been deprecated in v3.0.0. This feature will be removed in v6.0.0. See https://github.com/optuna/optuna/releases/tag/v3.0.0. Use :func:`~optuna.trial.Trial.suggest_float` instead.\n",
            "  'alpha': trial.suggest_loguniform('alpha', 1e-3, 10.0),\n",
            "c:\\Users\\ibola\\anaconda3\\lib\\site-packages\\xgboost\\sklearn.py:1224: UserWarning: The use of label encoder in XGBClassifier is deprecated and will be removed in a future release. To remove this warning, do the following: 1) Pass option use_label_encoder=False when constructing XGBClassifier object; and 2) Encode your labels (y) as integers starting with 0, i.e. 0, 1, 2, ..., [num_class - 1].\n",
            "  warnings.warn(label_encoder_deprecation_msg, UserWarning)\n",
            "c:\\Users\\ibola\\anaconda3\\lib\\site-packages\\xgboost\\data.py:250: FutureWarning: pandas.Int64Index is deprecated and will be removed from pandas in a future version. Use pandas.Index with the appropriate dtype instead.\n",
            "  elif isinstance(data.columns, (pd.Int64Index, pd.RangeIndex)):\n"
          ]
        },
        {
          "name": "stdout",
          "output_type": "stream",
          "text": [
            "[18:17:18] WARNING: C:\\Windows\\Temp\\abs_557yfx631l\\croots\\recipe\\xgboost-split_1659548953302\\work\\src\\learner.cc:576: \n",
            "Parameters: { \"silent\" } might not be used.\n",
            "\n",
            "  This could be a false alarm, with some parameters getting used by language bindings but\n",
            "  then being mistakenly passed down to XGBoost core, or some parameter actually being used\n",
            "  but getting flagged wrongly here. Please open an issue if you find any such cases.\n",
            "\n",
            "\n",
            "[18:17:18] WARNING: C:\\Windows\\Temp\\abs_557yfx631l\\croots\\recipe\\xgboost-split_1659548953302\\work\\src\\learner.cc:1115: Starting in XGBoost 1.3.0, the default evaluation metric used with the objective 'binary:logistic' was changed from 'error' to 'logloss'. Explicitly set eval_metric if you'd like to restore the old behavior.\n"
          ]
        },
        {
          "name": "stderr",
          "output_type": "stream",
          "text": [
            "\u001b[32m[I 2022-10-15 18:17:42,076]\u001b[0m Trial 26 finished with value: 14.65540588236115 and parameters: {'lambda': 0.0010744458564293411, 'alpha': 0.0034647474092885577, 'colsample_bytree': 0.7, 'subsample': 1.0, 'learning_rate': 0.018, 'max_depth': 7, 'random_state': 2020, 'min_child_weight': 126}. Best is trial 19 with value: 14.65540588236115.\u001b[0m\n",
            "C:\\Users\\ibola\\AppData\\Local\\Temp\\ipykernel_5576\\41865496.py:10: FutureWarning: suggest_loguniform has been deprecated in v3.0.0. This feature will be removed in v6.0.0. See https://github.com/optuna/optuna/releases/tag/v3.0.0. Use :func:`~optuna.trial.Trial.suggest_float` instead.\n",
            "  'lambda': trial.suggest_loguniform('lambda', 1e-3, 10.0),\n",
            "C:\\Users\\ibola\\AppData\\Local\\Temp\\ipykernel_5576\\41865496.py:11: FutureWarning: suggest_loguniform has been deprecated in v3.0.0. This feature will be removed in v6.0.0. See https://github.com/optuna/optuna/releases/tag/v3.0.0. Use :func:`~optuna.trial.Trial.suggest_float` instead.\n",
            "  'alpha': trial.suggest_loguniform('alpha', 1e-3, 10.0),\n",
            "c:\\Users\\ibola\\anaconda3\\lib\\site-packages\\xgboost\\sklearn.py:1224: UserWarning: The use of label encoder in XGBClassifier is deprecated and will be removed in a future release. To remove this warning, do the following: 1) Pass option use_label_encoder=False when constructing XGBClassifier object; and 2) Encode your labels (y) as integers starting with 0, i.e. 0, 1, 2, ..., [num_class - 1].\n",
            "  warnings.warn(label_encoder_deprecation_msg, UserWarning)\n",
            "c:\\Users\\ibola\\anaconda3\\lib\\site-packages\\xgboost\\data.py:250: FutureWarning: pandas.Int64Index is deprecated and will be removed from pandas in a future version. Use pandas.Index with the appropriate dtype instead.\n",
            "  elif isinstance(data.columns, (pd.Int64Index, pd.RangeIndex)):\n"
          ]
        },
        {
          "name": "stdout",
          "output_type": "stream",
          "text": [
            "[18:17:42] WARNING: C:\\Windows\\Temp\\abs_557yfx631l\\croots\\recipe\\xgboost-split_1659548953302\\work\\src\\learner.cc:576: \n",
            "Parameters: { \"silent\" } might not be used.\n",
            "\n",
            "  This could be a false alarm, with some parameters getting used by language bindings but\n",
            "  then being mistakenly passed down to XGBoost core, or some parameter actually being used\n",
            "  but getting flagged wrongly here. Please open an issue if you find any such cases.\n",
            "\n",
            "\n",
            "[18:17:42] WARNING: C:\\Windows\\Temp\\abs_557yfx631l\\croots\\recipe\\xgboost-split_1659548953302\\work\\src\\learner.cc:1115: Starting in XGBoost 1.3.0, the default evaluation metric used with the objective 'binary:logistic' was changed from 'error' to 'logloss'. Explicitly set eval_metric if you'd like to restore the old behavior.\n"
          ]
        },
        {
          "name": "stderr",
          "output_type": "stream",
          "text": [
            "\u001b[32m[I 2022-10-15 18:18:20,295]\u001b[0m Trial 27 finished with value: 14.653212944177346 and parameters: {'lambda': 0.09630183514147887, 'alpha': 0.0036670421329471573, 'colsample_bytree': 0.7, 'subsample': 1.0, 'learning_rate': 0.018, 'max_depth': 9, 'random_state': 2020, 'min_child_weight': 136}. Best is trial 27 with value: 14.653212944177346.\u001b[0m\n",
            "C:\\Users\\ibola\\AppData\\Local\\Temp\\ipykernel_5576\\41865496.py:10: FutureWarning: suggest_loguniform has been deprecated in v3.0.0. This feature will be removed in v6.0.0. See https://github.com/optuna/optuna/releases/tag/v3.0.0. Use :func:`~optuna.trial.Trial.suggest_float` instead.\n",
            "  'lambda': trial.suggest_loguniform('lambda', 1e-3, 10.0),\n",
            "C:\\Users\\ibola\\AppData\\Local\\Temp\\ipykernel_5576\\41865496.py:11: FutureWarning: suggest_loguniform has been deprecated in v3.0.0. This feature will be removed in v6.0.0. See https://github.com/optuna/optuna/releases/tag/v3.0.0. Use :func:`~optuna.trial.Trial.suggest_float` instead.\n",
            "  'alpha': trial.suggest_loguniform('alpha', 1e-3, 10.0),\n",
            "c:\\Users\\ibola\\anaconda3\\lib\\site-packages\\xgboost\\sklearn.py:1224: UserWarning: The use of label encoder in XGBClassifier is deprecated and will be removed in a future release. To remove this warning, do the following: 1) Pass option use_label_encoder=False when constructing XGBClassifier object; and 2) Encode your labels (y) as integers starting with 0, i.e. 0, 1, 2, ..., [num_class - 1].\n",
            "  warnings.warn(label_encoder_deprecation_msg, UserWarning)\n",
            "c:\\Users\\ibola\\anaconda3\\lib\\site-packages\\xgboost\\data.py:250: FutureWarning: pandas.Int64Index is deprecated and will be removed from pandas in a future version. Use pandas.Index with the appropriate dtype instead.\n",
            "  elif isinstance(data.columns, (pd.Int64Index, pd.RangeIndex)):\n"
          ]
        },
        {
          "name": "stdout",
          "output_type": "stream",
          "text": [
            "[18:18:20] WARNING: C:\\Windows\\Temp\\abs_557yfx631l\\croots\\recipe\\xgboost-split_1659548953302\\work\\src\\learner.cc:576: \n",
            "Parameters: { \"silent\" } might not be used.\n",
            "\n",
            "  This could be a false alarm, with some parameters getting used by language bindings but\n",
            "  then being mistakenly passed down to XGBoost core, or some parameter actually being used\n",
            "  but getting flagged wrongly here. Please open an issue if you find any such cases.\n",
            "\n",
            "\n",
            "[18:18:20] WARNING: C:\\Windows\\Temp\\abs_557yfx631l\\croots\\recipe\\xgboost-split_1659548953302\\work\\src\\learner.cc:1115: Starting in XGBoost 1.3.0, the default evaluation metric used with the objective 'binary:logistic' was changed from 'error' to 'logloss'. Explicitly set eval_metric if you'd like to restore the old behavior.\n"
          ]
        },
        {
          "name": "stderr",
          "output_type": "stream",
          "text": [
            "\u001b[32m[I 2022-10-15 18:18:50,323]\u001b[0m Trial 28 finished with value: 14.65540588236115 and parameters: {'lambda': 0.08700237211719201, 'alpha': 0.005150766436414884, 'colsample_bytree': 0.9, 'subsample': 1.0, 'learning_rate': 0.018, 'max_depth': 9, 'random_state': 2020, 'min_child_weight': 96}. Best is trial 27 with value: 14.653212944177346.\u001b[0m\n",
            "C:\\Users\\ibola\\AppData\\Local\\Temp\\ipykernel_5576\\41865496.py:10: FutureWarning: suggest_loguniform has been deprecated in v3.0.0. This feature will be removed in v6.0.0. See https://github.com/optuna/optuna/releases/tag/v3.0.0. Use :func:`~optuna.trial.Trial.suggest_float` instead.\n",
            "  'lambda': trial.suggest_loguniform('lambda', 1e-3, 10.0),\n",
            "C:\\Users\\ibola\\AppData\\Local\\Temp\\ipykernel_5576\\41865496.py:11: FutureWarning: suggest_loguniform has been deprecated in v3.0.0. This feature will be removed in v6.0.0. See https://github.com/optuna/optuna/releases/tag/v3.0.0. Use :func:`~optuna.trial.Trial.suggest_float` instead.\n",
            "  'alpha': trial.suggest_loguniform('alpha', 1e-3, 10.0),\n",
            "c:\\Users\\ibola\\anaconda3\\lib\\site-packages\\xgboost\\sklearn.py:1224: UserWarning: The use of label encoder in XGBClassifier is deprecated and will be removed in a future release. To remove this warning, do the following: 1) Pass option use_label_encoder=False when constructing XGBClassifier object; and 2) Encode your labels (y) as integers starting with 0, i.e. 0, 1, 2, ..., [num_class - 1].\n",
            "  warnings.warn(label_encoder_deprecation_msg, UserWarning)\n",
            "c:\\Users\\ibola\\anaconda3\\lib\\site-packages\\xgboost\\data.py:250: FutureWarning: pandas.Int64Index is deprecated and will be removed from pandas in a future version. Use pandas.Index with the appropriate dtype instead.\n",
            "  elif isinstance(data.columns, (pd.Int64Index, pd.RangeIndex)):\n"
          ]
        },
        {
          "name": "stdout",
          "output_type": "stream",
          "text": [
            "[18:18:50] WARNING: C:\\Windows\\Temp\\abs_557yfx631l\\croots\\recipe\\xgboost-split_1659548953302\\work\\src\\learner.cc:576: \n",
            "Parameters: { \"silent\" } might not be used.\n",
            "\n",
            "  This could be a false alarm, with some parameters getting used by language bindings but\n",
            "  then being mistakenly passed down to XGBoost core, or some parameter actually being used\n",
            "  but getting flagged wrongly here. Please open an issue if you find any such cases.\n",
            "\n",
            "\n",
            "[18:18:50] WARNING: C:\\Windows\\Temp\\abs_557yfx631l\\croots\\recipe\\xgboost-split_1659548953302\\work\\src\\learner.cc:1115: Starting in XGBoost 1.3.0, the default evaluation metric used with the objective 'binary:logistic' was changed from 'error' to 'logloss'. Explicitly set eval_metric if you'd like to restore the old behavior.\n"
          ]
        },
        {
          "name": "stderr",
          "output_type": "stream",
          "text": [
            "\u001b[32m[I 2022-10-15 18:19:19,010]\u001b[0m Trial 29 finished with value: 14.657598820544953 and parameters: {'lambda': 0.12054422114936367, 'alpha': 0.003039519600787159, 'colsample_bytree': 0.7, 'subsample': 1.0, 'learning_rate': 0.018, 'max_depth': 9, 'random_state': 2020, 'min_child_weight': 138}. Best is trial 27 with value: 14.653212944177346.\u001b[0m\n"
          ]
        },
        {
          "name": "stdout",
          "output_type": "stream",
          "text": [
            "Number of finished trials: 30\n",
            "Best trial: {'lambda': 0.09630183514147887, 'alpha': 0.0036670421329471573, 'colsample_bytree': 0.7, 'subsample': 1.0, 'learning_rate': 0.018, 'max_depth': 9, 'random_state': 2020, 'min_child_weight': 136}\n"
          ]
        }
      ],
      "source": [
        "study = optuna.create_study(direction='minimize')\n",
        "study.optimize(objective, n_trials=30)\n",
        "print('Number of finished trials:', len(study.trials))\n",
        "print('Best trial:', study.best_trial.params)"
      ]
    },
    {
      "cell_type": "code",
      "execution_count": null,
      "metadata": {
        "id": "ThM2iOj9FY5Y",
        "outputId": "686ac50b-f556-4a83-c0d0-af8d98388ec5"
      },
      "outputs": [
        {
          "data": {
            "application/vnd.plotly.v1+json": {
              "config": {
                "plotlyServerURL": "https://plot.ly"
              },
              "data": [
                {
                  "mode": "markers",
                  "name": "Objective Value",
                  "type": "scatter",
                  "x": [
                    0,
                    1,
                    2,
                    3,
                    4,
                    5,
                    6,
                    7,
                    8,
                    9,
                    10,
                    11,
                    12,
                    13,
                    14,
                    15,
                    16,
                    17,
                    18,
                    19,
                    20,
                    21,
                    22,
                    23,
                    24,
                    25,
                    26,
                    27,
                    28,
                    29
                  ],
                  "y": [
                    14.65759922668968,
                    14.657598820544953,
                    14.657598820544953,
                    14.659791809496847,
                    14.664177787400636,
                    14.657598820544953,
                    14.668565796028057,
                    14.657598820544953,
                    14.657598820544953,
                    14.657598820544953,
                    14.657598820544953,
                    14.657598820544953,
                    14.657598820544953,
                    14.657598820544953,
                    14.657598820544953,
                    14.657598820544953,
                    14.657598820544953,
                    14.657598820544953,
                    14.657598820544953,
                    14.65540588236115,
                    14.681722917449973,
                    14.657598820544953,
                    14.657598820544953,
                    14.657598820544953,
                    14.65540588236115,
                    14.657598820544953,
                    14.65540588236115,
                    14.653212944177346,
                    14.65540588236115,
                    14.657598820544953
                  ]
                },
                {
                  "name": "Best Value",
                  "type": "scatter",
                  "x": [
                    0,
                    1,
                    2,
                    3,
                    4,
                    5,
                    6,
                    7,
                    8,
                    9,
                    10,
                    11,
                    12,
                    13,
                    14,
                    15,
                    16,
                    17,
                    18,
                    19,
                    20,
                    21,
                    22,
                    23,
                    24,
                    25,
                    26,
                    27,
                    28,
                    29
                  ],
                  "y": [
                    14.65759922668968,
                    14.657598820544953,
                    14.657598820544953,
                    14.657598820544953,
                    14.657598820544953,
                    14.657598820544953,
                    14.657598820544953,
                    14.657598820544953,
                    14.657598820544953,
                    14.657598820544953,
                    14.657598820544953,
                    14.657598820544953,
                    14.657598820544953,
                    14.657598820544953,
                    14.657598820544953,
                    14.657598820544953,
                    14.657598820544953,
                    14.657598820544953,
                    14.657598820544953,
                    14.65540588236115,
                    14.65540588236115,
                    14.65540588236115,
                    14.65540588236115,
                    14.65540588236115,
                    14.65540588236115,
                    14.65540588236115,
                    14.65540588236115,
                    14.653212944177346,
                    14.653212944177346,
                    14.653212944177346
                  ]
                }
              ],
              "layout": {
                "template": {
                  "data": {
                    "bar": [
                      {
                        "error_x": {
                          "color": "#2a3f5f"
                        },
                        "error_y": {
                          "color": "#2a3f5f"
                        },
                        "marker": {
                          "line": {
                            "color": "#E5ECF6",
                            "width": 0.5
                          },
                          "pattern": {
                            "fillmode": "overlay",
                            "size": 10,
                            "solidity": 0.2
                          }
                        },
                        "type": "bar"
                      }
                    ],
                    "barpolar": [
                      {
                        "marker": {
                          "line": {
                            "color": "#E5ECF6",
                            "width": 0.5
                          },
                          "pattern": {
                            "fillmode": "overlay",
                            "size": 10,
                            "solidity": 0.2
                          }
                        },
                        "type": "barpolar"
                      }
                    ],
                    "carpet": [
                      {
                        "aaxis": {
                          "endlinecolor": "#2a3f5f",
                          "gridcolor": "white",
                          "linecolor": "white",
                          "minorgridcolor": "white",
                          "startlinecolor": "#2a3f5f"
                        },
                        "baxis": {
                          "endlinecolor": "#2a3f5f",
                          "gridcolor": "white",
                          "linecolor": "white",
                          "minorgridcolor": "white",
                          "startlinecolor": "#2a3f5f"
                        },
                        "type": "carpet"
                      }
                    ],
                    "choropleth": [
                      {
                        "colorbar": {
                          "outlinewidth": 0,
                          "ticks": ""
                        },
                        "type": "choropleth"
                      }
                    ],
                    "contour": [
                      {
                        "colorbar": {
                          "outlinewidth": 0,
                          "ticks": ""
                        },
                        "colorscale": [
                          [
                            0,
                            "#0d0887"
                          ],
                          [
                            0.1111111111111111,
                            "#46039f"
                          ],
                          [
                            0.2222222222222222,
                            "#7201a8"
                          ],
                          [
                            0.3333333333333333,
                            "#9c179e"
                          ],
                          [
                            0.4444444444444444,
                            "#bd3786"
                          ],
                          [
                            0.5555555555555556,
                            "#d8576b"
                          ],
                          [
                            0.6666666666666666,
                            "#ed7953"
                          ],
                          [
                            0.7777777777777778,
                            "#fb9f3a"
                          ],
                          [
                            0.8888888888888888,
                            "#fdca26"
                          ],
                          [
                            1,
                            "#f0f921"
                          ]
                        ],
                        "type": "contour"
                      }
                    ],
                    "contourcarpet": [
                      {
                        "colorbar": {
                          "outlinewidth": 0,
                          "ticks": ""
                        },
                        "type": "contourcarpet"
                      }
                    ],
                    "heatmap": [
                      {
                        "colorbar": {
                          "outlinewidth": 0,
                          "ticks": ""
                        },
                        "colorscale": [
                          [
                            0,
                            "#0d0887"
                          ],
                          [
                            0.1111111111111111,
                            "#46039f"
                          ],
                          [
                            0.2222222222222222,
                            "#7201a8"
                          ],
                          [
                            0.3333333333333333,
                            "#9c179e"
                          ],
                          [
                            0.4444444444444444,
                            "#bd3786"
                          ],
                          [
                            0.5555555555555556,
                            "#d8576b"
                          ],
                          [
                            0.6666666666666666,
                            "#ed7953"
                          ],
                          [
                            0.7777777777777778,
                            "#fb9f3a"
                          ],
                          [
                            0.8888888888888888,
                            "#fdca26"
                          ],
                          [
                            1,
                            "#f0f921"
                          ]
                        ],
                        "type": "heatmap"
                      }
                    ],
                    "heatmapgl": [
                      {
                        "colorbar": {
                          "outlinewidth": 0,
                          "ticks": ""
                        },
                        "colorscale": [
                          [
                            0,
                            "#0d0887"
                          ],
                          [
                            0.1111111111111111,
                            "#46039f"
                          ],
                          [
                            0.2222222222222222,
                            "#7201a8"
                          ],
                          [
                            0.3333333333333333,
                            "#9c179e"
                          ],
                          [
                            0.4444444444444444,
                            "#bd3786"
                          ],
                          [
                            0.5555555555555556,
                            "#d8576b"
                          ],
                          [
                            0.6666666666666666,
                            "#ed7953"
                          ],
                          [
                            0.7777777777777778,
                            "#fb9f3a"
                          ],
                          [
                            0.8888888888888888,
                            "#fdca26"
                          ],
                          [
                            1,
                            "#f0f921"
                          ]
                        ],
                        "type": "heatmapgl"
                      }
                    ],
                    "histogram": [
                      {
                        "marker": {
                          "pattern": {
                            "fillmode": "overlay",
                            "size": 10,
                            "solidity": 0.2
                          }
                        },
                        "type": "histogram"
                      }
                    ],
                    "histogram2d": [
                      {
                        "colorbar": {
                          "outlinewidth": 0,
                          "ticks": ""
                        },
                        "colorscale": [
                          [
                            0,
                            "#0d0887"
                          ],
                          [
                            0.1111111111111111,
                            "#46039f"
                          ],
                          [
                            0.2222222222222222,
                            "#7201a8"
                          ],
                          [
                            0.3333333333333333,
                            "#9c179e"
                          ],
                          [
                            0.4444444444444444,
                            "#bd3786"
                          ],
                          [
                            0.5555555555555556,
                            "#d8576b"
                          ],
                          [
                            0.6666666666666666,
                            "#ed7953"
                          ],
                          [
                            0.7777777777777778,
                            "#fb9f3a"
                          ],
                          [
                            0.8888888888888888,
                            "#fdca26"
                          ],
                          [
                            1,
                            "#f0f921"
                          ]
                        ],
                        "type": "histogram2d"
                      }
                    ],
                    "histogram2dcontour": [
                      {
                        "colorbar": {
                          "outlinewidth": 0,
                          "ticks": ""
                        },
                        "colorscale": [
                          [
                            0,
                            "#0d0887"
                          ],
                          [
                            0.1111111111111111,
                            "#46039f"
                          ],
                          [
                            0.2222222222222222,
                            "#7201a8"
                          ],
                          [
                            0.3333333333333333,
                            "#9c179e"
                          ],
                          [
                            0.4444444444444444,
                            "#bd3786"
                          ],
                          [
                            0.5555555555555556,
                            "#d8576b"
                          ],
                          [
                            0.6666666666666666,
                            "#ed7953"
                          ],
                          [
                            0.7777777777777778,
                            "#fb9f3a"
                          ],
                          [
                            0.8888888888888888,
                            "#fdca26"
                          ],
                          [
                            1,
                            "#f0f921"
                          ]
                        ],
                        "type": "histogram2dcontour"
                      }
                    ],
                    "mesh3d": [
                      {
                        "colorbar": {
                          "outlinewidth": 0,
                          "ticks": ""
                        },
                        "type": "mesh3d"
                      }
                    ],
                    "parcoords": [
                      {
                        "line": {
                          "colorbar": {
                            "outlinewidth": 0,
                            "ticks": ""
                          }
                        },
                        "type": "parcoords"
                      }
                    ],
                    "pie": [
                      {
                        "automargin": true,
                        "type": "pie"
                      }
                    ],
                    "scatter": [
                      {
                        "marker": {
                          "colorbar": {
                            "outlinewidth": 0,
                            "ticks": ""
                          }
                        },
                        "type": "scatter"
                      }
                    ],
                    "scatter3d": [
                      {
                        "line": {
                          "colorbar": {
                            "outlinewidth": 0,
                            "ticks": ""
                          }
                        },
                        "marker": {
                          "colorbar": {
                            "outlinewidth": 0,
                            "ticks": ""
                          }
                        },
                        "type": "scatter3d"
                      }
                    ],
                    "scattercarpet": [
                      {
                        "marker": {
                          "colorbar": {
                            "outlinewidth": 0,
                            "ticks": ""
                          }
                        },
                        "type": "scattercarpet"
                      }
                    ],
                    "scattergeo": [
                      {
                        "marker": {
                          "colorbar": {
                            "outlinewidth": 0,
                            "ticks": ""
                          }
                        },
                        "type": "scattergeo"
                      }
                    ],
                    "scattergl": [
                      {
                        "marker": {
                          "colorbar": {
                            "outlinewidth": 0,
                            "ticks": ""
                          }
                        },
                        "type": "scattergl"
                      }
                    ],
                    "scattermapbox": [
                      {
                        "marker": {
                          "colorbar": {
                            "outlinewidth": 0,
                            "ticks": ""
                          }
                        },
                        "type": "scattermapbox"
                      }
                    ],
                    "scatterpolar": [
                      {
                        "marker": {
                          "colorbar": {
                            "outlinewidth": 0,
                            "ticks": ""
                          }
                        },
                        "type": "scatterpolar"
                      }
                    ],
                    "scatterpolargl": [
                      {
                        "marker": {
                          "colorbar": {
                            "outlinewidth": 0,
                            "ticks": ""
                          }
                        },
                        "type": "scatterpolargl"
                      }
                    ],
                    "scatterternary": [
                      {
                        "marker": {
                          "colorbar": {
                            "outlinewidth": 0,
                            "ticks": ""
                          }
                        },
                        "type": "scatterternary"
                      }
                    ],
                    "surface": [
                      {
                        "colorbar": {
                          "outlinewidth": 0,
                          "ticks": ""
                        },
                        "colorscale": [
                          [
                            0,
                            "#0d0887"
                          ],
                          [
                            0.1111111111111111,
                            "#46039f"
                          ],
                          [
                            0.2222222222222222,
                            "#7201a8"
                          ],
                          [
                            0.3333333333333333,
                            "#9c179e"
                          ],
                          [
                            0.4444444444444444,
                            "#bd3786"
                          ],
                          [
                            0.5555555555555556,
                            "#d8576b"
                          ],
                          [
                            0.6666666666666666,
                            "#ed7953"
                          ],
                          [
                            0.7777777777777778,
                            "#fb9f3a"
                          ],
                          [
                            0.8888888888888888,
                            "#fdca26"
                          ],
                          [
                            1,
                            "#f0f921"
                          ]
                        ],
                        "type": "surface"
                      }
                    ],
                    "table": [
                      {
                        "cells": {
                          "fill": {
                            "color": "#EBF0F8"
                          },
                          "line": {
                            "color": "white"
                          }
                        },
                        "header": {
                          "fill": {
                            "color": "#C8D4E3"
                          },
                          "line": {
                            "color": "white"
                          }
                        },
                        "type": "table"
                      }
                    ]
                  },
                  "layout": {
                    "annotationdefaults": {
                      "arrowcolor": "#2a3f5f",
                      "arrowhead": 0,
                      "arrowwidth": 1
                    },
                    "autotypenumbers": "strict",
                    "coloraxis": {
                      "colorbar": {
                        "outlinewidth": 0,
                        "ticks": ""
                      }
                    },
                    "colorscale": {
                      "diverging": [
                        [
                          0,
                          "#8e0152"
                        ],
                        [
                          0.1,
                          "#c51b7d"
                        ],
                        [
                          0.2,
                          "#de77ae"
                        ],
                        [
                          0.3,
                          "#f1b6da"
                        ],
                        [
                          0.4,
                          "#fde0ef"
                        ],
                        [
                          0.5,
                          "#f7f7f7"
                        ],
                        [
                          0.6,
                          "#e6f5d0"
                        ],
                        [
                          0.7,
                          "#b8e186"
                        ],
                        [
                          0.8,
                          "#7fbc41"
                        ],
                        [
                          0.9,
                          "#4d9221"
                        ],
                        [
                          1,
                          "#276419"
                        ]
                      ],
                      "sequential": [
                        [
                          0,
                          "#0d0887"
                        ],
                        [
                          0.1111111111111111,
                          "#46039f"
                        ],
                        [
                          0.2222222222222222,
                          "#7201a8"
                        ],
                        [
                          0.3333333333333333,
                          "#9c179e"
                        ],
                        [
                          0.4444444444444444,
                          "#bd3786"
                        ],
                        [
                          0.5555555555555556,
                          "#d8576b"
                        ],
                        [
                          0.6666666666666666,
                          "#ed7953"
                        ],
                        [
                          0.7777777777777778,
                          "#fb9f3a"
                        ],
                        [
                          0.8888888888888888,
                          "#fdca26"
                        ],
                        [
                          1,
                          "#f0f921"
                        ]
                      ],
                      "sequentialminus": [
                        [
                          0,
                          "#0d0887"
                        ],
                        [
                          0.1111111111111111,
                          "#46039f"
                        ],
                        [
                          0.2222222222222222,
                          "#7201a8"
                        ],
                        [
                          0.3333333333333333,
                          "#9c179e"
                        ],
                        [
                          0.4444444444444444,
                          "#bd3786"
                        ],
                        [
                          0.5555555555555556,
                          "#d8576b"
                        ],
                        [
                          0.6666666666666666,
                          "#ed7953"
                        ],
                        [
                          0.7777777777777778,
                          "#fb9f3a"
                        ],
                        [
                          0.8888888888888888,
                          "#fdca26"
                        ],
                        [
                          1,
                          "#f0f921"
                        ]
                      ]
                    },
                    "colorway": [
                      "#636efa",
                      "#EF553B",
                      "#00cc96",
                      "#ab63fa",
                      "#FFA15A",
                      "#19d3f3",
                      "#FF6692",
                      "#B6E880",
                      "#FF97FF",
                      "#FECB52"
                    ],
                    "font": {
                      "color": "#2a3f5f"
                    },
                    "geo": {
                      "bgcolor": "white",
                      "lakecolor": "white",
                      "landcolor": "#E5ECF6",
                      "showlakes": true,
                      "showland": true,
                      "subunitcolor": "white"
                    },
                    "hoverlabel": {
                      "align": "left"
                    },
                    "hovermode": "closest",
                    "mapbox": {
                      "style": "light"
                    },
                    "paper_bgcolor": "white",
                    "plot_bgcolor": "#E5ECF6",
                    "polar": {
                      "angularaxis": {
                        "gridcolor": "white",
                        "linecolor": "white",
                        "ticks": ""
                      },
                      "bgcolor": "#E5ECF6",
                      "radialaxis": {
                        "gridcolor": "white",
                        "linecolor": "white",
                        "ticks": ""
                      }
                    },
                    "scene": {
                      "xaxis": {
                        "backgroundcolor": "#E5ECF6",
                        "gridcolor": "white",
                        "gridwidth": 2,
                        "linecolor": "white",
                        "showbackground": true,
                        "ticks": "",
                        "zerolinecolor": "white"
                      },
                      "yaxis": {
                        "backgroundcolor": "#E5ECF6",
                        "gridcolor": "white",
                        "gridwidth": 2,
                        "linecolor": "white",
                        "showbackground": true,
                        "ticks": "",
                        "zerolinecolor": "white"
                      },
                      "zaxis": {
                        "backgroundcolor": "#E5ECF6",
                        "gridcolor": "white",
                        "gridwidth": 2,
                        "linecolor": "white",
                        "showbackground": true,
                        "ticks": "",
                        "zerolinecolor": "white"
                      }
                    },
                    "shapedefaults": {
                      "line": {
                        "color": "#2a3f5f"
                      }
                    },
                    "ternary": {
                      "aaxis": {
                        "gridcolor": "white",
                        "linecolor": "white",
                        "ticks": ""
                      },
                      "baxis": {
                        "gridcolor": "white",
                        "linecolor": "white",
                        "ticks": ""
                      },
                      "bgcolor": "#E5ECF6",
                      "caxis": {
                        "gridcolor": "white",
                        "linecolor": "white",
                        "ticks": ""
                      }
                    },
                    "title": {
                      "x": 0.05
                    },
                    "xaxis": {
                      "automargin": true,
                      "gridcolor": "white",
                      "linecolor": "white",
                      "ticks": "",
                      "title": {
                        "standoff": 15
                      },
                      "zerolinecolor": "white",
                      "zerolinewidth": 2
                    },
                    "yaxis": {
                      "automargin": true,
                      "gridcolor": "white",
                      "linecolor": "white",
                      "ticks": "",
                      "title": {
                        "standoff": 15
                      },
                      "zerolinecolor": "white",
                      "zerolinewidth": 2
                    }
                  }
                },
                "title": {
                  "text": "Optimization History Plot"
                },
                "xaxis": {
                  "title": {
                    "text": "Trial"
                  }
                },
                "yaxis": {
                  "title": {
                    "text": "Objective Value"
                  }
                }
              }
            }
          },
          "metadata": {},
          "output_type": "display_data"
        }
      ],
      "source": [
        "#plot_optimization_histor: shows the scores from all trials as well as the best score so far at each point.\n",
        "optuna.visualization.plot_optimization_history(study)"
      ]
    },
    {
      "cell_type": "code",
      "execution_count": null,
      "metadata": {
        "id": "kjmP8eyMFY5Y",
        "outputId": "b8776e6e-1a10-45be-fd6f-e520f0c934fd"
      },
      "outputs": [
        {
          "data": {
            "application/vnd.plotly.v1+json": {
              "config": {
                "plotlyServerURL": "https://plot.ly"
              },
              "data": [
                {
                  "dimensions": [
                    {
                      "label": "Objective Value",
                      "range": [
                        14.653212944177346,
                        14.681722917449973
                      ],
                      "values": [
                        14.657598820544953,
                        14.657598820544953,
                        14.657598820544953,
                        14.657598820544953,
                        14.659791809496847,
                        14.657598820544953,
                        14.657598820544953,
                        14.657598820544953,
                        14.657598820544953,
                        14.657598820544953,
                        14.657598820544953,
                        14.657598820544953,
                        14.65540588236115,
                        14.681722917449973,
                        14.65540588236115,
                        14.653212944177346,
                        14.657598820544953,
                        14.657598820544953,
                        14.65759922668968,
                        14.664177787400636,
                        14.668565796028057,
                        14.65540588236115,
                        14.657598820544953,
                        14.657598820544953,
                        14.65540588236115,
                        14.657598820544953,
                        14.657598820544953,
                        14.657598820544953,
                        14.657598820544953,
                        14.657598820544953
                      ]
                    },
                    {
                      "label": "alpha",
                      "range": [
                        -2.9823150271491006,
                        0.9547646498681243
                      ],
                      "ticktext": [
                        "0.00104",
                        "0.01",
                        "0.1",
                        "1",
                        "9.01"
                      ],
                      "tickvals": [
                        -2.9823150271491006,
                        -2,
                        -1,
                        0,
                        0.9547646498681243
                      ],
                      "values": [
                        0.9547646498681243,
                        -1.9743379993083665,
                        -0.7144774193238065,
                        -0.8593475105161614,
                        -0.6271698373365965,
                        -1.4112285377836675,
                        -1.130703409173797,
                        -2.036669913104064,
                        -0.4344236053297518,
                        0.04939205215022405,
                        -2.9383744159791534,
                        -1.5142495228863082,
                        -1.112010621753085,
                        -0.12802729225065912,
                        -2.4603284212977012,
                        -2.4356841001290244,
                        -2.517195051658959,
                        -2.8582613425080576,
                        -2.4399275034792414,
                        -0.9408373190644655,
                        -2.9823150271491006,
                        -2.1870268778229383,
                        -1.284144096247514,
                        0.2639045976031766,
                        -2.2881281429316846,
                        0.6529127153706509,
                        0.919066084452854,
                        -1.8244369044661226,
                        -1.7179596497138612,
                        -2.470585853747837
                      ]
                    },
                    {
                      "label": "colsample_bytree",
                      "range": [
                        0,
                        7
                      ],
                      "ticktext": [
                        "0.3",
                        "0.4",
                        "0.5",
                        "0.6",
                        "0.7",
                        "0.8",
                        "0.9",
                        "1.0"
                      ],
                      "tickvals": [
                        0,
                        1,
                        2,
                        3,
                        4,
                        5,
                        6,
                        7
                      ],
                      "values": [
                        0,
                        0,
                        0,
                        0,
                        1,
                        2,
                        3,
                        3,
                        3,
                        3,
                        4,
                        4,
                        4,
                        4,
                        4,
                        4,
                        4,
                        5,
                        5,
                        5,
                        5,
                        6,
                        6,
                        6,
                        6,
                        7,
                        7,
                        7,
                        7,
                        7
                      ]
                    },
                    {
                      "label": "lambda",
                      "range": [
                        -2.9865913735587832,
                        0.9959415946255489
                      ],
                      "ticktext": [
                        "0.00103",
                        "0.01",
                        "0.1",
                        "1",
                        "9.91"
                      ],
                      "tickvals": [
                        -2.9865913735587832,
                        -2,
                        -1,
                        0,
                        0.9959415946255489
                      ],
                      "values": [
                        -1.8091186612567893,
                        -2.6409194361385606,
                        -2.182995929873821,
                        -2.8001188231589214,
                        -1.3574794672736055,
                        0.27739906742038417,
                        -1.9939469938704004,
                        -1.659214488168134,
                        -2.457309928733052,
                        0.13749313992001622,
                        -2.9865913735587832,
                        -0.7211860208225411,
                        -1.7476363383144766,
                        -0.14157057113990737,
                        -2.968815464627097,
                        -1.0163654368191422,
                        -0.918853604723274,
                        -2.3616169314184283,
                        -0.11428984309616422,
                        -0.45746184448007154,
                        -1.3809189147170373,
                        -1.2937461411750204,
                        -1.250009124260644,
                        0.7122339789773078,
                        -1.0604689061933052,
                        0.8856167418681644,
                        0.9424271610819632,
                        -0.7849628609584934,
                        0.9959415946255489,
                        -2.1845003246425096
                      ]
                    },
                    {
                      "label": "learning_rate",
                      "range": [
                        0,
                        6
                      ],
                      "ticktext": [
                        "0.008",
                        "0.01",
                        "0.012",
                        "0.014",
                        "0.016",
                        "0.018",
                        "0.02"
                      ],
                      "tickvals": [
                        0,
                        1,
                        2,
                        3,
                        4,
                        5,
                        6
                      ],
                      "values": [
                        0,
                        1,
                        2,
                        2,
                        4,
                        1,
                        2,
                        5,
                        6,
                        6,
                        1,
                        3,
                        3,
                        3,
                        5,
                        5,
                        5,
                        1,
                        3,
                        4,
                        6,
                        0,
                        0,
                        1,
                        5,
                        0,
                        0,
                        1,
                        1,
                        2
                      ]
                    },
                    {
                      "label": "max_depth",
                      "range": [
                        0,
                        6
                      ],
                      "ticktext": [
                        "5",
                        "7",
                        "9",
                        "11",
                        "13",
                        "15",
                        "17"
                      ],
                      "tickvals": [
                        0,
                        1,
                        2,
                        3,
                        4,
                        5,
                        6
                      ],
                      "values": [
                        0,
                        1,
                        4,
                        4,
                        6,
                        5,
                        2,
                        4,
                        3,
                        3,
                        1,
                        2,
                        2,
                        2,
                        1,
                        2,
                        2,
                        1,
                        3,
                        5,
                        6,
                        0,
                        0,
                        3,
                        2,
                        0,
                        0,
                        1,
                        3,
                        4
                      ]
                    },
                    {
                      "label": "min_child_weight",
                      "range": [
                        16,
                        297
                      ],
                      "values": [
                        193,
                        223,
                        289,
                        294,
                        53,
                        297,
                        170,
                        260,
                        269,
                        231,
                        137,
                        116,
                        105,
                        16,
                        126,
                        136,
                        138,
                        263,
                        86,
                        71,
                        29,
                        102,
                        94,
                        213,
                        96,
                        181,
                        170,
                        119,
                        159,
                        225
                      ]
                    },
                    {
                      "label": "random_state",
                      "range": [
                        0,
                        0
                      ],
                      "ticktext": [
                        "2020"
                      ],
                      "tickvals": [
                        0
                      ],
                      "values": [
                        0,
                        0,
                        0,
                        0,
                        0,
                        0,
                        0,
                        0,
                        0,
                        0,
                        0,
                        0,
                        0,
                        0,
                        0,
                        0,
                        0,
                        0,
                        0,
                        0,
                        0,
                        0,
                        0,
                        0,
                        0,
                        0,
                        0,
                        0,
                        0,
                        0
                      ]
                    },
                    {
                      "label": "subsample",
                      "range": [
                        0,
                        5
                      ],
                      "ticktext": [
                        "0.4",
                        "0.5",
                        "0.6",
                        "0.7",
                        "0.8",
                        "1.0"
                      ],
                      "tickvals": [
                        0,
                        1,
                        2,
                        3,
                        4,
                        5
                      ],
                      "values": [
                        1,
                        1,
                        1,
                        1,
                        3,
                        3,
                        5,
                        0,
                        4,
                        4,
                        2,
                        2,
                        5,
                        5,
                        5,
                        5,
                        5,
                        4,
                        5,
                        0,
                        4,
                        5,
                        5,
                        2,
                        5,
                        2,
                        2,
                        4,
                        2,
                        1
                      ]
                    }
                  ],
                  "labelangle": 30,
                  "labelside": "bottom",
                  "line": {
                    "color": [
                      14.657598820544953,
                      14.657598820544953,
                      14.657598820544953,
                      14.657598820544953,
                      14.659791809496847,
                      14.657598820544953,
                      14.657598820544953,
                      14.657598820544953,
                      14.657598820544953,
                      14.657598820544953,
                      14.657598820544953,
                      14.657598820544953,
                      14.65540588236115,
                      14.681722917449973,
                      14.65540588236115,
                      14.653212944177346,
                      14.657598820544953,
                      14.657598820544953,
                      14.65759922668968,
                      14.664177787400636,
                      14.668565796028057,
                      14.65540588236115,
                      14.657598820544953,
                      14.657598820544953,
                      14.65540588236115,
                      14.657598820544953,
                      14.657598820544953,
                      14.657598820544953,
                      14.657598820544953,
                      14.657598820544953
                    ],
                    "colorbar": {
                      "title": {
                        "text": "Objective Value"
                      }
                    },
                    "colorscale": [
                      [
                        0,
                        "rgb(247,251,255)"
                      ],
                      [
                        0.125,
                        "rgb(222,235,247)"
                      ],
                      [
                        0.25,
                        "rgb(198,219,239)"
                      ],
                      [
                        0.375,
                        "rgb(158,202,225)"
                      ],
                      [
                        0.5,
                        "rgb(107,174,214)"
                      ],
                      [
                        0.625,
                        "rgb(66,146,198)"
                      ],
                      [
                        0.75,
                        "rgb(33,113,181)"
                      ],
                      [
                        0.875,
                        "rgb(8,81,156)"
                      ],
                      [
                        1,
                        "rgb(8,48,107)"
                      ]
                    ],
                    "reversescale": true,
                    "showscale": true
                  },
                  "type": "parcoords"
                }
              ],
              "layout": {
                "template": {
                  "data": {
                    "bar": [
                      {
                        "error_x": {
                          "color": "#2a3f5f"
                        },
                        "error_y": {
                          "color": "#2a3f5f"
                        },
                        "marker": {
                          "line": {
                            "color": "#E5ECF6",
                            "width": 0.5
                          },
                          "pattern": {
                            "fillmode": "overlay",
                            "size": 10,
                            "solidity": 0.2
                          }
                        },
                        "type": "bar"
                      }
                    ],
                    "barpolar": [
                      {
                        "marker": {
                          "line": {
                            "color": "#E5ECF6",
                            "width": 0.5
                          },
                          "pattern": {
                            "fillmode": "overlay",
                            "size": 10,
                            "solidity": 0.2
                          }
                        },
                        "type": "barpolar"
                      }
                    ],
                    "carpet": [
                      {
                        "aaxis": {
                          "endlinecolor": "#2a3f5f",
                          "gridcolor": "white",
                          "linecolor": "white",
                          "minorgridcolor": "white",
                          "startlinecolor": "#2a3f5f"
                        },
                        "baxis": {
                          "endlinecolor": "#2a3f5f",
                          "gridcolor": "white",
                          "linecolor": "white",
                          "minorgridcolor": "white",
                          "startlinecolor": "#2a3f5f"
                        },
                        "type": "carpet"
                      }
                    ],
                    "choropleth": [
                      {
                        "colorbar": {
                          "outlinewidth": 0,
                          "ticks": ""
                        },
                        "type": "choropleth"
                      }
                    ],
                    "contour": [
                      {
                        "colorbar": {
                          "outlinewidth": 0,
                          "ticks": ""
                        },
                        "colorscale": [
                          [
                            0,
                            "#0d0887"
                          ],
                          [
                            0.1111111111111111,
                            "#46039f"
                          ],
                          [
                            0.2222222222222222,
                            "#7201a8"
                          ],
                          [
                            0.3333333333333333,
                            "#9c179e"
                          ],
                          [
                            0.4444444444444444,
                            "#bd3786"
                          ],
                          [
                            0.5555555555555556,
                            "#d8576b"
                          ],
                          [
                            0.6666666666666666,
                            "#ed7953"
                          ],
                          [
                            0.7777777777777778,
                            "#fb9f3a"
                          ],
                          [
                            0.8888888888888888,
                            "#fdca26"
                          ],
                          [
                            1,
                            "#f0f921"
                          ]
                        ],
                        "type": "contour"
                      }
                    ],
                    "contourcarpet": [
                      {
                        "colorbar": {
                          "outlinewidth": 0,
                          "ticks": ""
                        },
                        "type": "contourcarpet"
                      }
                    ],
                    "heatmap": [
                      {
                        "colorbar": {
                          "outlinewidth": 0,
                          "ticks": ""
                        },
                        "colorscale": [
                          [
                            0,
                            "#0d0887"
                          ],
                          [
                            0.1111111111111111,
                            "#46039f"
                          ],
                          [
                            0.2222222222222222,
                            "#7201a8"
                          ],
                          [
                            0.3333333333333333,
                            "#9c179e"
                          ],
                          [
                            0.4444444444444444,
                            "#bd3786"
                          ],
                          [
                            0.5555555555555556,
                            "#d8576b"
                          ],
                          [
                            0.6666666666666666,
                            "#ed7953"
                          ],
                          [
                            0.7777777777777778,
                            "#fb9f3a"
                          ],
                          [
                            0.8888888888888888,
                            "#fdca26"
                          ],
                          [
                            1,
                            "#f0f921"
                          ]
                        ],
                        "type": "heatmap"
                      }
                    ],
                    "heatmapgl": [
                      {
                        "colorbar": {
                          "outlinewidth": 0,
                          "ticks": ""
                        },
                        "colorscale": [
                          [
                            0,
                            "#0d0887"
                          ],
                          [
                            0.1111111111111111,
                            "#46039f"
                          ],
                          [
                            0.2222222222222222,
                            "#7201a8"
                          ],
                          [
                            0.3333333333333333,
                            "#9c179e"
                          ],
                          [
                            0.4444444444444444,
                            "#bd3786"
                          ],
                          [
                            0.5555555555555556,
                            "#d8576b"
                          ],
                          [
                            0.6666666666666666,
                            "#ed7953"
                          ],
                          [
                            0.7777777777777778,
                            "#fb9f3a"
                          ],
                          [
                            0.8888888888888888,
                            "#fdca26"
                          ],
                          [
                            1,
                            "#f0f921"
                          ]
                        ],
                        "type": "heatmapgl"
                      }
                    ],
                    "histogram": [
                      {
                        "marker": {
                          "pattern": {
                            "fillmode": "overlay",
                            "size": 10,
                            "solidity": 0.2
                          }
                        },
                        "type": "histogram"
                      }
                    ],
                    "histogram2d": [
                      {
                        "colorbar": {
                          "outlinewidth": 0,
                          "ticks": ""
                        },
                        "colorscale": [
                          [
                            0,
                            "#0d0887"
                          ],
                          [
                            0.1111111111111111,
                            "#46039f"
                          ],
                          [
                            0.2222222222222222,
                            "#7201a8"
                          ],
                          [
                            0.3333333333333333,
                            "#9c179e"
                          ],
                          [
                            0.4444444444444444,
                            "#bd3786"
                          ],
                          [
                            0.5555555555555556,
                            "#d8576b"
                          ],
                          [
                            0.6666666666666666,
                            "#ed7953"
                          ],
                          [
                            0.7777777777777778,
                            "#fb9f3a"
                          ],
                          [
                            0.8888888888888888,
                            "#fdca26"
                          ],
                          [
                            1,
                            "#f0f921"
                          ]
                        ],
                        "type": "histogram2d"
                      }
                    ],
                    "histogram2dcontour": [
                      {
                        "colorbar": {
                          "outlinewidth": 0,
                          "ticks": ""
                        },
                        "colorscale": [
                          [
                            0,
                            "#0d0887"
                          ],
                          [
                            0.1111111111111111,
                            "#46039f"
                          ],
                          [
                            0.2222222222222222,
                            "#7201a8"
                          ],
                          [
                            0.3333333333333333,
                            "#9c179e"
                          ],
                          [
                            0.4444444444444444,
                            "#bd3786"
                          ],
                          [
                            0.5555555555555556,
                            "#d8576b"
                          ],
                          [
                            0.6666666666666666,
                            "#ed7953"
                          ],
                          [
                            0.7777777777777778,
                            "#fb9f3a"
                          ],
                          [
                            0.8888888888888888,
                            "#fdca26"
                          ],
                          [
                            1,
                            "#f0f921"
                          ]
                        ],
                        "type": "histogram2dcontour"
                      }
                    ],
                    "mesh3d": [
                      {
                        "colorbar": {
                          "outlinewidth": 0,
                          "ticks": ""
                        },
                        "type": "mesh3d"
                      }
                    ],
                    "parcoords": [
                      {
                        "line": {
                          "colorbar": {
                            "outlinewidth": 0,
                            "ticks": ""
                          }
                        },
                        "type": "parcoords"
                      }
                    ],
                    "pie": [
                      {
                        "automargin": true,
                        "type": "pie"
                      }
                    ],
                    "scatter": [
                      {
                        "marker": {
                          "colorbar": {
                            "outlinewidth": 0,
                            "ticks": ""
                          }
                        },
                        "type": "scatter"
                      }
                    ],
                    "scatter3d": [
                      {
                        "line": {
                          "colorbar": {
                            "outlinewidth": 0,
                            "ticks": ""
                          }
                        },
                        "marker": {
                          "colorbar": {
                            "outlinewidth": 0,
                            "ticks": ""
                          }
                        },
                        "type": "scatter3d"
                      }
                    ],
                    "scattercarpet": [
                      {
                        "marker": {
                          "colorbar": {
                            "outlinewidth": 0,
                            "ticks": ""
                          }
                        },
                        "type": "scattercarpet"
                      }
                    ],
                    "scattergeo": [
                      {
                        "marker": {
                          "colorbar": {
                            "outlinewidth": 0,
                            "ticks": ""
                          }
                        },
                        "type": "scattergeo"
                      }
                    ],
                    "scattergl": [
                      {
                        "marker": {
                          "colorbar": {
                            "outlinewidth": 0,
                            "ticks": ""
                          }
                        },
                        "type": "scattergl"
                      }
                    ],
                    "scattermapbox": [
                      {
                        "marker": {
                          "colorbar": {
                            "outlinewidth": 0,
                            "ticks": ""
                          }
                        },
                        "type": "scattermapbox"
                      }
                    ],
                    "scatterpolar": [
                      {
                        "marker": {
                          "colorbar": {
                            "outlinewidth": 0,
                            "ticks": ""
                          }
                        },
                        "type": "scatterpolar"
                      }
                    ],
                    "scatterpolargl": [
                      {
                        "marker": {
                          "colorbar": {
                            "outlinewidth": 0,
                            "ticks": ""
                          }
                        },
                        "type": "scatterpolargl"
                      }
                    ],
                    "scatterternary": [
                      {
                        "marker": {
                          "colorbar": {
                            "outlinewidth": 0,
                            "ticks": ""
                          }
                        },
                        "type": "scatterternary"
                      }
                    ],
                    "surface": [
                      {
                        "colorbar": {
                          "outlinewidth": 0,
                          "ticks": ""
                        },
                        "colorscale": [
                          [
                            0,
                            "#0d0887"
                          ],
                          [
                            0.1111111111111111,
                            "#46039f"
                          ],
                          [
                            0.2222222222222222,
                            "#7201a8"
                          ],
                          [
                            0.3333333333333333,
                            "#9c179e"
                          ],
                          [
                            0.4444444444444444,
                            "#bd3786"
                          ],
                          [
                            0.5555555555555556,
                            "#d8576b"
                          ],
                          [
                            0.6666666666666666,
                            "#ed7953"
                          ],
                          [
                            0.7777777777777778,
                            "#fb9f3a"
                          ],
                          [
                            0.8888888888888888,
                            "#fdca26"
                          ],
                          [
                            1,
                            "#f0f921"
                          ]
                        ],
                        "type": "surface"
                      }
                    ],
                    "table": [
                      {
                        "cells": {
                          "fill": {
                            "color": "#EBF0F8"
                          },
                          "line": {
                            "color": "white"
                          }
                        },
                        "header": {
                          "fill": {
                            "color": "#C8D4E3"
                          },
                          "line": {
                            "color": "white"
                          }
                        },
                        "type": "table"
                      }
                    ]
                  },
                  "layout": {
                    "annotationdefaults": {
                      "arrowcolor": "#2a3f5f",
                      "arrowhead": 0,
                      "arrowwidth": 1
                    },
                    "autotypenumbers": "strict",
                    "coloraxis": {
                      "colorbar": {
                        "outlinewidth": 0,
                        "ticks": ""
                      }
                    },
                    "colorscale": {
                      "diverging": [
                        [
                          0,
                          "#8e0152"
                        ],
                        [
                          0.1,
                          "#c51b7d"
                        ],
                        [
                          0.2,
                          "#de77ae"
                        ],
                        [
                          0.3,
                          "#f1b6da"
                        ],
                        [
                          0.4,
                          "#fde0ef"
                        ],
                        [
                          0.5,
                          "#f7f7f7"
                        ],
                        [
                          0.6,
                          "#e6f5d0"
                        ],
                        [
                          0.7,
                          "#b8e186"
                        ],
                        [
                          0.8,
                          "#7fbc41"
                        ],
                        [
                          0.9,
                          "#4d9221"
                        ],
                        [
                          1,
                          "#276419"
                        ]
                      ],
                      "sequential": [
                        [
                          0,
                          "#0d0887"
                        ],
                        [
                          0.1111111111111111,
                          "#46039f"
                        ],
                        [
                          0.2222222222222222,
                          "#7201a8"
                        ],
                        [
                          0.3333333333333333,
                          "#9c179e"
                        ],
                        [
                          0.4444444444444444,
                          "#bd3786"
                        ],
                        [
                          0.5555555555555556,
                          "#d8576b"
                        ],
                        [
                          0.6666666666666666,
                          "#ed7953"
                        ],
                        [
                          0.7777777777777778,
                          "#fb9f3a"
                        ],
                        [
                          0.8888888888888888,
                          "#fdca26"
                        ],
                        [
                          1,
                          "#f0f921"
                        ]
                      ],
                      "sequentialminus": [
                        [
                          0,
                          "#0d0887"
                        ],
                        [
                          0.1111111111111111,
                          "#46039f"
                        ],
                        [
                          0.2222222222222222,
                          "#7201a8"
                        ],
                        [
                          0.3333333333333333,
                          "#9c179e"
                        ],
                        [
                          0.4444444444444444,
                          "#bd3786"
                        ],
                        [
                          0.5555555555555556,
                          "#d8576b"
                        ],
                        [
                          0.6666666666666666,
                          "#ed7953"
                        ],
                        [
                          0.7777777777777778,
                          "#fb9f3a"
                        ],
                        [
                          0.8888888888888888,
                          "#fdca26"
                        ],
                        [
                          1,
                          "#f0f921"
                        ]
                      ]
                    },
                    "colorway": [
                      "#636efa",
                      "#EF553B",
                      "#00cc96",
                      "#ab63fa",
                      "#FFA15A",
                      "#19d3f3",
                      "#FF6692",
                      "#B6E880",
                      "#FF97FF",
                      "#FECB52"
                    ],
                    "font": {
                      "color": "#2a3f5f"
                    },
                    "geo": {
                      "bgcolor": "white",
                      "lakecolor": "white",
                      "landcolor": "#E5ECF6",
                      "showlakes": true,
                      "showland": true,
                      "subunitcolor": "white"
                    },
                    "hoverlabel": {
                      "align": "left"
                    },
                    "hovermode": "closest",
                    "mapbox": {
                      "style": "light"
                    },
                    "paper_bgcolor": "white",
                    "plot_bgcolor": "#E5ECF6",
                    "polar": {
                      "angularaxis": {
                        "gridcolor": "white",
                        "linecolor": "white",
                        "ticks": ""
                      },
                      "bgcolor": "#E5ECF6",
                      "radialaxis": {
                        "gridcolor": "white",
                        "linecolor": "white",
                        "ticks": ""
                      }
                    },
                    "scene": {
                      "xaxis": {
                        "backgroundcolor": "#E5ECF6",
                        "gridcolor": "white",
                        "gridwidth": 2,
                        "linecolor": "white",
                        "showbackground": true,
                        "ticks": "",
                        "zerolinecolor": "white"
                      },
                      "yaxis": {
                        "backgroundcolor": "#E5ECF6",
                        "gridcolor": "white",
                        "gridwidth": 2,
                        "linecolor": "white",
                        "showbackground": true,
                        "ticks": "",
                        "zerolinecolor": "white"
                      },
                      "zaxis": {
                        "backgroundcolor": "#E5ECF6",
                        "gridcolor": "white",
                        "gridwidth": 2,
                        "linecolor": "white",
                        "showbackground": true,
                        "ticks": "",
                        "zerolinecolor": "white"
                      }
                    },
                    "shapedefaults": {
                      "line": {
                        "color": "#2a3f5f"
                      }
                    },
                    "ternary": {
                      "aaxis": {
                        "gridcolor": "white",
                        "linecolor": "white",
                        "ticks": ""
                      },
                      "baxis": {
                        "gridcolor": "white",
                        "linecolor": "white",
                        "ticks": ""
                      },
                      "bgcolor": "#E5ECF6",
                      "caxis": {
                        "gridcolor": "white",
                        "linecolor": "white",
                        "ticks": ""
                      }
                    },
                    "title": {
                      "x": 0.05
                    },
                    "xaxis": {
                      "automargin": true,
                      "gridcolor": "white",
                      "linecolor": "white",
                      "ticks": "",
                      "title": {
                        "standoff": 15
                      },
                      "zerolinecolor": "white",
                      "zerolinewidth": 2
                    },
                    "yaxis": {
                      "automargin": true,
                      "gridcolor": "white",
                      "linecolor": "white",
                      "ticks": "",
                      "title": {
                        "standoff": 15
                      },
                      "zerolinecolor": "white",
                      "zerolinewidth": 2
                    }
                  }
                },
                "title": {
                  "text": "Parallel Coordinate Plot"
                }
              }
            }
          },
          "metadata": {},
          "output_type": "display_data"
        }
      ],
      "source": [
        "#plot_parallel_coordinate: interactively visualizes the hyperparameters and scores\n",
        "optuna.visualization.plot_parallel_coordinate(study)"
      ]
    },
    {
      "cell_type": "code",
      "execution_count": null,
      "metadata": {
        "id": "Y-vS_vJeFY5Z",
        "outputId": "5895d5eb-d60f-4f03-b5a4-9726b85e52f1"
      },
      "outputs": [
        {
          "data": {
            "application/vnd.plotly.v1+json": {
              "config": {
                "plotlyServerURL": "https://plot.ly"
              },
              "data": [
                {
                  "cliponaxis": false,
                  "hovertemplate": [
                    "random_state (CategoricalDistribution): 0.0<extra></extra>",
                    "alpha (FloatDistribution): 0.0007145322194535895<extra></extra>",
                    "lambda (FloatDistribution): 0.0009879858433042915<extra></extra>",
                    "subsample (CategoricalDistribution): 0.04487044071953974<extra></extra>",
                    "learning_rate (CategoricalDistribution): 0.07204960623686513<extra></extra>",
                    "colsample_bytree (CategoricalDistribution): 0.07280976704079681<extra></extra>",
                    "max_depth (CategoricalDistribution): 0.07342875008433987<extra></extra>",
                    "min_child_weight (IntDistribution): 0.7351389178557006<extra></extra>"
                  ],
                  "marker": {
                    "color": "rgb(66,146,198)"
                  },
                  "orientation": "h",
                  "text": [
                    "<0.01",
                    "<0.01",
                    "<0.01",
                    "0.04",
                    "0.07",
                    "0.07",
                    "0.07",
                    "0.74"
                  ],
                  "textposition": "outside",
                  "type": "bar",
                  "x": [
                    0,
                    0.0007145322194535895,
                    0.0009879858433042915,
                    0.04487044071953974,
                    0.07204960623686513,
                    0.07280976704079681,
                    0.07342875008433987,
                    0.7351389178557006
                  ],
                  "y": [
                    "random_state",
                    "alpha",
                    "lambda",
                    "subsample",
                    "learning_rate",
                    "colsample_bytree",
                    "max_depth",
                    "min_child_weight"
                  ]
                }
              ],
              "layout": {
                "showlegend": false,
                "template": {
                  "data": {
                    "bar": [
                      {
                        "error_x": {
                          "color": "#2a3f5f"
                        },
                        "error_y": {
                          "color": "#2a3f5f"
                        },
                        "marker": {
                          "line": {
                            "color": "#E5ECF6",
                            "width": 0.5
                          },
                          "pattern": {
                            "fillmode": "overlay",
                            "size": 10,
                            "solidity": 0.2
                          }
                        },
                        "type": "bar"
                      }
                    ],
                    "barpolar": [
                      {
                        "marker": {
                          "line": {
                            "color": "#E5ECF6",
                            "width": 0.5
                          },
                          "pattern": {
                            "fillmode": "overlay",
                            "size": 10,
                            "solidity": 0.2
                          }
                        },
                        "type": "barpolar"
                      }
                    ],
                    "carpet": [
                      {
                        "aaxis": {
                          "endlinecolor": "#2a3f5f",
                          "gridcolor": "white",
                          "linecolor": "white",
                          "minorgridcolor": "white",
                          "startlinecolor": "#2a3f5f"
                        },
                        "baxis": {
                          "endlinecolor": "#2a3f5f",
                          "gridcolor": "white",
                          "linecolor": "white",
                          "minorgridcolor": "white",
                          "startlinecolor": "#2a3f5f"
                        },
                        "type": "carpet"
                      }
                    ],
                    "choropleth": [
                      {
                        "colorbar": {
                          "outlinewidth": 0,
                          "ticks": ""
                        },
                        "type": "choropleth"
                      }
                    ],
                    "contour": [
                      {
                        "colorbar": {
                          "outlinewidth": 0,
                          "ticks": ""
                        },
                        "colorscale": [
                          [
                            0,
                            "#0d0887"
                          ],
                          [
                            0.1111111111111111,
                            "#46039f"
                          ],
                          [
                            0.2222222222222222,
                            "#7201a8"
                          ],
                          [
                            0.3333333333333333,
                            "#9c179e"
                          ],
                          [
                            0.4444444444444444,
                            "#bd3786"
                          ],
                          [
                            0.5555555555555556,
                            "#d8576b"
                          ],
                          [
                            0.6666666666666666,
                            "#ed7953"
                          ],
                          [
                            0.7777777777777778,
                            "#fb9f3a"
                          ],
                          [
                            0.8888888888888888,
                            "#fdca26"
                          ],
                          [
                            1,
                            "#f0f921"
                          ]
                        ],
                        "type": "contour"
                      }
                    ],
                    "contourcarpet": [
                      {
                        "colorbar": {
                          "outlinewidth": 0,
                          "ticks": ""
                        },
                        "type": "contourcarpet"
                      }
                    ],
                    "heatmap": [
                      {
                        "colorbar": {
                          "outlinewidth": 0,
                          "ticks": ""
                        },
                        "colorscale": [
                          [
                            0,
                            "#0d0887"
                          ],
                          [
                            0.1111111111111111,
                            "#46039f"
                          ],
                          [
                            0.2222222222222222,
                            "#7201a8"
                          ],
                          [
                            0.3333333333333333,
                            "#9c179e"
                          ],
                          [
                            0.4444444444444444,
                            "#bd3786"
                          ],
                          [
                            0.5555555555555556,
                            "#d8576b"
                          ],
                          [
                            0.6666666666666666,
                            "#ed7953"
                          ],
                          [
                            0.7777777777777778,
                            "#fb9f3a"
                          ],
                          [
                            0.8888888888888888,
                            "#fdca26"
                          ],
                          [
                            1,
                            "#f0f921"
                          ]
                        ],
                        "type": "heatmap"
                      }
                    ],
                    "heatmapgl": [
                      {
                        "colorbar": {
                          "outlinewidth": 0,
                          "ticks": ""
                        },
                        "colorscale": [
                          [
                            0,
                            "#0d0887"
                          ],
                          [
                            0.1111111111111111,
                            "#46039f"
                          ],
                          [
                            0.2222222222222222,
                            "#7201a8"
                          ],
                          [
                            0.3333333333333333,
                            "#9c179e"
                          ],
                          [
                            0.4444444444444444,
                            "#bd3786"
                          ],
                          [
                            0.5555555555555556,
                            "#d8576b"
                          ],
                          [
                            0.6666666666666666,
                            "#ed7953"
                          ],
                          [
                            0.7777777777777778,
                            "#fb9f3a"
                          ],
                          [
                            0.8888888888888888,
                            "#fdca26"
                          ],
                          [
                            1,
                            "#f0f921"
                          ]
                        ],
                        "type": "heatmapgl"
                      }
                    ],
                    "histogram": [
                      {
                        "marker": {
                          "pattern": {
                            "fillmode": "overlay",
                            "size": 10,
                            "solidity": 0.2
                          }
                        },
                        "type": "histogram"
                      }
                    ],
                    "histogram2d": [
                      {
                        "colorbar": {
                          "outlinewidth": 0,
                          "ticks": ""
                        },
                        "colorscale": [
                          [
                            0,
                            "#0d0887"
                          ],
                          [
                            0.1111111111111111,
                            "#46039f"
                          ],
                          [
                            0.2222222222222222,
                            "#7201a8"
                          ],
                          [
                            0.3333333333333333,
                            "#9c179e"
                          ],
                          [
                            0.4444444444444444,
                            "#bd3786"
                          ],
                          [
                            0.5555555555555556,
                            "#d8576b"
                          ],
                          [
                            0.6666666666666666,
                            "#ed7953"
                          ],
                          [
                            0.7777777777777778,
                            "#fb9f3a"
                          ],
                          [
                            0.8888888888888888,
                            "#fdca26"
                          ],
                          [
                            1,
                            "#f0f921"
                          ]
                        ],
                        "type": "histogram2d"
                      }
                    ],
                    "histogram2dcontour": [
                      {
                        "colorbar": {
                          "outlinewidth": 0,
                          "ticks": ""
                        },
                        "colorscale": [
                          [
                            0,
                            "#0d0887"
                          ],
                          [
                            0.1111111111111111,
                            "#46039f"
                          ],
                          [
                            0.2222222222222222,
                            "#7201a8"
                          ],
                          [
                            0.3333333333333333,
                            "#9c179e"
                          ],
                          [
                            0.4444444444444444,
                            "#bd3786"
                          ],
                          [
                            0.5555555555555556,
                            "#d8576b"
                          ],
                          [
                            0.6666666666666666,
                            "#ed7953"
                          ],
                          [
                            0.7777777777777778,
                            "#fb9f3a"
                          ],
                          [
                            0.8888888888888888,
                            "#fdca26"
                          ],
                          [
                            1,
                            "#f0f921"
                          ]
                        ],
                        "type": "histogram2dcontour"
                      }
                    ],
                    "mesh3d": [
                      {
                        "colorbar": {
                          "outlinewidth": 0,
                          "ticks": ""
                        },
                        "type": "mesh3d"
                      }
                    ],
                    "parcoords": [
                      {
                        "line": {
                          "colorbar": {
                            "outlinewidth": 0,
                            "ticks": ""
                          }
                        },
                        "type": "parcoords"
                      }
                    ],
                    "pie": [
                      {
                        "automargin": true,
                        "type": "pie"
                      }
                    ],
                    "scatter": [
                      {
                        "marker": {
                          "colorbar": {
                            "outlinewidth": 0,
                            "ticks": ""
                          }
                        },
                        "type": "scatter"
                      }
                    ],
                    "scatter3d": [
                      {
                        "line": {
                          "colorbar": {
                            "outlinewidth": 0,
                            "ticks": ""
                          }
                        },
                        "marker": {
                          "colorbar": {
                            "outlinewidth": 0,
                            "ticks": ""
                          }
                        },
                        "type": "scatter3d"
                      }
                    ],
                    "scattercarpet": [
                      {
                        "marker": {
                          "colorbar": {
                            "outlinewidth": 0,
                            "ticks": ""
                          }
                        },
                        "type": "scattercarpet"
                      }
                    ],
                    "scattergeo": [
                      {
                        "marker": {
                          "colorbar": {
                            "outlinewidth": 0,
                            "ticks": ""
                          }
                        },
                        "type": "scattergeo"
                      }
                    ],
                    "scattergl": [
                      {
                        "marker": {
                          "colorbar": {
                            "outlinewidth": 0,
                            "ticks": ""
                          }
                        },
                        "type": "scattergl"
                      }
                    ],
                    "scattermapbox": [
                      {
                        "marker": {
                          "colorbar": {
                            "outlinewidth": 0,
                            "ticks": ""
                          }
                        },
                        "type": "scattermapbox"
                      }
                    ],
                    "scatterpolar": [
                      {
                        "marker": {
                          "colorbar": {
                            "outlinewidth": 0,
                            "ticks": ""
                          }
                        },
                        "type": "scatterpolar"
                      }
                    ],
                    "scatterpolargl": [
                      {
                        "marker": {
                          "colorbar": {
                            "outlinewidth": 0,
                            "ticks": ""
                          }
                        },
                        "type": "scatterpolargl"
                      }
                    ],
                    "scatterternary": [
                      {
                        "marker": {
                          "colorbar": {
                            "outlinewidth": 0,
                            "ticks": ""
                          }
                        },
                        "type": "scatterternary"
                      }
                    ],
                    "surface": [
                      {
                        "colorbar": {
                          "outlinewidth": 0,
                          "ticks": ""
                        },
                        "colorscale": [
                          [
                            0,
                            "#0d0887"
                          ],
                          [
                            0.1111111111111111,
                            "#46039f"
                          ],
                          [
                            0.2222222222222222,
                            "#7201a8"
                          ],
                          [
                            0.3333333333333333,
                            "#9c179e"
                          ],
                          [
                            0.4444444444444444,
                            "#bd3786"
                          ],
                          [
                            0.5555555555555556,
                            "#d8576b"
                          ],
                          [
                            0.6666666666666666,
                            "#ed7953"
                          ],
                          [
                            0.7777777777777778,
                            "#fb9f3a"
                          ],
                          [
                            0.8888888888888888,
                            "#fdca26"
                          ],
                          [
                            1,
                            "#f0f921"
                          ]
                        ],
                        "type": "surface"
                      }
                    ],
                    "table": [
                      {
                        "cells": {
                          "fill": {
                            "color": "#EBF0F8"
                          },
                          "line": {
                            "color": "white"
                          }
                        },
                        "header": {
                          "fill": {
                            "color": "#C8D4E3"
                          },
                          "line": {
                            "color": "white"
                          }
                        },
                        "type": "table"
                      }
                    ]
                  },
                  "layout": {
                    "annotationdefaults": {
                      "arrowcolor": "#2a3f5f",
                      "arrowhead": 0,
                      "arrowwidth": 1
                    },
                    "autotypenumbers": "strict",
                    "coloraxis": {
                      "colorbar": {
                        "outlinewidth": 0,
                        "ticks": ""
                      }
                    },
                    "colorscale": {
                      "diverging": [
                        [
                          0,
                          "#8e0152"
                        ],
                        [
                          0.1,
                          "#c51b7d"
                        ],
                        [
                          0.2,
                          "#de77ae"
                        ],
                        [
                          0.3,
                          "#f1b6da"
                        ],
                        [
                          0.4,
                          "#fde0ef"
                        ],
                        [
                          0.5,
                          "#f7f7f7"
                        ],
                        [
                          0.6,
                          "#e6f5d0"
                        ],
                        [
                          0.7,
                          "#b8e186"
                        ],
                        [
                          0.8,
                          "#7fbc41"
                        ],
                        [
                          0.9,
                          "#4d9221"
                        ],
                        [
                          1,
                          "#276419"
                        ]
                      ],
                      "sequential": [
                        [
                          0,
                          "#0d0887"
                        ],
                        [
                          0.1111111111111111,
                          "#46039f"
                        ],
                        [
                          0.2222222222222222,
                          "#7201a8"
                        ],
                        [
                          0.3333333333333333,
                          "#9c179e"
                        ],
                        [
                          0.4444444444444444,
                          "#bd3786"
                        ],
                        [
                          0.5555555555555556,
                          "#d8576b"
                        ],
                        [
                          0.6666666666666666,
                          "#ed7953"
                        ],
                        [
                          0.7777777777777778,
                          "#fb9f3a"
                        ],
                        [
                          0.8888888888888888,
                          "#fdca26"
                        ],
                        [
                          1,
                          "#f0f921"
                        ]
                      ],
                      "sequentialminus": [
                        [
                          0,
                          "#0d0887"
                        ],
                        [
                          0.1111111111111111,
                          "#46039f"
                        ],
                        [
                          0.2222222222222222,
                          "#7201a8"
                        ],
                        [
                          0.3333333333333333,
                          "#9c179e"
                        ],
                        [
                          0.4444444444444444,
                          "#bd3786"
                        ],
                        [
                          0.5555555555555556,
                          "#d8576b"
                        ],
                        [
                          0.6666666666666666,
                          "#ed7953"
                        ],
                        [
                          0.7777777777777778,
                          "#fb9f3a"
                        ],
                        [
                          0.8888888888888888,
                          "#fdca26"
                        ],
                        [
                          1,
                          "#f0f921"
                        ]
                      ]
                    },
                    "colorway": [
                      "#636efa",
                      "#EF553B",
                      "#00cc96",
                      "#ab63fa",
                      "#FFA15A",
                      "#19d3f3",
                      "#FF6692",
                      "#B6E880",
                      "#FF97FF",
                      "#FECB52"
                    ],
                    "font": {
                      "color": "#2a3f5f"
                    },
                    "geo": {
                      "bgcolor": "white",
                      "lakecolor": "white",
                      "landcolor": "#E5ECF6",
                      "showlakes": true,
                      "showland": true,
                      "subunitcolor": "white"
                    },
                    "hoverlabel": {
                      "align": "left"
                    },
                    "hovermode": "closest",
                    "mapbox": {
                      "style": "light"
                    },
                    "paper_bgcolor": "white",
                    "plot_bgcolor": "#E5ECF6",
                    "polar": {
                      "angularaxis": {
                        "gridcolor": "white",
                        "linecolor": "white",
                        "ticks": ""
                      },
                      "bgcolor": "#E5ECF6",
                      "radialaxis": {
                        "gridcolor": "white",
                        "linecolor": "white",
                        "ticks": ""
                      }
                    },
                    "scene": {
                      "xaxis": {
                        "backgroundcolor": "#E5ECF6",
                        "gridcolor": "white",
                        "gridwidth": 2,
                        "linecolor": "white",
                        "showbackground": true,
                        "ticks": "",
                        "zerolinecolor": "white"
                      },
                      "yaxis": {
                        "backgroundcolor": "#E5ECF6",
                        "gridcolor": "white",
                        "gridwidth": 2,
                        "linecolor": "white",
                        "showbackground": true,
                        "ticks": "",
                        "zerolinecolor": "white"
                      },
                      "zaxis": {
                        "backgroundcolor": "#E5ECF6",
                        "gridcolor": "white",
                        "gridwidth": 2,
                        "linecolor": "white",
                        "showbackground": true,
                        "ticks": "",
                        "zerolinecolor": "white"
                      }
                    },
                    "shapedefaults": {
                      "line": {
                        "color": "#2a3f5f"
                      }
                    },
                    "ternary": {
                      "aaxis": {
                        "gridcolor": "white",
                        "linecolor": "white",
                        "ticks": ""
                      },
                      "baxis": {
                        "gridcolor": "white",
                        "linecolor": "white",
                        "ticks": ""
                      },
                      "bgcolor": "#E5ECF6",
                      "caxis": {
                        "gridcolor": "white",
                        "linecolor": "white",
                        "ticks": ""
                      }
                    },
                    "title": {
                      "x": 0.05
                    },
                    "xaxis": {
                      "automargin": true,
                      "gridcolor": "white",
                      "linecolor": "white",
                      "ticks": "",
                      "title": {
                        "standoff": 15
                      },
                      "zerolinecolor": "white",
                      "zerolinewidth": 2
                    },
                    "yaxis": {
                      "automargin": true,
                      "gridcolor": "white",
                      "linecolor": "white",
                      "ticks": "",
                      "title": {
                        "standoff": 15
                      },
                      "zerolinecolor": "white",
                      "zerolinewidth": 2
                    }
                  }
                },
                "title": {
                  "text": "Hyperparameter Importances"
                },
                "xaxis": {
                  "title": {
                    "text": "Importance for Objective Value"
                  }
                },
                "yaxis": {
                  "title": {
                    "text": "Hyperparameter"
                  }
                }
              }
            }
          },
          "metadata": {},
          "output_type": "display_data"
        }
      ],
      "source": [
        "#Visualize parameter importances.\n",
        "optuna.visualization.plot_param_importances(study)"
      ]
    },
    {
      "cell_type": "markdown",
      "metadata": {
        "id": "0h12pNBgFY5Z"
      },
      "source": [
        "Finally, we get a list of our optimal hyperparameters and then train the final model with it"
      ]
    },
    {
      "cell_type": "code",
      "execution_count": null,
      "metadata": {
        "id": "5-QmFLEdFY5Z",
        "outputId": "c6dbeb9e-828e-4898-faa1-3be28f15ffa8"
      },
      "outputs": [
        {
          "data": {
            "text/plain": [
              "{'lambda': 0.09630183514147887,\n",
              " 'alpha': 0.0036670421329471573,\n",
              " 'colsample_bytree': 0.7,\n",
              " 'subsample': 1.0,\n",
              " 'learning_rate': 0.018,\n",
              " 'max_depth': 9,\n",
              " 'random_state': 2020,\n",
              " 'min_child_weight': 136,\n",
              " 'n_estimators': 10000,\n",
              " 'tree_method': 'auto'}"
            ]
          },
          "execution_count": 70,
          "metadata": {},
          "output_type": "execute_result"
        }
      ],
      "source": [
        "Best_trial = study.best_trial.params\n",
        "Best_trial[\"n_estimators\"], Best_trial[\"tree_method\"] = 10000, 'auto'\n",
        "Best_trial"
      ]
    },
    {
      "cell_type": "code",
      "execution_count": null,
      "metadata": {
        "id": "dILz0b4aFY5Z",
        "outputId": "283ca009-16e2-4966-9eef-2127b54d711e"
      },
      "outputs": [
        {
          "name": "stderr",
          "output_type": "stream",
          "text": [
            "c:\\Users\\ibola\\anaconda3\\lib\\site-packages\\xgboost\\sklearn.py:1224: UserWarning:\n",
            "\n",
            "The use of label encoder in XGBClassifier is deprecated and will be removed in a future release. To remove this warning, do the following: 1) Pass option use_label_encoder=False when constructing XGBClassifier object; and 2) Encode your labels (y) as integers starting with 0, i.e. 0, 1, 2, ..., [num_class - 1].\n",
            "\n",
            "c:\\Users\\ibola\\anaconda3\\lib\\site-packages\\xgboost\\data.py:250: FutureWarning:\n",
            "\n",
            "pandas.Int64Index is deprecated and will be removed from pandas in a future version. Use pandas.Index with the appropriate dtype instead.\n",
            "\n"
          ]
        },
        {
          "name": "stdout",
          "output_type": "stream",
          "text": [
            "[18:19:22] WARNING: C:\\Windows\\Temp\\abs_557yfx631l\\croots\\recipe\\xgboost-split_1659548953302\\work\\src\\learner.cc:1115: Starting in XGBoost 1.3.0, the default evaluation metric used with the objective 'binary:logistic' was changed from 'error' to 'logloss'. Explicitly set eval_metric if you'd like to restore the old behavior.\n",
            "0.6875333247369244\n"
          ]
        }
      ],
      "source": [
        "X_train, X_test, y_train, y_test = train_test_split(transformed_df_log, y, test_size=0.2, stratify=y)\n",
        "model = xgb.XGBClassifier(**Best_trial)\n",
        "model.fit(X_train, y_train)\n",
        "y_pred = model.predict_proba(X_test)\n",
        "print(log_loss(y_test, y_pred))"
      ]
    },
    {
      "cell_type": "code",
      "execution_count": null,
      "metadata": {
        "id": "YIDuMCJ3FY5a"
      },
      "outputs": [],
      "source": [
        "sub_file = pd.DataFrame(model.predict_proba(transformed_test_log))"
      ]
    },
    {
      "cell_type": "code",
      "execution_count": null,
      "metadata": {
        "id": "KUaThtmUFY5a"
      },
      "outputs": [],
      "source": [
        "def pred(value):\n",
        "    if value>= 0.5:\n",
        "        return 1\n",
        "    else:\n",
        "        return 0"
      ]
    },
    {
      "cell_type": "code",
      "execution_count": null,
      "metadata": {
        "id": "pF7blNA_FY5a"
      },
      "outputs": [],
      "source": [
        "sub_file['OUTCOME'] = sub_file[0].apply(lambda x: pred(x))\n",
        "sub_file.drop(columns=[0, 1], inplace=True)\n",
        "sub_file.to_csv('baseline3.csv')"
      ]
    },
    {
      "cell_type": "markdown",
      "metadata": {
        "id": "d-s8wNL_FY5a"
      },
      "source": [
        " <span style=\"color:red\">I was able to get rid of overfitting eventually and scored 0.69 on the validaton set, at this time of submission, I was 65th on the leaderboard, the first has a score of 0.68</span>\n",
        " \n",
        " \n",
        " I will also keep trying to make my score better, hopefully before the deadline"
      ]
    },
    {
      "cell_type": "markdown",
      "metadata": {
        "id": "UASfXZLVFY5a"
      },
      "source": [
        "\n",
        "Great! That wraps up our prediction on the Insurance claim!\n",
        "\n",
        "# Conclusion\n",
        "Hope you've enjoyed this journey with me.\n",
        "\n",
        "There are so many differing methodologies out there, and this one is mine.\n",
        "\n",
        "There's probably several areas in this notebook that could have been improved upon but I wish I had more time to dive deeper into.\n",
        "\n",
        "If you have a better suggestion on how one could improve the model, feel free to comment! I'm always open to constructive feedback on improving my work.\n",
        "\n",
        "-----\n",
        "\n",
        "### About the Author\n",
        "\n",
        "Hi, I'm Bola, a passionate data scientist, understanding the world through data and models.\n",
        "\n",
        "I may be available for Data Science work and more, please feel free to leave me an email here (no spam please!): ibolarinwa606@gmail.com\n",
        "\n",
        "Let's chat more if we're a good fit. Don't overfit! ;)\n",
        "\n",
        "Always learning."
      ]
    }
  ],
  "metadata": {
    "kernelspec": {
      "display_name": "Python 3.9.12 ('base')",
      "language": "python",
      "name": "python3"
    },
    "language_info": {
      "codemirror_mode": {
        "name": "ipython",
        "version": 3
      },
      "file_extension": ".py",
      "mimetype": "text/x-python",
      "name": "python",
      "nbconvert_exporter": "python",
      "pygments_lexer": "ipython3",
      "version": "3.9.12"
    },
    "orig_nbformat": 4,
    "vscode": {
      "interpreter": {
        "hash": "4c9717a643be63f4f38f5f18f4074df31e02aa130188a32047ab995b57fa4b88"
      }
    },
    "colab": {
      "provenance": []
    }
  },
  "nbformat": 4,
  "nbformat_minor": 0
}